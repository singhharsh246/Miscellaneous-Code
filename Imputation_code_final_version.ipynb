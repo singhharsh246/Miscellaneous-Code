{
  "nbformat": 4,
  "nbformat_minor": 0,
  "metadata": {
    "colab": {
      "name": "Imputation_code_final_version.ipynb",
      "provenance": [],
      "collapsed_sections": [],
      "authorship_tag": "ABX9TyP6OV2zRQqzGj5fycFI+VIg",
      "include_colab_link": true
    },
    "kernelspec": {
      "name": "python3",
      "display_name": "Python 3"
    },
    "language_info": {
      "name": "python"
    }
  },
  "cells": [
    {
      "cell_type": "markdown",
      "metadata": {
        "id": "view-in-github",
        "colab_type": "text"
      },
      "source": [
        "<a href=\"https://colab.research.google.com/github/singhharsh246/Miscellaneous-Code/blob/main/Imputation_code_final_version.ipynb\" target=\"_parent\"><img src=\"https://colab.research.google.com/assets/colab-badge.svg\" alt=\"Open In Colab\"/></a>"
      ]
    },
    {
      "cell_type": "code",
      "execution_count": null,
      "metadata": {
        "id": "rZV6XPMBpBiG"
      },
      "outputs": [],
      "source": [
        "import pandas as pd\n",
        "import numpy as np\n",
        "import matplotlib.pyplot as plt\n",
        "import seaborn as sns\n",
        "from statistics import mean\n",
        "import matplotlib.pyplot as plt\n",
        "from matplotlib import pyplot\n",
        "from datetime import datetime\n",
        "import numpy as np\n",
        "import matplotlib.pyplot as plt  # To visualize\n",
        "import pandas as pd  # To read data\n",
        "from sklearn.linear_model import LinearRegression\n",
        "import statsmodels.api as sm\n",
        "from scipy import stats\n",
        "import sklearn\n",
        "from sklearn.preprocessing import PolynomialFeatures\n",
        "import missingno as mi\n",
        "from sklearn.linear_model import LogisticRegression\n",
        "from statsmodels.stats.anova import anova_lm\n",
        "import random\n",
        "from statsmodels.formula.api import ols\n",
        "import xgboost as xgb\n",
        "from sklearn.metrics import mean_squared_error\n",
        "from sklearn import linear_model\n",
        "from sklearn.model_selection import cross_val_score\n",
        "from sklearn.model_selection import train_test_split\n",
        "from sklearn.model_selection import RepeatedKFold\n",
        "import statistics\n",
        "from sklearn.metrics import confusion_matrix\n",
        "from yellowbrick.datasets import load_concrete\n",
        "from yellowbrick.regressor import AlphaSelection\n",
        "from sklearn.metrics import confusion_matrix\n",
        "from sklearn.ensemble import RandomForestClassifier\n",
        "import xgboost as xgb\n",
        "import shap\n",
        "from datetime import date\n",
        "\n",
        "import pandas as pd\n",
        "import numpy as np\n",
        "\n",
        "import holoviews as hv\n",
        "import plotly.graph_objects as go\n",
        "import plotly.express as pex\n",
        "\n",
        "import os\n",
        "import re\n",
        "\n",
        "from patsy import dmatrices\n",
        "from statsmodels.stats.outliers_influence import variance_inflation_factor\n",
        "\n",
        "from sklearn.model_selection import train_test_split\n",
        "import statsmodels.formula.api as smf\n",
        "from sklearn.linear_model import LassoCV, Lasso\n",
        "from sklearn.model_selection import GridSearchCV, KFold\n",
        "\n",
        "import xgboost as xgb\n",
        "from sklearn.preprocessing import StandardScaler\n",
        "\n",
        "from sklearn.feature_selection import RFE\n",
        "\n",
        "import xgboost as xgb"
      ]
    },
    {
      "cell_type": "code",
      "source": [
        "from google.colab import drive\n",
        "\n",
        "drive.mount(\"/content/drive\")"
      ],
      "metadata": {
        "colab": {
          "base_uri": "https://localhost:8080/"
        },
        "id": "IXezs2X0pfRn",
        "outputId": "ad39f4c2-27cf-4c69-ab79-9cd1e964f343"
      },
      "execution_count": null,
      "outputs": [
        {
          "output_type": "stream",
          "name": "stdout",
          "text": [
            "Mounted at /content/drive\n"
          ]
        }
      ]
    },
    {
      "cell_type": "code",
      "source": [
        "driver = pd.read_csv('/content/drive/Shareddrives/KQED_Practicum/EDA_Phase3_Jan_2022/KQED REFINED Data - MERGED files/driver_df_final_PIT2018_updated_jan31.csv')"
      ],
      "metadata": {
        "colab": {
          "base_uri": "https://localhost:8080/"
        },
        "id": "n_p6deHppbyD",
        "outputId": "7a675ffb-1510-4196-b2b5-3eee86899901"
      },
      "execution_count": null,
      "outputs": [
        {
          "output_type": "stream",
          "name": "stderr",
          "text": [
            "Columns (2) have mixed types.Specify dtype option on import or set low_memory=False.\n"
          ]
        }
      ]
    },
    {
      "cell_type": "code",
      "source": [
        "driver2.info()"
      ],
      "metadata": {
        "colab": {
          "base_uri": "https://localhost:8080/"
        },
        "id": "7dTM1uNLpcem",
        "outputId": "5a687955-5e0a-4a65-9b85-58280e556f90"
      },
      "execution_count": null,
      "outputs": [
        {
          "output_type": "stream",
          "name": "stdout",
          "text": [
            "<class 'pandas.core.frame.DataFrame'>\n",
            "RangeIndex: 278388 entries, 0 to 278387\n",
            "Data columns (total 27 columns):\n",
            " #   Column                                Non-Null Count   Dtype  \n",
            "---  ------                                --------------   -----  \n",
            " 0   ROI_ID                                278388 non-null  int64  \n",
            " 1   ROI_FAMILY_ID                         278388 non-null  int64  \n",
            " 2   ZIPCODE                               276698 non-null  object \n",
            " 3   CURRENT_AGE                           191472 non-null  float64\n",
            " 4   GENDER                                151254 non-null  object \n",
            " 5   DO_NOT_CONTACT                        278388 non-null  object \n",
            " 6   ADDRESS_CONTACT_STATUS                278388 non-null  object \n",
            " 7   FIRST_GIFT_DATE                       278289 non-null  object \n",
            " 8   FIRST_GIFT_AMOUNT                     278289 non-null  float64\n",
            " 9   MRC_DATE                              278289 non-null  object \n",
            " 10  MRC_AMOUNT                            278289 non-null  float64\n",
            " 11  MEMBERSHIP_JOIN_DATE                  278388 non-null  object \n",
            " 12  MEMBERSHIP_RENEWAL_DATE               278388 non-null  object \n",
            " 13  MEMBERSHIP_TYPE                       278388 non-null  object \n",
            " 14  STATUS                                278388 non-null  object \n",
            " 15  MEMBERSHIP_DURATION                   278388 non-null  int64  \n",
            " 16  MEMBERSHIP_JOIN_YEAR                  278388 non-null  int64  \n",
            " 17  AGE_AT_MEMBERSHIP                     191472 non-null  float64\n",
            " 18  MRC_YEAR                              278289 non-null  float64\n",
            " 19  FIRST_GIFT_YEAR                       278289 non-null  float64\n",
            " 20  MEMBERSHIP_RENEWAL_YEAR               278388 non-null  int64  \n",
            " 21  Churn                                 278388 non-null  float64\n",
            " 22  TOTAL_TRANSACTIONS_MADE               278388 non-null  float64\n",
            " 23  TOTAL_TRANSACTIONS_AMOUNT             278388 non-null  float64\n",
            " 24  TOTAL_TRANSACTIONS_MADE_UNTIL_2018    278289 non-null  float64\n",
            " 25  TOTAL_TRANSACTIONS_AMOUNT_UNTIL_2018  278289 non-null  float64\n",
            " 26  AGE_AT_2018                           191472 non-null  float64\n",
            "dtypes: float64(12), int64(5), object(10)\n",
            "memory usage: 57.3+ MB\n"
          ]
        }
      ]
    },
    {
      "cell_type": "code",
      "source": [
        "## Imputing gender ##"
      ],
      "metadata": {
        "id": "f7pfoTAvuDNC"
      },
      "execution_count": null,
      "outputs": []
    },
    {
      "cell_type": "code",
      "source": [
        "xgb_regressor = xgb.XGBRegressor(max_iter=10000, tol=0.0001, max_depth=10, learning_rate=0.0300000012)\n",
        "\n",
        "z_columns = ['ZIPCODE', 'DO_NOT_CONTACT', 'ADDRESS_CONTACT_STATUS', 'MRC_AMOUNT', 'TOTAL_TRANSACTIONS_MADE', 'Churn', 'MEMBERSHIP_TYPE', 'MEMBERSHIP_DURATION', 'CURRENT_AGE', 'MEMBERSHIP_JOIN_YEAR', 'TOTAL_TRANSACTIONS_AMOUNT', 'GENDER']\n",
        "\n",
        "xx = driver[z_columns] \n",
        "\n",
        "### scaling the data ###\n",
        "\n",
        "xx['MRC_AMOUNT'] = (xx['MRC_AMOUNT']-xx['MRC_AMOUNT'].mean())/xx['MRC_AMOUNT'].std()\n",
        "xx['CURRENT_AGE'] = (xx['CURRENT_AGE']-xx['CURRENT_AGE'].mean())/xx['CURRENT_AGE'].std()\n",
        "xx['TOTAL_TRANSACTIONS_MADE'] = (xx['TOTAL_TRANSACTIONS_MADE']-xx['TOTAL_TRANSACTIONS_MADE'].mean())/xx['TOTAL_TRANSACTIONS_MADE'].std()\n",
        "xx['MEMBERSHIP_DURATION'] = (xx['MEMBERSHIP_DURATION']-xx['MEMBERSHIP_DURATION'].mean())/xx['MEMBERSHIP_DURATION'].std()\n",
        "\n",
        "xx['DO_NOT_CONTACT'] = list(1 if i == 'Y' else 0 for i in list(xx['DO_NOT_CONTACT']))\n",
        "xx['ADDRESS_CONTACT_STATUS'] = list(1 if i == 'Y' else 0 for i in list(xx['ADDRESS_CONTACT_STATUS']))\n",
        "\n",
        "\n",
        "xx = xx[pd.isna(xx['GENDER'])]\n",
        "\n",
        "columns = ['DO_NOT_CONTACT', 'ADDRESS_CONTACT_STATUS', 'MRC_AMOUNT', 'TOTAL_TRANSACTIONS_MADE', 'Churn', 'MEMBERSHIP_DURATION', 'TOTAL_TRANSACTIONS_AMOUNT']\n",
        "\n",
        "\n",
        "X = xx[columns]\n",
        "Y = xx['GENDER']\n",
        "\n",
        "\n",
        "from sklearn.model_selection import train_test_split\n",
        "X_train, X_test, y_train, y_test = train_test_split(X, Y, test_size=0.20)\n",
        "\n",
        "\n",
        "xgb_regressor.fit(X_train,y_train)\n",
        "\n",
        "prediction = xgb_regressor.predict(X)\n",
        "prediction = list(1 if i > 0.60 else 0 for i in list(prediction))"
      ],
      "metadata": {
        "colab": {
          "base_uri": "https://localhost:8080/"
        },
        "id": "xKsqg6E3pc7f",
        "outputId": "afb4c72c-acee-4033-b001-169c034a7790"
      },
      "execution_count": null,
      "outputs": [
        {
          "output_type": "stream",
          "name": "stderr",
          "text": [
            "\n",
            "A value is trying to be set on a copy of a slice from a DataFrame.\n",
            "Try using .loc[row_indexer,col_indexer] = value instead\n",
            "\n",
            "See the caveats in the documentation: https://pandas.pydata.org/pandas-docs/stable/user_guide/indexing.html#returning-a-view-versus-a-copy\n",
            "\n",
            "A value is trying to be set on a copy of a slice from a DataFrame.\n",
            "Try using .loc[row_indexer,col_indexer] = value instead\n",
            "\n",
            "See the caveats in the documentation: https://pandas.pydata.org/pandas-docs/stable/user_guide/indexing.html#returning-a-view-versus-a-copy\n",
            "\n",
            "A value is trying to be set on a copy of a slice from a DataFrame.\n",
            "Try using .loc[row_indexer,col_indexer] = value instead\n",
            "\n",
            "See the caveats in the documentation: https://pandas.pydata.org/pandas-docs/stable/user_guide/indexing.html#returning-a-view-versus-a-copy\n",
            "\n",
            "A value is trying to be set on a copy of a slice from a DataFrame.\n",
            "Try using .loc[row_indexer,col_indexer] = value instead\n",
            "\n",
            "See the caveats in the documentation: https://pandas.pydata.org/pandas-docs/stable/user_guide/indexing.html#returning-a-view-versus-a-copy\n",
            "\n",
            "A value is trying to be set on a copy of a slice from a DataFrame.\n",
            "Try using .loc[row_indexer,col_indexer] = value instead\n",
            "\n",
            "See the caveats in the documentation: https://pandas.pydata.org/pandas-docs/stable/user_guide/indexing.html#returning-a-view-versus-a-copy\n",
            "\n",
            "A value is trying to be set on a copy of a slice from a DataFrame.\n",
            "Try using .loc[row_indexer,col_indexer] = value instead\n",
            "\n",
            "See the caveats in the documentation: https://pandas.pydata.org/pandas-docs/stable/user_guide/indexing.html#returning-a-view-versus-a-copy\n"
          ]
        },
        {
          "output_type": "stream",
          "name": "stdout",
          "text": [
            "[05:02:56] WARNING: /workspace/src/objective/regression_obj.cu:152: reg:linear is now deprecated in favor of reg:squarederror.\n"
          ]
        }
      ]
    },
    {
      "cell_type": "code",
      "source": [
        "prediction = list(\"MALE\" if i == 1 else \"FEMALE\" for i in prediction)\n",
        "driver.loc[pd.isna(driver['GENDER']), 'GENDER'] = prediction"
      ],
      "metadata": {
        "id": "UhDji584pdXI"
      },
      "execution_count": null,
      "outputs": []
    },
    {
      "cell_type": "markdown",
      "source": [
        "Imputing age "
      ],
      "metadata": {
        "id": "WTgyUxnZuJCf"
      }
    },
    {
      "cell_type": "code",
      "source": [
        "z_columns = ['ZIPCODE', 'DO_NOT_CONTACT', 'ADDRESS_CONTACT_STATUS', 'MRC_AMOUNT', 'TOTAL_TRANSACTIONS_MADE', 'Churn', 'MEMBERSHIP_TYPE', 'MEMBERSHIP_DURATION', 'CURRENT_AGE', 'MEMBERSHIP_JOIN_YEAR', 'TOTAL_TRANSACTIONS_AMOUNT', 'GENDER']\n",
        "\n",
        "xx = driver[z_columns] \n",
        "\n",
        "### scaling the data ###\n",
        "\n",
        "xx['MRC_AMOUNT'] = (xx['MRC_AMOUNT']-xx['MRC_AMOUNT'].mean())/xx['MRC_AMOUNT'].std()\n",
        "xx['CURRENT_AGE'] = (xx['CURRENT_AGE']-xx['CURRENT_AGE'].mean())/xx['CURRENT_AGE'].std()\n",
        "xx['TOTAL_TRANSACTIONS_MADE'] = (xx['TOTAL_TRANSACTIONS_MADE']-xx['TOTAL_TRANSACTIONS_MADE'].mean())/xx['TOTAL_TRANSACTIONS_MADE'].std()\n",
        "xx['MEMBERSHIP_DURATION'] = (xx['MEMBERSHIP_DURATION']-xx['MEMBERSHIP_DURATION'].mean())/xx['MEMBERSHIP_DURATION'].std()\n",
        "\n",
        "xx['DO_NOT_CONTACT'] = list(1 if i == 'Y' else 0 for i in list(xx['DO_NOT_CONTACT']))\n",
        "xx['ADDRESS_CONTACT_STATUS'] = list(1 if i == 'Y' else 0 for i in list(xx['ADDRESS_CONTACT_STATUS']))\n",
        "\n",
        "\n",
        "xx = xx[~pd.isna(xx['CURRENT_AGE'])]\n",
        "\n",
        "columns = ['DO_NOT_CONTACT', 'ADDRESS_CONTACT_STATUS', 'MRC_AMOUNT', 'TOTAL_TRANSACTIONS_MADE', 'Churn', 'MEMBERSHIP_DURATION', 'TOTAL_TRANSACTIONS_AMOUNT']\n",
        "\n",
        "\n",
        "mean_age = xx['CURRENT_AGE'].mean()\n",
        "std_age = xx['CURRENT_AGE'].std()\n",
        "\n",
        "\n",
        "X = xx[columns]\n",
        "Y = xx['CURRENT_AGE']\n",
        "\n",
        "from sklearn.model_selection import train_test_split\n",
        "X_train, X_test, y_train, y_test = train_test_split(X, Y, test_size=0.20)"
      ],
      "metadata": {
        "colab": {
          "base_uri": "https://localhost:8080/"
        },
        "id": "2Dtk2XeQpdtp",
        "outputId": "edcca9a5-60ce-49a4-d042-2611b5641c66"
      },
      "execution_count": null,
      "outputs": [
        {
          "output_type": "stream",
          "name": "stderr",
          "text": [
            "\n",
            "A value is trying to be set on a copy of a slice from a DataFrame.\n",
            "Try using .loc[row_indexer,col_indexer] = value instead\n",
            "\n",
            "See the caveats in the documentation: https://pandas.pydata.org/pandas-docs/stable/user_guide/indexing.html#returning-a-view-versus-a-copy\n",
            "\n",
            "A value is trying to be set on a copy of a slice from a DataFrame.\n",
            "Try using .loc[row_indexer,col_indexer] = value instead\n",
            "\n",
            "See the caveats in the documentation: https://pandas.pydata.org/pandas-docs/stable/user_guide/indexing.html#returning-a-view-versus-a-copy\n",
            "\n",
            "A value is trying to be set on a copy of a slice from a DataFrame.\n",
            "Try using .loc[row_indexer,col_indexer] = value instead\n",
            "\n",
            "See the caveats in the documentation: https://pandas.pydata.org/pandas-docs/stable/user_guide/indexing.html#returning-a-view-versus-a-copy\n",
            "\n",
            "A value is trying to be set on a copy of a slice from a DataFrame.\n",
            "Try using .loc[row_indexer,col_indexer] = value instead\n",
            "\n",
            "See the caveats in the documentation: https://pandas.pydata.org/pandas-docs/stable/user_guide/indexing.html#returning-a-view-versus-a-copy\n",
            "\n",
            "A value is trying to be set on a copy of a slice from a DataFrame.\n",
            "Try using .loc[row_indexer,col_indexer] = value instead\n",
            "\n",
            "See the caveats in the documentation: https://pandas.pydata.org/pandas-docs/stable/user_guide/indexing.html#returning-a-view-versus-a-copy\n",
            "\n",
            "A value is trying to be set on a copy of a slice from a DataFrame.\n",
            "Try using .loc[row_indexer,col_indexer] = value instead\n",
            "\n",
            "See the caveats in the documentation: https://pandas.pydata.org/pandas-docs/stable/user_guide/indexing.html#returning-a-view-versus-a-copy\n"
          ]
        }
      ]
    },
    {
      "cell_type": "code",
      "source": [
        "xgb_regressor = xgb.XGBRegressor(max_iter=10000, tol=0.0001, max_depth=10, learning_rate=0.0300000012)\n",
        "xgb_regressor.fit(X_train,y_train)\n",
        "preds = xgb_regressor.predict(X_test)\n",
        "rmse = np.sqrt(mean_squared_error(y_test, preds))\n",
        "print(\"RMSE: %f\" % (rmse))"
      ],
      "metadata": {
        "colab": {
          "base_uri": "https://localhost:8080/"
        },
        "id": "4S3YZ0WUpeFu",
        "outputId": "dde878d4-3bde-4b8f-c6c5-40fef4db7755"
      },
      "execution_count": null,
      "outputs": [
        {
          "output_type": "stream",
          "name": "stdout",
          "text": [
            "[05:06:00] WARNING: /workspace/src/objective/regression_obj.cu:152: reg:linear is now deprecated in favor of reg:squarederror.\n",
            "RMSE: 0.850496\n"
          ]
        }
      ]
    },
    {
      "cell_type": "code",
      "source": [
        "z_columns = ['ZIPCODE', 'DO_NOT_CONTACT', 'ADDRESS_CONTACT_STATUS', 'MRC_AMOUNT', 'TOTAL_TRANSACTIONS_MADE', 'Churn', 'MEMBERSHIP_TYPE', 'MEMBERSHIP_DURATION', 'CURRENT_AGE', 'MEMBERSHIP_JOIN_YEAR', 'TOTAL_TRANSACTIONS_AMOUNT', 'GENDER']\n",
        "\n",
        "xx_z = driver[z_columns] \n",
        "mean_age = xx_z['CURRENT_AGE'].mean()\n",
        "std_age = xx_z['CURRENT_AGE'].std()\n",
        "\n",
        "xx = driver[z_columns] \n",
        "\n",
        "### scaling the data ###\n",
        "\n",
        "xx['MRC_AMOUNT'] = (xx['MRC_AMOUNT']-xx['MRC_AMOUNT'].mean())/xx['MRC_AMOUNT'].std()\n",
        "xx['CURRENT_AGE'] = (xx['CURRENT_AGE']-xx['CURRENT_AGE'].mean())/xx['CURRENT_AGE'].std()\n",
        "xx['TOTAL_TRANSACTIONS_MADE'] = (xx['TOTAL_TRANSACTIONS_MADE']-xx['TOTAL_TRANSACTIONS_MADE'].mean())/xx['TOTAL_TRANSACTIONS_MADE'].std()\n",
        "xx['MEMBERSHIP_DURATION'] = (xx['MEMBERSHIP_DURATION']-xx['MEMBERSHIP_DURATION'].mean())/xx['MEMBERSHIP_DURATION'].std()\n",
        "\n",
        "xx['DO_NOT_CONTACT'] = list(1 if i == 'Y' else 0 for i in list(xx['DO_NOT_CONTACT']))\n",
        "xx['ADDRESS_CONTACT_STATUS'] = list(1 if i == 'Y' else 0 for i in list(xx['ADDRESS_CONTACT_STATUS']))\n",
        "\n",
        "\n",
        "\n",
        "\n",
        "xx = xx[pd.isna(xx['CURRENT_AGE'])]\n",
        "\n",
        "columns = ['DO_NOT_CONTACT', 'ADDRESS_CONTACT_STATUS', 'MRC_AMOUNT', 'TOTAL_TRANSACTIONS_MADE', 'Churn', 'MEMBERSHIP_DURATION', 'TOTAL_TRANSACTIONS_AMOUNT']\n",
        "\n",
        "\n",
        "\n",
        "\n",
        "X = xx[columns]\n",
        "\n",
        "preds = xgb_regressor.predict(X)\n",
        "\n",
        "print(preds)\n",
        "\n",
        "preds = list(i*std_age+mean_age for i in preds)\n",
        "\n"
      ],
      "metadata": {
        "colab": {
          "base_uri": "https://localhost:8080/"
        },
        "id": "kO9qTQDduX-p",
        "outputId": "f5e678de-62a2-4140-b6bc-2ec038c0ff82"
      },
      "execution_count": null,
      "outputs": [
        {
          "output_type": "stream",
          "name": "stderr",
          "text": [
            "\n",
            "A value is trying to be set on a copy of a slice from a DataFrame.\n",
            "Try using .loc[row_indexer,col_indexer] = value instead\n",
            "\n",
            "See the caveats in the documentation: https://pandas.pydata.org/pandas-docs/stable/user_guide/indexing.html#returning-a-view-versus-a-copy\n",
            "\n",
            "A value is trying to be set on a copy of a slice from a DataFrame.\n",
            "Try using .loc[row_indexer,col_indexer] = value instead\n",
            "\n",
            "See the caveats in the documentation: https://pandas.pydata.org/pandas-docs/stable/user_guide/indexing.html#returning-a-view-versus-a-copy\n",
            "\n",
            "A value is trying to be set on a copy of a slice from a DataFrame.\n",
            "Try using .loc[row_indexer,col_indexer] = value instead\n",
            "\n",
            "See the caveats in the documentation: https://pandas.pydata.org/pandas-docs/stable/user_guide/indexing.html#returning-a-view-versus-a-copy\n",
            "\n",
            "A value is trying to be set on a copy of a slice from a DataFrame.\n",
            "Try using .loc[row_indexer,col_indexer] = value instead\n",
            "\n",
            "See the caveats in the documentation: https://pandas.pydata.org/pandas-docs/stable/user_guide/indexing.html#returning-a-view-versus-a-copy\n",
            "\n",
            "A value is trying to be set on a copy of a slice from a DataFrame.\n",
            "Try using .loc[row_indexer,col_indexer] = value instead\n",
            "\n",
            "See the caveats in the documentation: https://pandas.pydata.org/pandas-docs/stable/user_guide/indexing.html#returning-a-view-versus-a-copy\n",
            "\n",
            "A value is trying to be set on a copy of a slice from a DataFrame.\n",
            "Try using .loc[row_indexer,col_indexer] = value instead\n",
            "\n",
            "See the caveats in the documentation: https://pandas.pydata.org/pandas-docs/stable/user_guide/indexing.html#returning-a-view-versus-a-copy\n"
          ]
        },
        {
          "output_type": "stream",
          "name": "stdout",
          "text": [
            "[ 0.49150354  0.56296194  0.5583807  ... -0.54535973  0.30910653\n",
            "  0.53007877]\n"
          ]
        }
      ]
    },
    {
      "cell_type": "code",
      "source": [
        ""
      ],
      "metadata": {
        "id": "A6l1QtJFujeT"
      },
      "execution_count": null,
      "outputs": []
    },
    {
      "cell_type": "code",
      "source": [
        "driver.loc[pd.isna(driver['CURRENT_AGE']), 'CURRENT_AGE'] = preds"
      ],
      "metadata": {
        "id": "f7AL6XFpuj-V"
      },
      "execution_count": null,
      "outputs": []
    }
  ]
}