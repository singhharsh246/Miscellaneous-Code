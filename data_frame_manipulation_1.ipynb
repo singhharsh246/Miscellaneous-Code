{
 "cells": [
  {
   "cell_type": "code",
   "execution_count": 3,
   "id": "c7e9f56b",
   "metadata": {},
   "outputs": [],
   "source": [
    "import pandas as pd\n",
    "import numpy as np\n",
    "import matplotlib.pyplot as plt\n",
    "import seaborn as sns\n",
    "from statistics import mean\n",
    "import matplotlib.pyplot as plt\n",
    "from matplotlib import pyplot\n",
    "from datetime import datetime\n",
    "import numpy as np\n",
    "import matplotlib.pyplot as plt  # To visualize\n",
    "import pandas as pd  # To read data\n",
    "from sklearn.linear_model import LinearRegression\n",
    "import statsmodels.api as sm\n",
    "from scipy import stats\n",
    "import sklearn\n",
    "from sklearn.preprocessing import PolynomialFeatures\n",
    "import missingno as mi\n",
    "from sklearn.linear_model import LogisticRegression\n",
    "from statsmodels.stats.anova import anova_lm\n",
    "import random\n",
    "from statsmodels.formula.api import ols\n",
    "import xgboost as xgb\n",
    "from sklearn.metrics import mean_squared_error\n",
    "from sklearn import linear_model\n",
    "from sklearn.model_selection import cross_val_score\n",
    "from sklearn.model_selection import train_test_split\n",
    "from sklearn.model_selection import RepeatedKFold\n",
    "import statistics\n",
    "from sklearn.metrics import confusion_matrix\n",
    "from yellowbrick.datasets import load_concrete\n",
    "from yellowbrick.regressor import AlphaSelection\n",
    "from sklearn.metrics import confusion_matrix\n",
    "from sklearn.ensemble import RandomForestClassifier\n",
    "import xgboost as xgb\n",
    "import shap\n",
    "from datetime import date\n",
    "\n",
    "import pandas as pd\n",
    "import numpy as np\n",
    "\n",
    "import holoviews as hv\n",
    "import plotly.graph_objects as go\n",
    "import plotly.express as pex\n",
    "\n",
    "import re\n",
    "\n",
    "from patsy import dmatrices\n",
    "from statsmodels.stats.outliers_influence import variance_inflation_factor\n",
    "\n",
    "from sklearn.model_selection import train_test_split\n",
    "import statsmodels.formula.api as smf\n",
    "from sklearn.linear_model import LassoCV, Lasso\n",
    "from sklearn.model_selection import GridSearchCV, KFold\n",
    "\n",
    "import xgboost as xgb\n",
    "from sklearn.preprocessing import StandardScaler\n",
    "\n",
    "from sklearn.feature_selection import RFE\n",
    "import os"
   ]
  },
  {
   "cell_type": "code",
   "execution_count": 4,
   "id": "d8797b66",
   "metadata": {},
   "outputs": [
    {
     "data": {
      "text/plain": [
       "'/Users/rctrj/UCD/Winter/BAX 462/active_member_transact'"
      ]
     },
     "execution_count": 4,
     "metadata": {},
     "output_type": "execute_result"
    }
   ],
   "source": [
    "os.getcwd()"
   ]
  },
  {
   "cell_type": "code",
   "execution_count": 13,
   "id": "22bec680",
   "metadata": {},
   "outputs": [
    {
     "name": "stdout",
     "output_type": "stream",
     "text": [
      "/Users/rctrj/UCD/Winter/BAX 462/active_member_transact/Active_Transact/13UCD_KQED_ActiveMems_Trans_0715-1215-File13.csv\n",
      "/Users/rctrj/UCD/Winter/BAX 462/active_member_transact/Active_Transact/4UCD_KQED_ActiveMems_Trans_0120-0620-File4.csv\n",
      "/Users/rctrj/UCD/Winter/BAX 462/active_member_transact/Active_Transact/22UCD_KQED_ActiveMems_Trans_0111-0611-File22.csv\n",
      "/Users/rctrj/UCD/Winter/BAX 462/active_member_transact/Active_Transact/20UCD_KQED_ActiveMems_Trans_0112-0612-File20.csv\n",
      "/Users/rctrj/UCD/Winter/BAX 462/active_member_transact/Active_Transact/16UCD_KQED_ActiveMems_Trans_0114-0614-File16.csv\n",
      "/Users/rctrj/UCD/Winter/BAX 462/active_member_transact/Active_Transact/11UCD_KQED_ActiveMems_Trans_0716-1216-File11.csv\n",
      "/Users/rctrj/UCD/Winter/BAX 462/active_member_transact/Active_Transact/15UCD_KQED_ActiveMems_Trans_0714-1414-File15.csv\n",
      "/Users/rctrj/UCD/Winter/BAX 462/active_member_transact/Active_Transact/21UCD_KQED_ActiveMems_Trans_0711-1211-File21.csv\n",
      "/Users/rctrj/UCD/Winter/BAX 462/active_member_transact/Active_Transact/17UCD_KQED_ActiveMems_Trans_0713-1213-File17.csv\n",
      "/Users/rctrj/UCD/Winter/BAX 462/active_member_transact/Active_Transact/5UCD_KQED_ActiveMems_Trans_0719-1219-File5.csv\n",
      "/Users/rctrj/UCD/Winter/BAX 462/active_member_transact/Active_Transact/7UCD_KQED_ActiveMems_Trans_0718-1218-File7.csv\n",
      "/Users/rctrj/UCD/Winter/BAX 462/active_member_transact/Active_Transact/12UCD_KQED_ActiveMems_Trans_0116-0616-File12.csv\n",
      "/Users/rctrj/UCD/Winter/BAX 462/active_member_transact/Active_Transact/19UCD_KQED_ActiveMems_Trans_0712-1212-File19.csv\n",
      "/Users/rctrj/UCD/Winter/BAX 462/active_member_transact/Active_Transact/3UCD_KQED_ActiveMems_Trans_0720-1220-File3.csv\n",
      "/Users/rctrj/UCD/Winter/BAX 462/active_member_transact/Active_Transact/1UCD_KQED_ActiveMems_Trans_0721-0222-File1.csv\n",
      "/Users/rctrj/UCD/Winter/BAX 462/active_member_transact/Active_Transact/14UCD_KQED_ActiveMems_Trans_0115-0615-File14.csv\n",
      "/Users/rctrj/UCD/Winter/BAX 462/active_member_transact/Active_Transact/8UCD_KQED_ActiveMems_Trans_0118-0618-File8.csv\n",
      "/Users/rctrj/UCD/Winter/BAX 462/active_member_transact/Active_Transact/10UCD_KQED_ActiveMems_Trans_0117-0617-File10.csv\n",
      "/Users/rctrj/UCD/Winter/BAX 462/active_member_transact/Active_Transact/6UCD_KQED_ActiveMems_Trans_0119-0619-File6.csv\n"
     ]
    },
    {
     "name": "stderr",
     "output_type": "stream",
     "text": [
      "Columns (11,12) have mixed types.Specify dtype option on import or set low_memory=False.\n"
     ]
    },
    {
     "name": "stdout",
     "output_type": "stream",
     "text": [
      "/Users/rctrj/UCD/Winter/BAX 462/active_member_transact/Active_Transact/9UCD_KQED_ActiveMems_Trans_0717-1217-File9.csv\n",
      "/Users/rctrj/UCD/Winter/BAX 462/active_member_transact/Active_Transact/18UCD_KQED_ActiveMems_Trans_0113-0613-File18.csv\n",
      "/Users/rctrj/UCD/Winter/BAX 462/active_member_transact/Active_Transact/2UCD_KQED_ActiveMems_Trans_0121-0621-File2.csv\n",
      "\n",
      "\n",
      "        ROI_FAMILY_ID  TRANSACTION_ID  PAY_METHOD  \\\n",
      "0               46920         4128690  Mastercard   \n",
      "1               79251         8212078        Visa   \n",
      "2               83501         6306618        Visa   \n",
      "3               91413         4458859        Visa   \n",
      "4               92213         1944351        Visa   \n",
      "...               ...             ...         ...   \n",
      "645360       80224529          402982  Mastercard   \n",
      "645361       80224906         1160518  Mastercard   \n",
      "645362       80297253         2518577       Check   \n",
      "645363       80297434         6128434        Visa   \n",
      "645364       91075241         2869850  Mastercard   \n",
      "\n",
      "                                       SOURCE_DESCRIPTION   PROMOTION  \\\n",
      "0                       2015 May KQED FM 05/18/2015 Phone      On-Air   \n",
      "1                    2015 TV MidL R1 Email (Sep Renewals)  Membership   \n",
      "2                      2014 June KQED TV 06/08/2014 Phone      On-Air   \n",
      "3                   2015 September KQED FM 09/21/2015 Web      On-Air   \n",
      "4                 2014 September KQED FM 09/09/2014 Phone      On-Air   \n",
      "...                                                   ...         ...   \n",
      "645360     Digital Fundraising On-going Sustainer Revenue  Membership   \n",
      "645361                      2021 Generic TV Basic Renewal  Membership   \n",
      "645362  2021 TV Basic R1 Mail Multi Year (February Ren...  Membership   \n",
      "645363        TV On-Air Pledge On-going Sustainer Revenue  Membership   \n",
      "645364        Direct Marketing On-going Sustainer Revenue  Membership   \n",
      "\n",
      "                                 CAMPAIGN SOURCE_TYPE    SOURCE_SUBTYPE  \\\n",
      "0       201505 Membership FM Pledge Drive      Pledge  Recurring Pledge   \n",
      "1              201509 Membership Renewals      Pledge  Recurring Pledge   \n",
      "2       201406 Membership TV Pledge Drive      Pledge  Recurring Pledge   \n",
      "3       201509 Membership FM Pledge Drive      Pledge  Recurring Pledge   \n",
      "4       201409 Membership FM Pledge Drive      Pledge     Finite Pledge   \n",
      "...                                   ...         ...               ...   \n",
      "645360        201901 Membership Sustainer      Pledge  Recurring Pledge   \n",
      "645361         202101 Membership Renewals  Non Pledge               NaN   \n",
      "645362         202102 Membership Renewals  Non Pledge               NaN   \n",
      "645363        201901 Membership Sustainer      Pledge  Recurring Pledge   \n",
      "645364        201901 Membership Sustainer      Pledge  Recurring Pledge   \n",
      "\n",
      "       FUND_ALLOCATION CONTACT_TYPE MERCHANT_ACCOUNT  \\\n",
      "0               Annual    Telesales              NaN   \n",
      "1               Annual        Email              NaN   \n",
      "2               Annual    Telesales              NaN   \n",
      "3               Annual          Web              NaN   \n",
      "4               Annual    Telesales              NaN   \n",
      "...                ...          ...              ...   \n",
      "645360          Annual        Email              NaN   \n",
      "645361          Annual         Mail              NaN   \n",
      "645362          Annual         Mail              NaN   \n",
      "645363          Annual    Broadcast              NaN   \n",
      "645364          Annual         Mail              NaN   \n",
      "\n",
      "                             AMOUNT                   NET_AMOUNT  BATCH_DATE  \\\n",
      "0                             15.00                        15.00  10/18/2015   \n",
      "1                             30.00                        30.00  12/29/2015   \n",
      "2                             21.00                        21.00  10/08/2015   \n",
      "3                             15.00                        15.00  12/21/2015   \n",
      "4                             15.00                        15.00  08/09/2015   \n",
      "...                             ...                          ...         ...   \n",
      "645360                        30.00                        30.00  02/09/2021   \n",
      "645361                       180.00                       180.00  02/13/2021   \n",
      "645362                        60.00                        60.00  02/10/2021   \n",
      "645363                        30.00                        30.00  05/26/2021   \n",
      "645364                        30.00                        30.00  02/06/2021   \n",
      "\n",
      "                                        TRANSACTION_FLAGS ACCT_CLASS_  \\\n",
      "0              3109-304 FM Membership, on-air, Additional  Individual   \n",
      "1       3102-303 Leadership Circle E Renewal (as of FY...  Individual   \n",
      "2              3108-304 TV Membership, on-air, Additional  Individual   \n",
      "3              3109-304 FM Membership, on-air, Additional  Individual   \n",
      "4              3109-304 FM Membership, on-air, Additional  Individual   \n",
      "...                                                   ...         ...   \n",
      "645360  3149-303 Institutional Sustainer Revenue for D...  Individual   \n",
      "645361  3108-302 TV Membership Renewal, direct mail, R...  Individual   \n",
      "645362  3108-302 TV Membership Renewal, direct mail, R...  Individual   \n",
      "645363   3142-304 TV On Air Sustainer Revenue, Additional  Individual   \n",
      "645364  3149-302 Institutional Sustainer Revenue for D...  Individual   \n",
      "\n",
      "       ACCT_STATUS_                   MEMBERSHIP_ RENEWAL_DATE  \n",
      "0            Active                General Member   09/30/2021  \n",
      "1            Active  Leadership Circle Ambassador   04/30/2022  \n",
      "2            Active             Leadership Circle   03/31/2020  \n",
      "3            Active                General Member   09/30/2022  \n",
      "4            Active  Leadership Circle Ambassador   11/30/2022  \n",
      "...             ...                           ...          ...  \n",
      "645360       Active             Leadership Circle   08/31/2022  \n",
      "645361       Active             Leadership Circle   02/28/2022  \n",
      "645362       Active                General Member   02/28/2022  \n",
      "645363       Active             Leadership Circle   10/31/2022  \n",
      "645364       Active                     Mid Level   09/30/2022  \n",
      "\n",
      "[8316217 rows x 19 columns]\n"
     ]
    }
   ],
   "source": [
    "directory = '/Users/rctrj/UCD/Winter/BAX 462/active_member_transact/Active_Transact'\n",
    "\n",
    "active_tran = pd.DataFrame()\n",
    "\n",
    "# iterate over files in\n",
    "# that directory\n",
    "for filename in os.listdir(directory):\n",
    "    f1 = os.path.join(directory, filename)\n",
    "    # checking if it is a file\n",
    "    if os.path.isfile(f1):\n",
    "        df = pd.read_csv(f1)\n",
    "        active_tran = active_tran.append(df)\n",
    "        print(f1)\n",
    "        \n",
    "print(\"\\n\")\n",
    "print(active_tran)\n",
    "            "
   ]
  },
  {
   "cell_type": "code",
   "execution_count": 36,
   "id": "401857b8",
   "metadata": {},
   "outputs": [
    {
     "name": "stdout",
     "output_type": "stream",
     "text": [
      "<class 'pandas.core.frame.DataFrame'>\n",
      "Int64Index: 8316217 entries, 0 to 645364\n",
      "Data columns (total 19 columns):\n",
      " #   Column              Dtype         \n",
      "---  ------              -----         \n",
      " 0   ROI_FAMILY_ID       int64         \n",
      " 1   TRANSACTION_ID      int64         \n",
      " 2   PAY_METHOD          object        \n",
      " 3   SOURCE_DESCRIPTION  object        \n",
      " 4   PROMOTION           object        \n",
      " 5   CAMPAIGN            object        \n",
      " 6   SOURCE_TYPE         object        \n",
      " 7   SOURCE_SUBTYPE      object        \n",
      " 8   FUND_ALLOCATION     object        \n",
      " 9   CONTACT_TYPE        object        \n",
      " 10  MERCHANT_ACCOUNT    object        \n",
      " 11  AMOUNT              int64         \n",
      " 12  NET_AMOUNT          int64         \n",
      " 13  BATCH_DATE          datetime64[ns]\n",
      " 14  TRANSACTION_FLAGS   object        \n",
      " 15  ACCT_CLASS_         object        \n",
      " 16  ACCT_STATUS_        object        \n",
      " 17  MEMBERSHIP_         object        \n",
      " 18  RENEWAL_DATE        object        \n",
      "dtypes: datetime64[ns](1), int64(4), object(14)\n",
      "memory usage: 1.2+ GB\n"
     ]
    }
   ],
   "source": [
    "active_tran.info()"
   ]
  },
  {
   "cell_type": "code",
   "execution_count": null,
   "id": "2773026f",
   "metadata": {},
   "outputs": [],
   "source": []
  },
  {
   "cell_type": "code",
   "execution_count": 18,
   "id": "50e5661e",
   "metadata": {},
   "outputs": [
    {
     "data": {
      "text/plain": [
       "ROI_FAMILY_ID               0\n",
       "TRANSACTION_ID              0\n",
       "PAY_METHOD                  0\n",
       "SOURCE_DESCRIPTION          0\n",
       "PROMOTION                   0\n",
       "CAMPAIGN                    0\n",
       "SOURCE_TYPE                 0\n",
       "SOURCE_SUBTYPE        1181251\n",
       "FUND_ALLOCATION             0\n",
       "CONTACT_TYPE                0\n",
       "MERCHANT_ACCOUNT      7716916\n",
       "AMOUNT                      0\n",
       "NET_AMOUNT                  0\n",
       "BATCH_DATE                  0\n",
       "TRANSACTION_FLAGS       28661\n",
       "ACCT_CLASS_                 0\n",
       "ACCT_STATUS_                0\n",
       "MEMBERSHIP_                 0\n",
       "RENEWAL_DATE                0\n",
       "dtype: int64"
      ]
     },
     "execution_count": 18,
     "metadata": {},
     "output_type": "execute_result"
    }
   ],
   "source": [
    "active_tran.isnull().sum()"
   ]
  },
  {
   "cell_type": "code",
   "execution_count": null,
   "id": "34336348",
   "metadata": {},
   "outputs": [],
   "source": []
  },
  {
   "cell_type": "code",
   "execution_count": 25,
   "id": "ebb081d5",
   "metadata": {},
   "outputs": [],
   "source": [
    "### converting amount into integer data type ###\n",
    "\n",
    "active_tran['AMOUNT'] = list(int(re.search(r\"([\\d]+).([\\d]+)\", i).group(1)) if isinstance(i, str) else 0 for i in list(active_tran['AMOUNT']))"
   ]
  },
  {
   "cell_type": "code",
   "execution_count": 27,
   "id": "10389ce7",
   "metadata": {},
   "outputs": [],
   "source": [
    "### converting net amount into integer data type ###\n",
    "\n",
    "\n",
    "active_tran['NET_AMOUNT'] = list(int(re.search(r\"([\\d]+).([\\d]+)\", i).group(1)) if isinstance(i, str) else 0 for i in list(active_tran['NET_AMOUNT']))"
   ]
  },
  {
   "cell_type": "code",
   "execution_count": 35,
   "id": "3ea30b3f",
   "metadata": {},
   "outputs": [],
   "source": [
    "### turning batch date into datetime ###\n",
    "\n",
    "active_tran['BATCH_DATE'] = list(map(lambda x: pd.to_datetime(x), list(active_tran['BATCH_DATE'])))"
   ]
  },
  {
   "cell_type": "code",
   "execution_count": 38,
   "id": "133eb13a",
   "metadata": {},
   "outputs": [
    {
     "data": {
      "text/plain": [
       "Index(['ROI_FAMILY_ID', 'TRANSACTION_ID', 'PAY_METHOD', 'SOURCE_DESCRIPTION',\n",
       "       'PROMOTION', 'CAMPAIGN', 'SOURCE_TYPE', 'SOURCE_SUBTYPE',\n",
       "       'FUND_ALLOCATION', 'CONTACT_TYPE', 'MERCHANT_ACCOUNT', 'AMOUNT',\n",
       "       'NET_AMOUNT', 'BATCH_DATE', 'TRANSACTION_FLAGS', 'ACCT_CLASS_',\n",
       "       'ACCT_STATUS_', 'MEMBERSHIP_', 'RENEWAL_DATE'],\n",
       "      dtype='object')"
      ]
     },
     "execution_count": 38,
     "metadata": {},
     "output_type": "execute_result"
    }
   ],
   "source": [
    "active_tran.columns"
   ]
  },
  {
   "cell_type": "code",
   "execution_count": 40,
   "id": "f9775760",
   "metadata": {},
   "outputs": [],
   "source": [
    "colu = ['ROI_FAMILY_ID', 'TRANSACTION_ID', 'PAY_METHOD', 'NET_AMOUNT', 'AMOUNT', 'BATCH_DATE']\n",
    "\n",
    "active_t = active_tran.loc[:, colu]"
   ]
  },
  {
   "cell_type": "code",
   "execution_count": 41,
   "id": "be4ad88f",
   "metadata": {},
   "outputs": [
    {
     "name": "stderr",
     "output_type": "stream",
     "text": [
      "Columns (13) have mixed types.Specify dtype option on import or set low_memory=False.\n"
     ]
    }
   ],
   "source": [
    "#### lapsed member transactions ####\n",
    "\n",
    "data1 = pd.read_csv('/Users/rctrj/UCD/Winter/BAX 462/V1/UCD_KQED_Lapsed_Transactions_2010-2012.csv')\n",
    "data2 = pd.read_csv('/Users/rctrj/UCD/Winter/BAX 462/V1/UCD_KQED_Lapsed_Transactions_2013-2015.csv')\n",
    "data3 = pd.read_csv('/Users/rctrj/UCD/Winter/BAX 462/V1/UCD_KQED_Lapsed_Transactions_2016-2017.csv')\n",
    "data4 = pd.read_csv('/Users/rctrj/UCD/Winter/BAX 462/V1/UCD_KQED_Lapsed_Transactions_2018-2021.csv')"
   ]
  },
  {
   "cell_type": "code",
   "execution_count": 77,
   "id": "b03bf7f0",
   "metadata": {
    "scrolled": true
   },
   "outputs": [],
   "source": [
    "combined = pd.concat([data1,data2], axis=0, ignore_index=True)\n",
    "combined = pd.concat([combined,data3], axis=0, ignore_index=True)\n",
    "combined = pd.concat([combined,data4], axis=0, ignore_index=True)"
   ]
  },
  {
   "cell_type": "code",
   "execution_count": 54,
   "id": "43ac6a78",
   "metadata": {},
   "outputs": [],
   "source": [
    "### converting amount into integer data type ###\n",
    "\n",
    "combined['AMOUNT'] = list((\"\").join(x.split(\",\")).split(\".\")[0] if isinstance(x, str) else x for x in list(combined['AMOUNT']))"
   ]
  },
  {
   "cell_type": "code",
   "execution_count": 55,
   "id": "a6c7c390",
   "metadata": {},
   "outputs": [],
   "source": [
    "### converting net amount into integer data type ###\n",
    "\n",
    "combined['NET_AMOUNT'] = list((\"\").join(x.split(\",\")).split(\".\")[0] if isinstance(x, str) else x for x in list(combined['NET_AMOUNT']))"
   ]
  },
  {
   "cell_type": "code",
   "execution_count": 60,
   "id": "863c62cf",
   "metadata": {},
   "outputs": [
    {
     "name": "stdout",
     "output_type": "stream",
     "text": [
      "<class 'pandas.core.frame.DataFrame'>\n",
      "RangeIndex: 3413247 entries, 0 to 3413246\n",
      "Data columns (total 16 columns):\n",
      " #   Column              Dtype \n",
      "---  ------              ----- \n",
      " 0   ROI_FAMILY_ID       int64 \n",
      " 1   TRANSACTION_ID      int64 \n",
      " 2   MEMBERSHIP_STATUS   object\n",
      " 3   BATCH_TYPE          object\n",
      " 4   TRANSACTION_TYPE    object\n",
      " 5   PAY_METHOD          object\n",
      " 6   SOURCE_DESCRIPTION  object\n",
      " 7   PROMOTION           object\n",
      " 8   CAMPAIGN            object\n",
      " 9   SOURCE_SUBTYPE      object\n",
      " 10  CONTACT_TYPE        object\n",
      " 11  AMOUNT              int64 \n",
      " 12  NET_AMOUNT          int64 \n",
      " 13  REVERSED            object\n",
      " 14  BATCH_DEPOSIT_DATE  object\n",
      " 15  TRANSACTION_FLAGS   object\n",
      "dtypes: int64(4), object(12)\n",
      "memory usage: 416.7+ MB\n"
     ]
    }
   ],
   "source": [
    "combined.info()"
   ]
  },
  {
   "cell_type": "code",
   "execution_count": 59,
   "id": "d2e82284",
   "metadata": {},
   "outputs": [],
   "source": [
    "combined['AMOUNT'] = list(map(lambda x: int(x), list(combined['AMOUNT'])))\n",
    "combined['NET_AMOUNT'] = list(map(lambda x: int(x), list(combined['NET_AMOUNT'])))"
   ]
  },
  {
   "cell_type": "code",
   "execution_count": 63,
   "id": "93830f27",
   "metadata": {},
   "outputs": [],
   "source": [
    "### turning batch date into datetime ###\n",
    "\n",
    "combined['BATCH_DEPOSIT_DATE'] = list(map(lambda x: pd.to_datetime(x), list(combined['BATCH_DEPOSIT_DATE'])))"
   ]
  },
  {
   "cell_type": "code",
   "execution_count": 67,
   "id": "126525e2",
   "metadata": {
    "scrolled": true
   },
   "outputs": [],
   "source": [
    "colu = ['ROI_FAMILY_ID', 'TRANSACTION_ID', 'PAY_METHOD', 'NET_AMOUNT', 'AMOUNT', 'BATCH_DEPOSIT_DATE']\n",
    "\n",
    "lapsed_t = combined.loc[:, colu]"
   ]
  },
  {
   "cell_type": "code",
   "execution_count": 72,
   "id": "8bc3eb45",
   "metadata": {},
   "outputs": [],
   "source": [
    "### changing columns names ####\n",
    "\n",
    "lapsed_t = lapsed_t.rename(columns = {'BATCH_DEPOSIT_DATE':'BATCH_DATE'})"
   ]
  },
  {
   "cell_type": "code",
   "execution_count": 74,
   "id": "42465b5f",
   "metadata": {},
   "outputs": [],
   "source": [
    "combined_transaction = lapsed_t.append(active_t)"
   ]
  },
  {
   "cell_type": "code",
   "execution_count": 75,
   "id": "ec179213",
   "metadata": {},
   "outputs": [],
   "source": [
    "combined_transaction.to_csv('combined_transaction.csv')"
   ]
  },
  {
   "cell_type": "code",
   "execution_count": 76,
   "id": "13ae999b",
   "metadata": {},
   "outputs": [
    {
     "data": {
      "text/plain": [
       "'/Users/rctrj/UCD/Winter/BAX 462/active_member_transact'"
      ]
     },
     "execution_count": 76,
     "metadata": {},
     "output_type": "execute_result"
    }
   ],
   "source": [
    "os.getcwd()"
   ]
  },
  {
   "cell_type": "code",
   "execution_count": 81,
   "id": "f54955a9",
   "metadata": {},
   "outputs": [],
   "source": [
    "active_tran.to_csv('combined_transaction.csv')"
   ]
  }
 ],
 "metadata": {
  "kernelspec": {
   "display_name": "Python 3",
   "language": "python",
   "name": "python3"
  },
  "language_info": {
   "codemirror_mode": {
    "name": "ipython",
    "version": 3
   },
   "file_extension": ".py",
   "mimetype": "text/x-python",
   "name": "python",
   "nbconvert_exporter": "python",
   "pygments_lexer": "ipython3",
   "version": "3.8.8"
  }
 },
 "nbformat": 4,
 "nbformat_minor": 5
}
