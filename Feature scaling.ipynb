{
 "cells": [
  {
   "cell_type": "code",
   "execution_count": 3,
   "id": "64c155e5",
   "metadata": {},
   "outputs": [],
   "source": [
    "import pandas as pd\n",
    "import numpy as np\n",
    "import matplotlib.pyplot as plt\n",
    "import seaborn as sns\n",
    "from statistics import mean\n",
    "import matplotlib.pyplot as plt\n",
    "from matplotlib import pyplot\n",
    "from datetime import datetime\n",
    "import numpy as np\n",
    "import matplotlib.pyplot as plt  # To visualize\n",
    "import pandas as pd  # To read data\n",
    "from sklearn.linear_model import LinearRegression\n",
    "import statsmodels.api as sm\n",
    "from scipy import stats\n",
    "import sklearn\n",
    "from sklearn.preprocessing import PolynomialFeatures\n",
    "import missingno as mi\n",
    "from sklearn.linear_model import LogisticRegression\n",
    "from statsmodels.stats.anova import anova_lm\n",
    "import random\n",
    "from statsmodels.formula.api import ols\n",
    "import xgboost as xgb\n",
    "from sklearn.metrics import mean_squared_error\n",
    "from sklearn import linear_model\n",
    "from sklearn.model_selection import cross_val_score\n",
    "from sklearn.model_selection import train_test_split\n",
    "from sklearn.model_selection import RepeatedKFold\n",
    "import statistics\n",
    "from sklearn.metrics import confusion_matrix\n",
    "from yellowbrick.datasets import load_concrete\n",
    "from yellowbrick.regressor import AlphaSelection\n",
    "from sklearn.metrics import confusion_matrix\n",
    "from sklearn.ensemble import RandomForestClassifier\n",
    "import xgboost as xgb\n",
    "import shap\n",
    "from datetime import date\n",
    "\n",
    "import pandas as pd\n",
    "import numpy as np\n",
    "\n",
    "import holoviews as hv\n",
    "import plotly.graph_objects as go\n",
    "import plotly.express as pex\n",
    "\n",
    "import re\n",
    "\n",
    "from patsy import dmatrices\n",
    "from statsmodels.stats.outliers_influence import variance_inflation_factor\n",
    "\n",
    "from sklearn.model_selection import train_test_split\n",
    "import statsmodels.formula.api as smf\n",
    "from sklearn.linear_model import LassoCV, Lasso\n",
    "from sklearn.model_selection import GridSearchCV, KFold\n",
    "\n",
    "import xgboost as xgb\n",
    "from sklearn.preprocessing import StandardScaler\n",
    "\n",
    "from sklearn.feature_selection import RFE\n",
    "\n",
    "import os"
   ]
  },
  {
   "cell_type": "code",
   "execution_count": 5,
   "id": "16c5c39a",
   "metadata": {},
   "outputs": [],
   "source": [
    "os.chdir('/Users/rctrj/UCD/Winter/BAX 452/Homework/HW4')"
   ]
  },
  {
   "cell_type": "code",
   "execution_count": 6,
   "id": "22f287e1",
   "metadata": {},
   "outputs": [
    {
     "data": {
      "text/plain": [
       "'/Users/rctrj/UCD/Winter/BAX 452/Homework/HW4'"
      ]
     },
     "execution_count": 6,
     "metadata": {},
     "output_type": "execute_result"
    }
   ],
   "source": [
    "os.getcwd()"
   ]
  },
  {
   "cell_type": "code",
   "execution_count": 7,
   "id": "dbaa1289",
   "metadata": {},
   "outputs": [],
   "source": [
    "data = pd.read_csv('assignment4.csv')"
   ]
  },
  {
   "cell_type": "code",
   "execution_count": 9,
   "id": "1d61781d",
   "metadata": {},
   "outputs": [
    {
     "name": "stdout",
     "output_type": "stream",
     "text": [
      "<class 'pandas.core.frame.DataFrame'>\n",
      "RangeIndex: 398 entries, 0 to 397\n",
      "Data columns (total 9 columns):\n",
      " #   Column        Non-Null Count  Dtype  \n",
      "---  ------        --------------  -----  \n",
      " 0   Unnamed: 0    398 non-null    int64  \n",
      " 1   mpg           398 non-null    float64\n",
      " 2   cylinders     398 non-null    int64  \n",
      " 3   displacement  398 non-null    float64\n",
      " 4   horsepower    398 non-null    float64\n",
      " 5   weight        398 non-null    int64  \n",
      " 6   acceleration  398 non-null    float64\n",
      " 7   model year    398 non-null    int64  \n",
      " 8   origin        398 non-null    int64  \n",
      "dtypes: float64(4), int64(5)\n",
      "memory usage: 28.1 KB\n"
     ]
    }
   ],
   "source": [
    "data.info()"
   ]
  },
  {
   "cell_type": "markdown",
   "id": "789e12e7",
   "metadata": {},
   "source": [
    "## Max Abs Scaling ##"
   ]
  },
  {
   "cell_type": "markdown",
   "id": "dc8b121b",
   "metadata": {},
   "source": [
    "It make sure that the maximum value in the column is 1. It doesn’t shift or change the center if the data. "
   ]
  },
  {
   "cell_type": "code",
   "execution_count": 76,
   "id": "1c3dd9ce",
   "metadata": {},
   "outputs": [],
   "source": [
    "accel = np.asarray(data.loc[:, 'acceleration']).reshape(-1, 1)"
   ]
  },
  {
   "cell_type": "code",
   "execution_count": 77,
   "id": "097b8613",
   "metadata": {},
   "outputs": [
    {
     "name": "stdout",
     "output_type": "stream",
     "text": [
      "Mean of original data = 15.568090452261307\n",
      "Standard deviation of original data = 2.7542223175940177\n",
      "Max of original data = 24.8\n",
      "\n",
      "\n",
      "Mean of transformed data = 0.6277455827524719\n",
      "Standard deviation of transformed data = 0.1110573515158878\n",
      "Max of transformed data = 1.0\n"
     ]
    }
   ],
   "source": [
    "from sklearn.preprocessing import MaxAbsScaler\n",
    "\n",
    "accel_transformed = MaxAbsScaler().fit(accel)\n",
    "transform_data = accel_transformed.transform(accel)\n",
    "\n",
    "print(\"Mean of original data = {}\".format(accel.mean()))\n",
    "print(\"Standard deviation of original data = {}\".format(accel.std()))\n",
    "print(\"Max of original data = {}\".format(accel.max()))\n",
    "print(\"\\n\")\n",
    "print(\"Mean of transformed data = {}\".format(transform_data.mean()))\n",
    "print(\"Standard deviation of transformed data = {}\".format(transform_data.std()))\n",
    "print(\"Max of transformed data = {}\".format(transform_data.max()))"
   ]
  },
  {
   "cell_type": "code",
   "execution_count": 36,
   "id": "f66dcd95",
   "metadata": {},
   "outputs": [
    {
     "data": {
      "text/plain": [
       "<AxesSubplot:ylabel='Count'>"
      ]
     },
     "execution_count": 36,
     "metadata": {},
     "output_type": "execute_result"
    },
    {
     "data": {
      "image/png": "[encoded data removed]",
      "text/plain": [
       "<Figure size 576x396 with 1 Axes>"
      ]
     },
     "metadata": {},
     "output_type": "display_data"
    }
   ],
   "source": [
    "sns.histplot(accel, color = 'blue')"
   ]
  },
  {
   "cell_type": "code",
   "execution_count": 37,
   "id": "d7969831",
   "metadata": {},
   "outputs": [
    {
     "data": {
      "text/plain": [
       "<AxesSubplot:ylabel='Count'>"
      ]
     },
     "execution_count": 37,
     "metadata": {},
     "output_type": "execute_result"
    },
    {
     "data": {
      "image/png": "[encoded data removed]",
      "text/plain": [
       "<Figure size 576x396 with 1 Axes>"
      ]
     },
     "metadata": {},
     "output_type": "display_data"
    }
   ],
   "source": [
    "sns.histplot(transform_data, color = 'blue')"
   ]
  },
  {
   "cell_type": "markdown",
   "id": "1d870247",
   "metadata": {},
   "source": [
    "## Min Max Scaling ##"
   ]
  },
  {
   "cell_type": "markdown",
   "id": "14552d54",
   "metadata": {},
   "source": [
    "https://www.analyticsvidhya.com/blog/2020/04/feature-scaling-machine-learning-normalization-standardization/"
   ]
  },
  {
   "cell_type": "markdown",
   "id": "63386b88",
   "metadata": {},
   "source": [
    "Min Max scaling or is used to scale values such that they range between 0 and 1 after\n",
    "transformation."
   ]
  },
  {
   "cell_type": "code",
   "execution_count": 79,
   "id": "96fbbda8",
   "metadata": {},
   "outputs": [
    {
     "name": "stdout",
     "output_type": "stream",
     "text": [
      "Mean of original data = 15.568090452261307\n",
      "Standard deviation of original data = 2.7542223175940177\n",
      "Max of original data = 24.8\n",
      "\n",
      "\n",
      "Mean of transformed data = 0.45048157453936344\n",
      "Standard deviation of transformed data = 0.1639418046186915\n",
      "Max of transformed data = 0.9999999999999999\n"
     ]
    }
   ],
   "source": [
    "from sklearn.preprocessing import MinMaxScaler\n",
    "\n",
    "scaler = MinMaxScaler()\n",
    "accel_transformed = scaler.fit(accel)\n",
    "transform_data = accel_transformed.transform(accel)\n",
    "\n",
    "print(\"Mean of original data = {}\".format(accel.mean()))\n",
    "print(\"Standard deviation of original data = {}\".format(accel.std()))\n",
    "print(\"Max of original data = {}\".format(accel.max()))\n",
    "print(\"\\n\")\n",
    "print(\"Mean of transformed data = {}\".format(transform_data.mean()))\n",
    "print(\"Standard deviation of transformed data = {}\".format(transform_data.std()))\n",
    "print(\"Max of transformed data = {}\".format(transform_data.max()))"
   ]
  },
  {
   "cell_type": "code",
   "execution_count": 39,
   "id": "06e82ee9",
   "metadata": {},
   "outputs": [
    {
     "data": {
      "text/plain": [
       "<AxesSubplot:ylabel='Count'>"
      ]
     },
     "execution_count": 39,
     "metadata": {},
     "output_type": "execute_result"
    },
    {
     "data": {
      "image/png": "[encoded data removed]",
      "text/plain": [
       "<Figure size 576x396 with 1 Axes>"
      ]
     },
     "metadata": {},
     "output_type": "display_data"
    }
   ],
   "source": [
    "sns.histplot(transform_data, color = 'blue')"
   ]
  },
  {
   "cell_type": "markdown",
   "id": "4f2d0442",
   "metadata": {},
   "source": [
    "## Normalizer ##"
   ]
  },
  {
   "cell_type": "markdown",
   "id": "ed3a7af9",
   "metadata": {},
   "source": [
    "Normalizer transforms each row of the data set so and resamples it to transform it to unit norm. "
   ]
  },
  {
   "cell_type": "code",
   "execution_count": 43,
   "id": "6a438144",
   "metadata": {},
   "outputs": [
    {
     "name": "stdout",
     "output_type": "stream",
     "text": [
      "Mean of original data = 15.568090452261307\n",
      "Standard deviation of original data = 2.7542223175940177\n",
      "Max of original data = 24.8\n",
      "\n",
      "\n",
      "Mean of transformed data = 1.0\n",
      "Standard deviation of transformed data = 0.0\n",
      "Maxof transformed data = 1.0\n"
     ]
    }
   ],
   "source": [
    "from sklearn.preprocessing import Normalizer\n",
    "\n",
    "transformer = Normalizer(norm='l1').fit(accel)\n",
    "transform_data = transformer.transform(accel)\n",
    "\n",
    "print(\"Mean of original data = {}\".format(accel.mean()))\n",
    "print(\"Standard deviation of original data = {}\".format(accel.std()))\n",
    "print(\"Max of original data = {}\".format(accel.max()))\n",
    "print(\"\\n\")\n",
    "print(\"Mean of transformed data = {}\".format(transform_data.mean()))\n",
    "print(\"Standard deviation of transformed data = {}\".format(transform_data.std()))\n",
    "print(\"Maxof transformed data = {}\".format(transform_data.max()))"
   ]
  },
  {
   "cell_type": "code",
   "execution_count": 44,
   "id": "284b694d",
   "metadata": {},
   "outputs": [
    {
     "data": {
      "text/plain": [
       "<AxesSubplot:ylabel='Count'>"
      ]
     },
     "execution_count": 44,
     "metadata": {},
     "output_type": "execute_result"
    },
    {
     "data": {
      "image/png": "[encoded data removed]",
      "text/plain": [
       "<Figure size 576x396 with 1 Axes>"
      ]
     },
     "metadata": {},
     "output_type": "display_data"
    }
   ],
   "source": [
    "sns.histplot(transform_data, color = 'blue')"
   ]
  },
  {
   "cell_type": "code",
   "execution_count": 45,
   "id": "f128918f",
   "metadata": {},
   "outputs": [
    {
     "name": "stdout",
     "output_type": "stream",
     "text": [
      "Mean of original data = 15.568090452261307\n",
      "Standard deviation of original data = 2.7542223175940177\n",
      "Max of original data = 24.8\n",
      "\n",
      "\n",
      "Mean of transformed data = 1.0\n",
      "Standard deviation of transformed data = 0.0\n",
      "Maxof transformed data = 1.0\n"
     ]
    }
   ],
   "source": [
    "### l2 norm ###\n",
    "\n",
    "from sklearn.preprocessing import Normalizer\n",
    "\n",
    "transformer = Normalizer(norm='l2').fit(accel)\n",
    "transform_data = transformer.transform(accel)\n",
    "\n",
    "print(\"Mean of original data = {}\".format(accel.mean()))\n",
    "print(\"Standard deviation of original data = {}\".format(accel.std()))\n",
    "print(\"Max of original data = {}\".format(accel.max()))\n",
    "print(\"\\n\")\n",
    "print(\"Mean of transformed data = {}\".format(transform_data.mean()))\n",
    "print(\"Standard deviation of transformed data = {}\".format(transform_data.std()))\n",
    "print(\"Maxof transformed data = {}\".format(transform_data.max()))"
   ]
  },
  {
   "cell_type": "code",
   "execution_count": 46,
   "id": "d607c4ce",
   "metadata": {},
   "outputs": [
    {
     "data": {
      "text/plain": [
       "<AxesSubplot:ylabel='Count'>"
      ]
     },
     "execution_count": 46,
     "metadata": {},
     "output_type": "execute_result"
    },
    {
     "data": {
      "image/png": "[encoded data removed]",
      "text/plain": [
       "<Figure size 576x396 with 1 Axes>"
      ]
     },
     "metadata": {},
     "output_type": "display_data"
    }
   ],
   "source": [
    "sns.histplot(transform_data, color = 'blue')"
   ]
  },
  {
   "cell_type": "code",
   "execution_count": 48,
   "id": "e67833ea",
   "metadata": {},
   "outputs": [
    {
     "name": "stdout",
     "output_type": "stream",
     "text": [
      "Mean of original data = 15.568090452261307\n",
      "Standard deviation of original data = 2.7542223175940177\n",
      "Max of original data = 24.8\n",
      "\n",
      "\n",
      "Mean of transformed data = 1.0\n",
      "Standard deviation of transformed data = 0.0\n",
      "Maxof transformed data = 1.0\n"
     ]
    }
   ],
   "source": [
    "### max norm ###\n",
    "\n",
    "from sklearn.preprocessing import Normalizer\n",
    "\n",
    "transformer = Normalizer(norm='max').fit(accel)\n",
    "transform_data = transformer.transform(accel)\n",
    "\n",
    "print(\"Mean of original data = {}\".format(accel.mean()))\n",
    "print(\"Standard deviation of original data = {}\".format(accel.std()))\n",
    "print(\"Max of original data = {}\".format(accel.max()))\n",
    "print(\"\\n\")\n",
    "print(\"Mean of transformed data = {}\".format(transform_data.mean()))\n",
    "print(\"Standard deviation of transformed data = {}\".format(transform_data.std()))\n",
    "print(\"Maxof transformed data = {}\".format(transform_data.max()))"
   ]
  },
  {
   "cell_type": "code",
   "execution_count": 49,
   "id": "7630642b",
   "metadata": {},
   "outputs": [
    {
     "data": {
      "text/plain": [
       "<AxesSubplot:ylabel='Count'>"
      ]
     },
     "execution_count": 49,
     "metadata": {},
     "output_type": "execute_result"
    },
    {
     "data": {
      "image/png": "[encoded data removed]",
      "text/plain": [
       "<Figure size 576x396 with 1 Axes>"
      ]
     },
     "metadata": {},
     "output_type": "display_data"
    }
   ],
   "source": [
    "sns.histplot(transform_data, color = 'blue')"
   ]
  },
  {
   "cell_type": "markdown",
   "id": "7cc88fc8",
   "metadata": {},
   "source": [
    "## PowerTransformer Yeo-Johnson ##"
   ]
  },
  {
   "cell_type": "markdown",
   "id": "65488091",
   "metadata": {},
   "source": [
    "This scaling applies a power transformation to the feature to make them mode like gaussian distribution."
   ]
  },
  {
   "cell_type": "code",
   "execution_count": 50,
   "id": "ec9031e2",
   "metadata": {},
   "outputs": [
    {
     "name": "stdout",
     "output_type": "stream",
     "text": [
      "Mean of original data = 15.568090452261307\n",
      "Standard deviation of original data = 2.7542223175940177\n",
      "Max of original data = 24.8\n",
      "\n",
      "\n",
      "Mean of transformed data = -1.0711699534071861e-15\n",
      "Standard deviation of transformed data = 0.9999999999999999\n",
      "Maxof transformed data = 3.043039377098009\n"
     ]
    }
   ],
   "source": [
    "from sklearn.preprocessing import PowerTransformer\n",
    "\n",
    "pt = PowerTransformer('yeo-johnson')\n",
    "transform = pt.fit(accel)\n",
    "transform_data = pt.transform(accel)\n",
    "\n",
    "print(\"Mean of original data = {}\".format(accel.mean()))\n",
    "print(\"Standard deviation of original data = {}\".format(accel.std()))\n",
    "print(\"Max of original data = {}\".format(accel.max()))\n",
    "print(\"\\n\")\n",
    "print(\"Mean of transformed data = {}\".format(transform_data.mean()))\n",
    "print(\"Standard deviation of transformed data = {}\".format(transform_data.std()))\n",
    "print(\"Maxof transformed data = {}\".format(transform_data.max()))"
   ]
  },
  {
   "cell_type": "code",
   "execution_count": 51,
   "id": "cd3072a2",
   "metadata": {},
   "outputs": [
    {
     "data": {
      "text/plain": [
       "<AxesSubplot:ylabel='Count'>"
      ]
     },
     "execution_count": 51,
     "metadata": {},
     "output_type": "execute_result"
    },
    {
     "data": {
      "image/png": "[encoded data removed]",
      "text/plain": [
       "<Figure size 576x396 with 1 Axes>"
      ]
     },
     "metadata": {},
     "output_type": "display_data"
    }
   ],
   "source": [
    "sns.histplot(transform_data, color = 'blue')"
   ]
  },
  {
   "cell_type": "code",
   "execution_count": 52,
   "id": "487ef4f9",
   "metadata": {},
   "outputs": [
    {
     "name": "stdout",
     "output_type": "stream",
     "text": [
      "Mean of original data = 15.568090452261307\n",
      "Standard deviation of original data = 2.7542223175940177\n",
      "Max of original data = 24.8\n",
      "\n",
      "\n",
      "Mean of transformed data = -5.177321441468066e-16\n",
      "Standard deviation of transformed data = 1.0\n",
      "Maxof transformed data = 3.0468887798916353\n"
     ]
    }
   ],
   "source": [
    "from sklearn.preprocessing import PowerTransformer\n",
    "\n",
    "pt = PowerTransformer('box-cox')\n",
    "transform = pt.fit(accel)\n",
    "transform_data = pt.transform(accel)\n",
    "\n",
    "print(\"Mean of original data = {}\".format(accel.mean()))\n",
    "print(\"Standard deviation of original data = {}\".format(accel.std()))\n",
    "print(\"Max of original data = {}\".format(accel.max()))\n",
    "print(\"\\n\")\n",
    "print(\"Mean of transformed data = {}\".format(transform_data.mean()))\n",
    "print(\"Standard deviation of transformed data = {}\".format(transform_data.std()))\n",
    "print(\"Maxof transformed data = {}\".format(transform_data.max()))"
   ]
  },
  {
   "cell_type": "code",
   "execution_count": null,
   "id": "a4c19f29",
   "metadata": {},
   "outputs": [],
   "source": []
  },
  {
   "cell_type": "markdown",
   "id": "0ffb95db",
   "metadata": {},
   "source": [
    "## Quantile Tranformation Normal ##"
   ]
  },
  {
   "cell_type": "markdown",
   "id": "dee4a81f",
   "metadata": {},
   "source": [
    "Quantile-Transformation normal is another technique to trasnform a data set to normal distribution. "
   ]
  },
  {
   "cell_type": "code",
   "execution_count": 63,
   "id": "f9de41f4",
   "metadata": {},
   "outputs": [
    {
     "name": "stdout",
     "output_type": "stream",
     "text": [
      "Mean of original data = 15.568090452261307\n",
      "Standard deviation of original data = 2.7542223175940177\n",
      "Max of original data = 24.8\n",
      "\n",
      "\n",
      "Mean of transformed data = 0.0008961428054773563\n",
      "Standard deviation of transformed data = 1.050687337227496\n",
      "Maxof transformed data = 5.19933758270342\n"
     ]
    }
   ],
   "source": [
    "from sklearn.preprocessing import quantile_transform\n",
    "\n",
    "transform_data = quantile_transform(accel, n_quantiles=398, random_state=1, copy=True, output_distribution='normal')\n",
    "\n",
    "print(\"Mean of original data = {}\".format(accel.mean()))\n",
    "print(\"Standard deviation of original data = {}\".format(accel.std()))\n",
    "print(\"Max of original data = {}\".format(accel.max()))\n",
    "print(\"\\n\")\n",
    "print(\"Mean of transformed data = {}\".format(transform_data.mean()))\n",
    "print(\"Standard deviation of transformed data = {}\".format(transform_data.std()))\n",
    "print(\"Maxof transformed data = {}\".format(transform_data.max()))"
   ]
  },
  {
   "cell_type": "code",
   "execution_count": 64,
   "id": "3dfc5491",
   "metadata": {},
   "outputs": [
    {
     "data": {
      "text/plain": [
       "<AxesSubplot:ylabel='Count'>"
      ]
     },
     "execution_count": 64,
     "metadata": {},
     "output_type": "execute_result"
    },
    {
     "data": {
      "image/png": "[encoded data removed]",
      "text/plain": [
       "<Figure size 576x396 with 1 Axes>"
      ]
     },
     "metadata": {},
     "output_type": "display_data"
    }
   ],
   "source": [
    "sns.histplot(transform_data, color = 'blue')"
   ]
  },
  {
   "cell_type": "markdown",
   "id": "1f72d963",
   "metadata": {},
   "source": [
    "## Quantile Tranform Uniform ##"
   ]
  },
  {
   "cell_type": "markdown",
   "id": "a6a17b80",
   "metadata": {},
   "source": [
    "This technique is used to tranform a data set to uniform distribution. "
   ]
  },
  {
   "cell_type": "code",
   "execution_count": 65,
   "id": "21943dcb",
   "metadata": {},
   "outputs": [
    {
     "name": "stdout",
     "output_type": "stream",
     "text": [
      "Mean of original data = 15.568090452261307\n",
      "Standard deviation of original data = 2.7542223175940177\n",
      "Max of original data = 24.8\n",
      "\n",
      "\n",
      "Mean of transformed data = 0.5001329063453287\n",
      "Standard deviation of transformed data = 0.28934184755702674\n",
      "Maxof transformed data = 1.0\n"
     ]
    }
   ],
   "source": [
    "from sklearn.preprocessing import quantile_transform\n",
    "\n",
    "transform_data = quantile_transform(accel, n_quantiles=398, random_state=1, copy=True, output_distribution='uniform')\n",
    "\n",
    "print(\"Mean of original data = {}\".format(accel.mean()))\n",
    "print(\"Standard deviation of original data = {}\".format(accel.std()))\n",
    "print(\"Max of original data = {}\".format(accel.max()))\n",
    "print(\"\\n\")\n",
    "print(\"Mean of transformed data = {}\".format(transform_data.mean()))\n",
    "print(\"Standard deviation of transformed data = {}\".format(transform_data.std()))\n",
    "print(\"Maxof transformed data = {}\".format(transform_data.max()))"
   ]
  },
  {
   "cell_type": "code",
   "execution_count": 66,
   "id": "956c9fbb",
   "metadata": {},
   "outputs": [
    {
     "data": {
      "text/plain": [
       "<AxesSubplot:ylabel='Count'>"
      ]
     },
     "execution_count": 66,
     "metadata": {},
     "output_type": "execute_result"
    },
    {
     "data": {
      "image/png": "[encoded data removed]",
      "text/plain": [
       "<Figure size 576x396 with 1 Axes>"
      ]
     },
     "metadata": {},
     "output_type": "display_data"
    }
   ],
   "source": [
    "sns.histplot(transform_data, color = 'blue')"
   ]
  },
  {
   "cell_type": "markdown",
   "id": "ea36ec3e",
   "metadata": {},
   "source": [
    "## Robust Scaler ##"
   ]
  },
  {
   "cell_type": "markdown",
   "id": "9b1e9b2b",
   "metadata": {},
   "source": [
    "This scaling technique removes the outliers first and then applies standard scaler to scale the data set. "
   ]
  },
  {
   "cell_type": "code",
   "execution_count": 67,
   "id": "406b8320",
   "metadata": {},
   "outputs": [
    {
     "name": "stdout",
     "output_type": "stream",
     "text": [
      "Mean of original data = 15.568090452261307\n",
      "Standard deviation of original data = 2.7542223175940177\n",
      "Max of original data = 24.8\n",
      "\n",
      "\n",
      "Mean of transformed data = 0.020325508137703445\n",
      "Standard deviation of transformed data = 0.8221559156997077\n",
      "Maxof transformed data = 2.776119402985078\n"
     ]
    }
   ],
   "source": [
    "from sklearn.preprocessing import RobustScaler\n",
    "\n",
    "transformer = RobustScaler(with_centering = True, with_scaling = True).fit(accel)\n",
    "transform_data = transformer.transform(accel)\n",
    "\n",
    "print(\"Mean of original data = {}\".format(accel.mean()))\n",
    "print(\"Standard deviation of original data = {}\".format(accel.std()))\n",
    "print(\"Max of original data = {}\".format(accel.max()))\n",
    "print(\"\\n\")\n",
    "print(\"Mean of transformed data = {}\".format(transform_data.mean()))\n",
    "print(\"Standard deviation of transformed data = {}\".format(transform_data.std()))\n",
    "print(\"Maxof transformed data = {}\".format(transform_data.max()))"
   ]
  },
  {
   "cell_type": "code",
   "execution_count": 68,
   "id": "43e0d610",
   "metadata": {},
   "outputs": [
    {
     "data": {
      "text/plain": [
       "<AxesSubplot:ylabel='Count'>"
      ]
     },
     "execution_count": 68,
     "metadata": {},
     "output_type": "execute_result"
    },
    {
     "data": {
      "image/png": "[encoded data removed]",
      "text/plain": [
       "<Figure size 576x396 with 1 Axes>"
      ]
     },
     "metadata": {},
     "output_type": "display_data"
    }
   ],
   "source": [
    "sns.histplot(transform_data, color = 'blue')"
   ]
  },
  {
   "cell_type": "markdown",
   "id": "01634d18",
   "metadata": {},
   "source": [
    "## Standard Scaler ##"
   ]
  },
  {
   "cell_type": "markdown",
   "id": "328e4d9b",
   "metadata": {},
   "source": [
    "This is the most commonly used scaling technique. It subtracts mean from each data point and then scale it to unit variance. "
   ]
  },
  {
   "cell_type": "code",
   "execution_count": 73,
   "id": "a8161b41",
   "metadata": {},
   "outputs": [
    {
     "name": "stdout",
     "output_type": "stream",
     "text": [
      "Mean of original data = 15.568090452261307\n",
      "Standard deviation of original data = 2.7542223175940177\n",
      "Max of original data = 24.8\n",
      "\n",
      "\n",
      "Mean of transformed data = -2.6779248835179653e-16\n",
      "Standard deviation of transformed data = 0.9999999999999998\n",
      "Maxof transformed data = 3.351911531892361\n"
     ]
    }
   ],
   "source": [
    "from sklearn.preprocessing import StandardScaler\n",
    "\n",
    "scaler = StandardScaler()\n",
    "scaler.fit(accel)\n",
    "transform_data = scaler.transform(accel)\n",
    "\n",
    "print(\"Mean of original data = {}\".format(accel.mean()))\n",
    "print(\"Standard deviation of original data = {}\".format(accel.std()))\n",
    "print(\"Max of original data = {}\".format(accel.max()))\n",
    "print(\"\\n\")\n",
    "print(\"Mean of transformed data = {}\".format(transform_data.mean()))\n",
    "print(\"Standard deviation of transformed data = {}\".format(transform_data.std()))\n",
    "print(\"Max of transformed data = {}\".format(transform_data.max()))"
   ]
  },
  {
   "cell_type": "code",
   "execution_count": 74,
   "id": "29840971",
   "metadata": {
    "scrolled": false
   },
   "outputs": [
    {
     "data": {
      "text/plain": [
       "<AxesSubplot:ylabel='Count'>"
      ]
     },
     "execution_count": 74,
     "metadata": {},
     "output_type": "execute_result"
    },
    {
     "data": {
      "image/png": "[encoded data removed]",
      "text/plain": [
       "<Figure size 576x396 with 1 Axes>"
      ]
     },
     "metadata": {},
     "output_type": "display_data"
    }
   ],
   "source": [
    "sns.histplot(transform_data, color = 'blue')"
   ]
  },
  {
   "cell_type": "code",
   "execution_count": 80,
   "id": "e785d0bb",
   "metadata": {},
   "outputs": [
    {
     "data": {
      "text/plain": [
       "'/Users/rctrj/UCD/Winter/BAX 452/Homework/HW4'"
      ]
     },
     "execution_count": 80,
     "metadata": {},
     "output_type": "execute_result"
    }
   ],
   "source": [
    "os.getcwd()"
   ]
  },
  {
   "cell_type": "code",
   "execution_count": null,
   "id": "46571844",
   "metadata": {},
   "outputs": [],
   "source": []
  }
 ],
 "metadata": {
  "kernelspec": {
   "display_name": "Python 3",
   "language": "python",
   "name": "python3"
  },
  "language_info": {
   "codemirror_mode": {
    "name": "ipython",
    "version": 3
   },
   "file_extension": ".py",
   "mimetype": "text/x-python",
   "name": "python",
   "nbconvert_exporter": "python",
   "pygments_lexer": "ipython3",
   "version": "3.8.8"
  }
 },
 "nbformat": 4,
 "nbformat_minor": 5
}
