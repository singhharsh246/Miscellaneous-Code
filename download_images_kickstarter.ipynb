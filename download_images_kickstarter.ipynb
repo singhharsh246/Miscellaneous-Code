{
  "nbformat": 4,
  "nbformat_minor": 0,
  "metadata": {
    "colab": {
      "name": "download_images.ipynb",
      "provenance": [],
      "authorship_tag": "ABX9TyMC5rOb3kTFJiE3rX3EkJlB",
      "include_colab_link": true
    },
    "kernelspec": {
      "name": "python3",
      "display_name": "Python 3"
    },
    "language_info": {
      "name": "python"
    }
  },
  "cells": [
    {
      "cell_type": "markdown",
      "metadata": {
        "id": "view-in-github",
        "colab_type": "text"
      },
      "source": [
        "<a href=\"https://colab.research.google.com/github/singhharsh246/Miscellaneous-Code/blob/main/download_images_kickstarter.ipynb\" target=\"_parent\"><img src=\"https://colab.research.google.com/assets/colab-badge.svg\" alt=\"Open In Colab\"/></a>"
      ]
    },
    {
      "cell_type": "code",
      "source": [
        "!pip install shap"
      ],
      "metadata": {
        "colab": {
          "base_uri": "https://localhost:8080/"
        },
        "id": "7-eS9stolSlV",
        "outputId": "052af941-0460-4053-dcf6-6f5bd25f9f2b"
      },
      "execution_count": 3,
      "outputs": [
        {
          "output_type": "stream",
          "name": "stdout",
          "text": [
            "Collecting shap\n",
            "  Downloading shap-0.40.0-cp37-cp37m-manylinux2010_x86_64.whl (564 kB)\n",
            "\u001b[?25l\r\u001b[K     |▋                               | 10 kB 21.0 MB/s eta 0:00:01\r\u001b[K     |█▏                              | 20 kB 26.4 MB/s eta 0:00:01\r\u001b[K     |█▊                              | 30 kB 29.9 MB/s eta 0:00:01\r\u001b[K     |██▎                             | 40 kB 7.7 MB/s eta 0:00:01\r\u001b[K     |███                             | 51 kB 6.0 MB/s eta 0:00:01\r\u001b[K     |███▌                            | 61 kB 5.4 MB/s eta 0:00:01\r\u001b[K     |████                            | 71 kB 6.1 MB/s eta 0:00:01\r\u001b[K     |████▋                           | 81 kB 6.2 MB/s eta 0:00:01\r\u001b[K     |█████▏                          | 92 kB 6.8 MB/s eta 0:00:01\r\u001b[K     |█████▉                          | 102 kB 7.5 MB/s eta 0:00:01\r\u001b[K     |██████▍                         | 112 kB 7.5 MB/s eta 0:00:01\r\u001b[K     |███████                         | 122 kB 7.5 MB/s eta 0:00:01\r\u001b[K     |███████▌                        | 133 kB 7.5 MB/s eta 0:00:01\r\u001b[K     |████████▏                       | 143 kB 7.5 MB/s eta 0:00:01\r\u001b[K     |████████▊                       | 153 kB 7.5 MB/s eta 0:00:01\r\u001b[K     |█████████▎                      | 163 kB 7.5 MB/s eta 0:00:01\r\u001b[K     |█████████▉                      | 174 kB 7.5 MB/s eta 0:00:01\r\u001b[K     |██████████▍                     | 184 kB 7.5 MB/s eta 0:00:01\r\u001b[K     |███████████                     | 194 kB 7.5 MB/s eta 0:00:01\r\u001b[K     |███████████▋                    | 204 kB 7.5 MB/s eta 0:00:01\r\u001b[K     |████████████▏                   | 215 kB 7.5 MB/s eta 0:00:01\r\u001b[K     |████████████▊                   | 225 kB 7.5 MB/s eta 0:00:01\r\u001b[K     |█████████████▍                  | 235 kB 7.5 MB/s eta 0:00:01\r\u001b[K     |██████████████                  | 245 kB 7.5 MB/s eta 0:00:01\r\u001b[K     |██████████████▌                 | 256 kB 7.5 MB/s eta 0:00:01\r\u001b[K     |███████████████                 | 266 kB 7.5 MB/s eta 0:00:01\r\u001b[K     |███████████████▋                | 276 kB 7.5 MB/s eta 0:00:01\r\u001b[K     |████████████████▎               | 286 kB 7.5 MB/s eta 0:00:01\r\u001b[K     |████████████████▉               | 296 kB 7.5 MB/s eta 0:00:01\r\u001b[K     |█████████████████▍              | 307 kB 7.5 MB/s eta 0:00:01\r\u001b[K     |██████████████████              | 317 kB 7.5 MB/s eta 0:00:01\r\u001b[K     |██████████████████▋             | 327 kB 7.5 MB/s eta 0:00:01\r\u001b[K     |███████████████████▏            | 337 kB 7.5 MB/s eta 0:00:01\r\u001b[K     |███████████████████▊            | 348 kB 7.5 MB/s eta 0:00:01\r\u001b[K     |████████████████████▎           | 358 kB 7.5 MB/s eta 0:00:01\r\u001b[K     |████████████████████▉           | 368 kB 7.5 MB/s eta 0:00:01\r\u001b[K     |█████████████████████▌          | 378 kB 7.5 MB/s eta 0:00:01\r\u001b[K     |██████████████████████          | 389 kB 7.5 MB/s eta 0:00:01\r\u001b[K     |██████████████████████▋         | 399 kB 7.5 MB/s eta 0:00:01\r\u001b[K     |███████████████████████▏        | 409 kB 7.5 MB/s eta 0:00:01\r\u001b[K     |███████████████████████▉        | 419 kB 7.5 MB/s eta 0:00:01\r\u001b[K     |████████████████████████▍       | 430 kB 7.5 MB/s eta 0:00:01\r\u001b[K     |█████████████████████████       | 440 kB 7.5 MB/s eta 0:00:01\r\u001b[K     |█████████████████████████▌      | 450 kB 7.5 MB/s eta 0:00:01\r\u001b[K     |██████████████████████████      | 460 kB 7.5 MB/s eta 0:00:01\r\u001b[K     |██████████████████████████▊     | 471 kB 7.5 MB/s eta 0:00:01\r\u001b[K     |███████████████████████████▎    | 481 kB 7.5 MB/s eta 0:00:01\r\u001b[K     |███████████████████████████▉    | 491 kB 7.5 MB/s eta 0:00:01\r\u001b[K     |████████████████████████████▍   | 501 kB 7.5 MB/s eta 0:00:01\r\u001b[K     |█████████████████████████████   | 512 kB 7.5 MB/s eta 0:00:01\r\u001b[K     |█████████████████████████████▋  | 522 kB 7.5 MB/s eta 0:00:01\r\u001b[K     |██████████████████████████████▏ | 532 kB 7.5 MB/s eta 0:00:01\r\u001b[K     |██████████████████████████████▊ | 542 kB 7.5 MB/s eta 0:00:01\r\u001b[K     |███████████████████████████████▎| 552 kB 7.5 MB/s eta 0:00:01\r\u001b[K     |████████████████████████████████| 563 kB 7.5 MB/s eta 0:00:01\r\u001b[K     |████████████████████████████████| 564 kB 7.5 MB/s \n",
            "\u001b[?25hRequirement already satisfied: pandas in /usr/local/lib/python3.7/dist-packages (from shap) (1.3.5)\n",
            "Requirement already satisfied: numba in /usr/local/lib/python3.7/dist-packages (from shap) (0.51.2)\n",
            "Requirement already satisfied: numpy in /usr/local/lib/python3.7/dist-packages (from shap) (1.21.5)\n",
            "Requirement already satisfied: cloudpickle in /usr/local/lib/python3.7/dist-packages (from shap) (1.3.0)\n",
            "Requirement already satisfied: packaging>20.9 in /usr/local/lib/python3.7/dist-packages (from shap) (21.3)\n",
            "Collecting slicer==0.0.7\n",
            "  Downloading slicer-0.0.7-py3-none-any.whl (14 kB)\n",
            "Requirement already satisfied: scipy in /usr/local/lib/python3.7/dist-packages (from shap) (1.4.1)\n",
            "Requirement already satisfied: scikit-learn in /usr/local/lib/python3.7/dist-packages (from shap) (1.0.2)\n",
            "Requirement already satisfied: tqdm>4.25.0 in /usr/local/lib/python3.7/dist-packages (from shap) (4.62.3)\n",
            "Requirement already satisfied: pyparsing!=3.0.5,>=2.0.2 in /usr/local/lib/python3.7/dist-packages (from packaging>20.9->shap) (3.0.7)\n",
            "Requirement already satisfied: llvmlite<0.35,>=0.34.0.dev0 in /usr/local/lib/python3.7/dist-packages (from numba->shap) (0.34.0)\n",
            "Requirement already satisfied: setuptools in /usr/local/lib/python3.7/dist-packages (from numba->shap) (57.4.0)\n",
            "Requirement already satisfied: python-dateutil>=2.7.3 in /usr/local/lib/python3.7/dist-packages (from pandas->shap) (2.8.2)\n",
            "Requirement already satisfied: pytz>=2017.3 in /usr/local/lib/python3.7/dist-packages (from pandas->shap) (2018.9)\n",
            "Requirement already satisfied: six>=1.5 in /usr/local/lib/python3.7/dist-packages (from python-dateutil>=2.7.3->pandas->shap) (1.15.0)\n",
            "Requirement already satisfied: joblib>=0.11 in /usr/local/lib/python3.7/dist-packages (from scikit-learn->shap) (1.1.0)\n",
            "Requirement already satisfied: threadpoolctl>=2.0.0 in /usr/local/lib/python3.7/dist-packages (from scikit-learn->shap) (3.1.0)\n",
            "Installing collected packages: slicer, shap\n",
            "Successfully installed shap-0.40.0 slicer-0.0.7\n"
          ]
        }
      ]
    },
    {
      "cell_type": "code",
      "execution_count": 4,
      "metadata": {
        "id": "cAHBWdi3k_T_"
      },
      "outputs": [],
      "source": [
        "import pandas as pd\n",
        "import numpy as np\n",
        "import matplotlib.pyplot as plt\n",
        "import seaborn as sns\n",
        "from statistics import mean\n",
        "import matplotlib.pyplot as plt\n",
        "from matplotlib import pyplot\n",
        "from datetime import datetime\n",
        "import numpy as np\n",
        "import matplotlib.pyplot as plt  # To visualize\n",
        "import pandas as pd  # To read data\n",
        "from sklearn.linear_model import LinearRegression\n",
        "import statsmodels.api as sm\n",
        "from scipy import stats\n",
        "import sklearn\n",
        "from sklearn.preprocessing import PolynomialFeatures\n",
        "import missingno as mi\n",
        "from sklearn.linear_model import LogisticRegression\n",
        "from statsmodels.stats.anova import anova_lm\n",
        "import random\n",
        "from statsmodels.formula.api import ols\n",
        "import xgboost as xgb\n",
        "from sklearn.metrics import mean_squared_error\n",
        "from sklearn import linear_model\n",
        "from sklearn.model_selection import cross_val_score\n",
        "from sklearn.model_selection import train_test_split\n",
        "from sklearn.model_selection import RepeatedKFold\n",
        "import statistics\n",
        "from sklearn.metrics import confusion_matrix\n",
        "\n",
        "from sklearn.metrics import confusion_matrix\n",
        "from sklearn.ensemble import RandomForestClassifier\n",
        "import xgboost as xgb\n",
        "import shap\n",
        "from datetime import date\n",
        "\n",
        "import pandas as pd\n",
        "import numpy as np\n",
        "\n",
        "import holoviews as hv\n",
        "import plotly.graph_objects as go\n",
        "import plotly.express as pex\n",
        "\n",
        "import os\n",
        "import re\n",
        "\n",
        "from patsy import dmatrices\n",
        "from statsmodels.stats.outliers_influence import variance_inflation_factor\n",
        "\n",
        "from sklearn.model_selection import train_test_split\n",
        "import statsmodels.formula.api as smf\n",
        "from sklearn.linear_model import LassoCV, Lasso\n",
        "from sklearn.model_selection import GridSearchCV, KFold\n",
        "\n",
        "import xgboost as xgb\n",
        "from sklearn.preprocessing import StandardScaler\n",
        "\n",
        "from sklearn.feature_selection import RFE\n",
        "\n",
        "import xgboost as xgb"
      ]
    },
    {
      "cell_type": "code",
      "source": [
        "from google.colab import drive\n",
        "drive.mount(\"/content/drive\")"
      ],
      "metadata": {
        "colab": {
          "base_uri": "https://localhost:8080/"
        },
        "id": "rYAU5jxLlB6p",
        "outputId": "0fe2a730-d50e-4b2e-eab7-335d22696401"
      },
      "execution_count": 5,
      "outputs": [
        {
          "output_type": "stream",
          "name": "stdout",
          "text": [
            "Mounted at /content/drive\n"
          ]
        }
      ]
    },
    {
      "cell_type": "code",
      "source": [
        "os.chdir(\"/content/drive/MyDrive/Kickstarter_html_files\")\n",
        "\n",
        "\n",
        "def saving_images():\n",
        "        for filename in os.listdir(os.getcwd()):\n",
        "              with open(os.path.join(os.getcwd(), filename), 'r') as f:\n",
        "                      all_link_page = []\n",
        "                      name = filename.split(\".\")[0]\n",
        "                      df = pd.read_csv(f, sep='delimiter', header=None)\n",
        "\n",
        "                      col_value = list(df[0])\n",
        "                      for cols in col_value:\n",
        "                        try:\n",
        "                          link = re.search(r\"(https://ksr-ugc.imgix.net.*)\\\"\\\"\\/\\>\\\"\", cols).group(1)\n",
        "                          all_link_page.append(link)\n",
        "                        except:\n",
        "                          pass\n",
        "              all_link_page = set(all_link_page)\n",
        "\n",
        "              for i in all_link_page:\n",
        "                print(i)\n",
        "              \n",
        "              break\n",
        "\n",
        "if __name__ == \"__main__\":\n",
        "  saving_images()"
      ],
      "metadata": {
        "colab": {
          "base_uri": "https://localhost:8080/"
        },
        "id": "VyDyiR4llCEb",
        "outputId": "c0616f2b-8592-4737-8e7e-dc7215aca880"
      },
      "execution_count": 13,
      "outputs": [
        {
          "output_type": "stream",
          "name": "stdout",
          "text": [
            "https://ksr-ugc.imgix.net/assets/029/816/273/b793006c7a483baf44917383cd381540_original.jpeg?ixlib=rb-4.0.2&crop=faces&w=1552&h=873&fit=crop&v=1594743236&auto=format&frame=1&q=92&s=7954e2a63bb179b122042c6cf2ebe9e8\n",
            "https://ksr-ugc.imgix.net/assets/029/816/273/b793006c7a483baf44917383cd381540_original.jpeg?ixlib=rb-4.0.2&crop=faces&w=1024&h=576&fit=crop&v=1594743236&auto=format&frame=1&q=92&s=3ef5b7a84c2157d384970f002185610d\n"
          ]
        },
        {
          "output_type": "stream",
          "name": "stderr",
          "text": [
            "Falling back to the 'python' engine because the 'c' engine does not support regex separators (separators > 1 char and different from '\\s+' are interpreted as regex); you can avoid this warning by specifying engine='python'.\n"
          ]
        }
      ]
    },
    {
      "cell_type": "code",
      "source": [
        ""
      ],
      "metadata": {
        "id": "F2tlhkUQlCNm"
      },
      "execution_count": null,
      "outputs": []
    },
    {
      "cell_type": "code",
      "source": [
        ""
      ],
      "metadata": {
        "id": "0ItcCdq5lCVX"
      },
      "execution_count": null,
      "outputs": []
    },
    {
      "cell_type": "code",
      "source": [
        ""
      ],
      "metadata": {
        "id": "fabijVQElCdH"
      },
      "execution_count": null,
      "outputs": []
    },
    {
      "cell_type": "code",
      "source": [
        ""
      ],
      "metadata": {
        "id": "QqzB4fqNlCkQ"
      },
      "execution_count": null,
      "outputs": []
    },
    {
      "cell_type": "code",
      "source": [
        ""
      ],
      "metadata": {
        "id": "LSsDEmEUlCrh"
      },
      "execution_count": null,
      "outputs": []
    },
    {
      "cell_type": "code",
      "source": [
        ""
      ],
      "metadata": {
        "id": "L0a6rHlplCyk"
      },
      "execution_count": null,
      "outputs": []
    },
    {
      "cell_type": "code",
      "source": [
        ""
      ],
      "metadata": {
        "id": "iNup74JZlC5Y"
      },
      "execution_count": null,
      "outputs": []
    },
    {
      "cell_type": "code",
      "source": [
        ""
      ],
      "metadata": {
        "id": "vxVPKvb7lDAr"
      },
      "execution_count": null,
      "outputs": []
    },
    {
      "cell_type": "code",
      "source": [
        ""
      ],
      "metadata": {
        "id": "ZXyVOWjAlDHC"
      },
      "execution_count": null,
      "outputs": []
    },
    {
      "cell_type": "code",
      "source": [
        ""
      ],
      "metadata": {
        "id": "CduVSyOSlDN8"
      },
      "execution_count": null,
      "outputs": []
    },
    {
      "cell_type": "code",
      "source": [
        ""
      ],
      "metadata": {
        "id": "Eq7mui_NlDU-"
      },
      "execution_count": null,
      "outputs": []
    },
    {
      "cell_type": "code",
      "source": [
        ""
      ],
      "metadata": {
        "id": "dWsLiDJOlDb0"
      },
      "execution_count": null,
      "outputs": []
    },
    {
      "cell_type": "code",
      "source": [
        ""
      ],
      "metadata": {
        "id": "lwmxoe6RlDjQ"
      },
      "execution_count": null,
      "outputs": []
    },
    {
      "cell_type": "code",
      "source": [
        ""
      ],
      "metadata": {
        "id": "XbLwUrwylDrj"
      },
      "execution_count": null,
      "outputs": []
    },
    {
      "cell_type": "code",
      "source": [
        ""
      ],
      "metadata": {
        "id": "DXU4QGoolD0C"
      },
      "execution_count": null,
      "outputs": []
    },
    {
      "cell_type": "code",
      "source": [
        ""
      ],
      "metadata": {
        "id": "kIwwueq6lD7T"
      },
      "execution_count": null,
      "outputs": []
    },
    {
      "cell_type": "code",
      "source": [
        ""
      ],
      "metadata": {
        "id": "IBcdlpXElECS"
      },
      "execution_count": null,
      "outputs": []
    },
    {
      "cell_type": "code",
      "source": [
        ""
      ],
      "metadata": {
        "id": "mWSKZexRlEJK"
      },
      "execution_count": null,
      "outputs": []
    },
    {
      "cell_type": "code",
      "source": [
        ""
      ],
      "metadata": {
        "id": "abA2T4cilEVw"
      },
      "execution_count": null,
      "outputs": []
    },
    {
      "cell_type": "code",
      "source": [
        ""
      ],
      "metadata": {
        "id": "wZs1zUsylEcs"
      },
      "execution_count": null,
      "outputs": []
    },
    {
      "cell_type": "code",
      "source": [
        ""
      ],
      "metadata": {
        "id": "sG7AgZzKlEjt"
      },
      "execution_count": null,
      "outputs": []
    }
  ]
}