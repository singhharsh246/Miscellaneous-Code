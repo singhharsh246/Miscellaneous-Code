{
 "cells": [
  {
   "cell_type": "markdown",
   "id": "0bda98a2",
   "metadata": {},
   "source": [
    "## Data imputation using ML models ##\n",
    "## XGBoost came out to be the best method to judge ##"
   ]
  },
  {
   "cell_type": "code",
   "execution_count": 264,
   "id": "97e9ecce",
   "metadata": {},
   "outputs": [],
   "source": [
    "import pandas as pd\n",
    "import numpy as np\n",
    "import matplotlib.pyplot as plt\n",
    "import seaborn as sns\n",
    "from statistics import mean\n",
    "import matplotlib.pyplot as plt\n",
    "from matplotlib import pyplot\n",
    "from datetime import datetime\n",
    "import numpy as np\n",
    "import matplotlib.pyplot as plt  # To visualize\n",
    "import pandas as pd  # To read data\n",
    "from sklearn.linear_model import LinearRegression\n",
    "import statsmodels.api as sm\n",
    "from scipy import stats\n",
    "import sklearn\n",
    "from sklearn.preprocessing import PolynomialFeatures\n",
    "import missingno as mi\n",
    "from sklearn.linear_model import LogisticRegression\n",
    "from statsmodels.stats.anova import anova_lm\n",
    "import random\n",
    "from statsmodels.formula.api import ols\n",
    "import xgboost as xgb\n",
    "from sklearn.metrics import mean_squared_error\n",
    "from sklearn import linear_model\n",
    "from sklearn.model_selection import cross_val_score\n",
    "from sklearn.model_selection import train_test_split\n",
    "from sklearn.model_selection import RepeatedKFold\n",
    "import statistics\n",
    "from sklearn.linear_model import LassoCV\n",
    "from yellowbrick.datasets import load_concrete\n",
    "from yellowbrick.regressor import AlphaSelection\n",
    "from sklearn.metrics import confusion_matrix\n",
    "from sklearn.ensemble import RandomForestClassifier\n",
    "import xgboost as xgb"
   ]
  },
  {
   "cell_type": "code",
   "execution_count": 369,
   "id": "a4fbb650",
   "metadata": {},
   "outputs": [
    {
     "name": "stderr",
     "output_type": "stream",
     "text": [
      "/Users/rctrj/opt/anaconda3/lib/python3.8/site-packages/IPython/core/interactiveshell.py:3165: DtypeWarning: Columns (2,13,16,20,21,23) have mixed types.Specify dtype option on import or set low_memory=False.\n",
      "  has_raised = await self.run_ast_nodes(code_ast.body, cell_name,\n"
     ]
    }
   ],
   "source": [
    "driver = pd.read_csv('/Users/rctrj/UCD/Winter/BAX 462/driver_df_final_PIT2020_revised_without_commonROIID.csv')"
   ]
  },
  {
   "cell_type": "code",
   "execution_count": 5,
   "id": "9977289a",
   "metadata": {},
   "outputs": [
    {
     "data": {
      "text/plain": [
       "Index(['ROI_ID', 'ROI_FAMILY_ID', 'ZIPCODE', 'CURRENT_AGE', 'GENDER',\n",
       "       'DO_NOT_CONTACT', 'ADDRESS_CONTACT_STATUS', 'FIRST_GIFT_DATE',\n",
       "       'FIRST_GIFT_AMOUNT', 'MRC_DATE', 'MRC_AMOUNT', 'MEMBERSHIP_JOIN_DATE',\n",
       "       'MEMBERSHIP_RENEWAL_DATE', 'MEMBERSHIP_STATUS', 'MEMBERSHIP_TYPE',\n",
       "       'STATUS', 'ACCOUNT_CLASSIFICATION', 'IND_12MO_SUMMARY_TOTALTRANS',\n",
       "       'IND_12MO_SUMMARY_TOTALAMOUNT', 'FINITE_PLEDGE_ID',\n",
       "       'FINITE_PLEDGE_PAYMENT_PLAN', 'FINITE_PLEDGE_END_DATE',\n",
       "       'RECURRING_PLEDGE_ID', 'RECURRING_PLEDGE_PAYMENT_PLAN',\n",
       "       'MEMBERSHIP_DURATION', 'MEMBERSHIP_JOIN_YEAR', 'AGE_AT_MEMBERSHIP',\n",
       "       'MRC_YEAR', 'FIRST_GIFT_YEAR', 'MEMBERSHIP_RENEWAL_YEAR',\n",
       "       'FINITE_PLEDGE_END_YEAR', 'Churn', 'TOTAL_TRANSACTIONS_MADE',\n",
       "       'TOTAL_TRANSACTIONS_AMOUNT', 'AGE_AT_2020'],\n",
       "      dtype='object')"
      ]
     },
     "execution_count": 5,
     "metadata": {},
     "output_type": "execute_result"
    }
   ],
   "source": [
    "driver.columns"
   ]
  },
  {
   "cell_type": "code",
   "execution_count": 6,
   "id": "9e37d912",
   "metadata": {},
   "outputs": [
    {
     "data": {
      "text/html": [
       "<div>\n",
       "<style scoped>\n",
       "    .dataframe tbody tr th:only-of-type {\n",
       "        vertical-align: middle;\n",
       "    }\n",
       "\n",
       "    .dataframe tbody tr th {\n",
       "        vertical-align: top;\n",
       "    }\n",
       "\n",
       "    .dataframe thead th {\n",
       "        text-align: right;\n",
       "    }\n",
       "</style>\n",
       "<table border=\"1\" class=\"dataframe\">\n",
       "  <thead>\n",
       "    <tr style=\"text-align: right;\">\n",
       "      <th></th>\n",
       "      <th>ROI_ID</th>\n",
       "      <th>ROI_FAMILY_ID</th>\n",
       "      <th>ZIPCODE</th>\n",
       "      <th>CURRENT_AGE</th>\n",
       "      <th>GENDER</th>\n",
       "      <th>DO_NOT_CONTACT</th>\n",
       "      <th>ADDRESS_CONTACT_STATUS</th>\n",
       "      <th>FIRST_GIFT_DATE</th>\n",
       "      <th>FIRST_GIFT_AMOUNT</th>\n",
       "      <th>MRC_DATE</th>\n",
       "      <th>...</th>\n",
       "      <th>MEMBERSHIP_JOIN_YEAR</th>\n",
       "      <th>AGE_AT_MEMBERSHIP</th>\n",
       "      <th>MRC_YEAR</th>\n",
       "      <th>FIRST_GIFT_YEAR</th>\n",
       "      <th>MEMBERSHIP_RENEWAL_YEAR</th>\n",
       "      <th>FINITE_PLEDGE_END_YEAR</th>\n",
       "      <th>Churn</th>\n",
       "      <th>TOTAL_TRANSACTIONS_MADE</th>\n",
       "      <th>TOTAL_TRANSACTIONS_AMOUNT</th>\n",
       "      <th>AGE_AT_2020</th>\n",
       "    </tr>\n",
       "  </thead>\n",
       "  <tbody>\n",
       "    <tr>\n",
       "      <th>0</th>\n",
       "      <td>7401</td>\n",
       "      <td>7401</td>\n",
       "      <td>95448</td>\n",
       "      <td>69.0</td>\n",
       "      <td>FEMALE</td>\n",
       "      <td>N</td>\n",
       "      <td>Y</td>\n",
       "      <td>1983-01-01</td>\n",
       "      <td>35.0</td>\n",
       "      <td>2020-11-07</td>\n",
       "      <td>...</td>\n",
       "      <td>1983.0</td>\n",
       "      <td>31.0</td>\n",
       "      <td>2020.0</td>\n",
       "      <td>1983.0</td>\n",
       "      <td>2021</td>\n",
       "      <td>NaN</td>\n",
       "      <td>1.0</td>\n",
       "      <td>57.0</td>\n",
       "      <td>4331.0</td>\n",
       "      <td>68.0</td>\n",
       "    </tr>\n",
       "    <tr>\n",
       "      <th>1</th>\n",
       "      <td>8052</td>\n",
       "      <td>8052</td>\n",
       "      <td>94941</td>\n",
       "      <td>83.0</td>\n",
       "      <td>FEMALE</td>\n",
       "      <td>N</td>\n",
       "      <td>Y</td>\n",
       "      <td>1983-03-05</td>\n",
       "      <td>35.0</td>\n",
       "      <td>2020-12-29</td>\n",
       "      <td>...</td>\n",
       "      <td>1983.0</td>\n",
       "      <td>45.0</td>\n",
       "      <td>2020.0</td>\n",
       "      <td>1983.0</td>\n",
       "      <td>2020</td>\n",
       "      <td>NaN</td>\n",
       "      <td>1.0</td>\n",
       "      <td>50.0</td>\n",
       "      <td>3757.0</td>\n",
       "      <td>82.0</td>\n",
       "    </tr>\n",
       "    <tr>\n",
       "      <th>2</th>\n",
       "      <td>21162</td>\n",
       "      <td>21162</td>\n",
       "      <td>95014</td>\n",
       "      <td>76.0</td>\n",
       "      <td>NaN</td>\n",
       "      <td>N</td>\n",
       "      <td>Y</td>\n",
       "      <td>1983-03-21</td>\n",
       "      <td>35.0</td>\n",
       "      <td>2020-01-03</td>\n",
       "      <td>...</td>\n",
       "      <td>1983.0</td>\n",
       "      <td>38.0</td>\n",
       "      <td>2020.0</td>\n",
       "      <td>1983.0</td>\n",
       "      <td>2021</td>\n",
       "      <td>NaN</td>\n",
       "      <td>1.0</td>\n",
       "      <td>82.0</td>\n",
       "      <td>3120.0</td>\n",
       "      <td>75.0</td>\n",
       "    </tr>\n",
       "    <tr>\n",
       "      <th>3</th>\n",
       "      <td>21519</td>\n",
       "      <td>21519</td>\n",
       "      <td>95476</td>\n",
       "      <td>69.0</td>\n",
       "      <td>FEMALE</td>\n",
       "      <td>N</td>\n",
       "      <td>Y</td>\n",
       "      <td>1983-03-24</td>\n",
       "      <td>35.0</td>\n",
       "      <td>2020-02-21</td>\n",
       "      <td>...</td>\n",
       "      <td>1983.0</td>\n",
       "      <td>31.0</td>\n",
       "      <td>2020.0</td>\n",
       "      <td>1983.0</td>\n",
       "      <td>2021</td>\n",
       "      <td>NaN</td>\n",
       "      <td>1.0</td>\n",
       "      <td>25.0</td>\n",
       "      <td>2694.0</td>\n",
       "      <td>68.0</td>\n",
       "    </tr>\n",
       "    <tr>\n",
       "      <th>4</th>\n",
       "      <td>23564</td>\n",
       "      <td>23564</td>\n",
       "      <td>94903</td>\n",
       "      <td>72.0</td>\n",
       "      <td>FEMALE</td>\n",
       "      <td>N</td>\n",
       "      <td>Y</td>\n",
       "      <td>1983-03-16</td>\n",
       "      <td>35.0</td>\n",
       "      <td>2020-10-19</td>\n",
       "      <td>...</td>\n",
       "      <td>1983.0</td>\n",
       "      <td>34.0</td>\n",
       "      <td>2020.0</td>\n",
       "      <td>1983.0</td>\n",
       "      <td>2021</td>\n",
       "      <td>NaN</td>\n",
       "      <td>1.0</td>\n",
       "      <td>44.0</td>\n",
       "      <td>2068.0</td>\n",
       "      <td>71.0</td>\n",
       "    </tr>\n",
       "  </tbody>\n",
       "</table>\n",
       "<p>5 rows × 35 columns</p>\n",
       "</div>"
      ],
      "text/plain": [
       "   ROI_ID  ROI_FAMILY_ID ZIPCODE  CURRENT_AGE  GENDER DO_NOT_CONTACT  \\\n",
       "0    7401           7401   95448         69.0  FEMALE              N   \n",
       "1    8052           8052   94941         83.0  FEMALE              N   \n",
       "2   21162          21162   95014         76.0     NaN              N   \n",
       "3   21519          21519   95476         69.0  FEMALE              N   \n",
       "4   23564          23564   94903         72.0  FEMALE              N   \n",
       "\n",
       "  ADDRESS_CONTACT_STATUS FIRST_GIFT_DATE  FIRST_GIFT_AMOUNT    MRC_DATE  ...  \\\n",
       "0                      Y      1983-01-01               35.0  2020-11-07  ...   \n",
       "1                      Y      1983-03-05               35.0  2020-12-29  ...   \n",
       "2                      Y      1983-03-21               35.0  2020-01-03  ...   \n",
       "3                      Y      1983-03-24               35.0  2020-02-21  ...   \n",
       "4                      Y      1983-03-16               35.0  2020-10-19  ...   \n",
       "\n",
       "   MEMBERSHIP_JOIN_YEAR AGE_AT_MEMBERSHIP MRC_YEAR FIRST_GIFT_YEAR  \\\n",
       "0                1983.0              31.0   2020.0          1983.0   \n",
       "1                1983.0              45.0   2020.0          1983.0   \n",
       "2                1983.0              38.0   2020.0          1983.0   \n",
       "3                1983.0              31.0   2020.0          1983.0   \n",
       "4                1983.0              34.0   2020.0          1983.0   \n",
       "\n",
       "  MEMBERSHIP_RENEWAL_YEAR FINITE_PLEDGE_END_YEAR Churn  \\\n",
       "0                    2021                    NaN   1.0   \n",
       "1                    2020                    NaN   1.0   \n",
       "2                    2021                    NaN   1.0   \n",
       "3                    2021                    NaN   1.0   \n",
       "4                    2021                    NaN   1.0   \n",
       "\n",
       "   TOTAL_TRANSACTIONS_MADE  TOTAL_TRANSACTIONS_AMOUNT  AGE_AT_2020  \n",
       "0                     57.0                     4331.0         68.0  \n",
       "1                     50.0                     3757.0         82.0  \n",
       "2                     82.0                     3120.0         75.0  \n",
       "3                     25.0                     2694.0         68.0  \n",
       "4                     44.0                     2068.0         71.0  \n",
       "\n",
       "[5 rows x 35 columns]"
      ]
     },
     "execution_count": 6,
     "metadata": {},
     "output_type": "execute_result"
    }
   ],
   "source": [
    "driver.head()"
   ]
  },
  {
   "cell_type": "code",
   "execution_count": null,
   "id": "013ae573",
   "metadata": {},
   "outputs": [],
   "source": []
  },
  {
   "cell_type": "code",
   "execution_count": 381,
   "id": "7e2907bf",
   "metadata": {
    "scrolled": false
   },
   "outputs": [
    {
     "name": "stdout",
     "output_type": "stream",
     "text": [
      "196577\n"
     ]
    }
   ],
   "source": [
    "x_columns = ['ZIPCODE', 'DO_NOT_CONTACT', 'ADDRESS_CONTACT_STATUS', 'MRC_AMOUNT', 'TOTAL_TRANSACTIONS_MADE', 'Churn', 'MEMBERSHIP_TYPE', 'MEMBERSHIP_DURATION', 'MEMBERSHIP_JOIN_YEAR', 'TOTAL_TRANSACTIONS_AMOUNT', 'STATUS', \"GENDER\"]\n",
    "y_columns = ['CURRENT_AGE']\n",
    "\n",
    "z_columns = ['ZIPCODE', 'DO_NOT_CONTACT', 'ADDRESS_CONTACT_STATUS', 'MRC_AMOUNT', 'TOTAL_TRANSACTIONS_MADE', 'Churn', 'MEMBERSHIP_TYPE', 'MEMBERSHIP_DURATION', 'CURRENT_AGE', 'MEMBERSHIP_JOIN_YEAR', 'TOTAL_TRANSACTIONS_AMOUNT', 'STATUS']\n",
    "\n",
    "xx = driver[z_columns]\n",
    "xx = xx[~pd.isna(xx['CURRENT_AGE'])] \n",
    "\n",
    "\n",
    "xx_train = xx.iloc[0:85000, :]\n",
    "\n",
    "\n",
    "xx_train.columns = ['ZIPCODE', 'DO_NOT_CONTACT', 'ADDRESS_CONTACT_STATUS', 'MRC_AMOUNT', 'TOTAL_TRANSACTIONS_MADE', 'Churn', 'MEMBERSHIP_TYPE', 'MEMBERSHIP_DURATION', 'CURRENT_AGE', 'MEMBERSHIP_JOIN_YEAR', 'TOTAL_TRANSACTIONS_AMOUNT', 'STATUS']\n",
    "\n",
    "X = driver[x_columns]\n",
    "Y = driver[y_columns]\n",
    "\n",
    "X_partial = X[~pd.isna(Y['CURRENT_AGE'])] \n",
    "y_partial = Y[~pd.isna(Y['CURRENT_AGE'])]\n",
    "\n",
    "print(len(X_partial.index))\n",
    "\n",
    "X_partial = X = sm.add_constant(X_partial)\n",
    "\n",
    "\n",
    "x_train = X_partial.iloc[0:85000, :]\n",
    "y_train = y_partial.iloc[0:85000, :]\n",
    "\n",
    "\n"
   ]
  },
  {
   "cell_type": "code",
   "execution_count": 135,
   "id": "b4600bc1",
   "metadata": {},
   "outputs": [
    {
     "data": {
      "text/html": [
       "<table class=\"simpletable\">\n",
       "<caption>OLS Regression Results</caption>\n",
       "<tr>\n",
       "  <th>Dep. Variable:</th>       <td>CURRENT_AGE</td>   <th>  R-squared:         </th>  <td>   0.183</td>  \n",
       "</tr>\n",
       "<tr>\n",
       "  <th>Model:</th>                   <td>OLS</td>       <th>  Adj. R-squared:    </th>  <td>   0.183</td>  \n",
       "</tr>\n",
       "<tr>\n",
       "  <th>Method:</th>             <td>Least Squares</td>  <th>  F-statistic:       </th>  <td>   2118.</td>  \n",
       "</tr>\n",
       "<tr>\n",
       "  <th>Date:</th>             <td>Sun, 23 Jan 2022</td> <th>  Prob (F-statistic):</th>   <td>  0.00</td>   \n",
       "</tr>\n",
       "<tr>\n",
       "  <th>Time:</th>                 <td>19:46:20</td>     <th>  Log-Likelihood:    </th> <td>-3.3616e+05</td>\n",
       "</tr>\n",
       "<tr>\n",
       "  <th>No. Observations:</th>      <td> 85000</td>      <th>  AIC:               </th>  <td>6.723e+05</td> \n",
       "</tr>\n",
       "<tr>\n",
       "  <th>Df Residuals:</th>          <td> 84990</td>      <th>  BIC:               </th>  <td>6.724e+05</td> \n",
       "</tr>\n",
       "<tr>\n",
       "  <th>Df Model:</th>              <td>     9</td>      <th>                     </th>      <td> </td>     \n",
       "</tr>\n",
       "<tr>\n",
       "  <th>Covariance Type:</th>      <td>nonrobust</td>    <th>                     </th>      <td> </td>     \n",
       "</tr>\n",
       "</table>\n",
       "<table class=\"simpletable\">\n",
       "<tr>\n",
       "                         <td></td>                            <th>coef</th>     <th>std err</th>      <th>t</th>      <th>P>|t|</th>  <th>[0.025</th>    <th>0.975]</th>  \n",
       "</tr>\n",
       "<tr>\n",
       "  <th>Intercept</th>                                       <td>   59.9664</td> <td>    0.106</td> <td>  566.198</td> <td> 0.000</td> <td>   59.759</td> <td>   60.174</td>\n",
       "</tr>\n",
       "<tr>\n",
       "  <th>MEMBERSHIP_TYPE[T.LEADERSHIP_CIRCLE]</th>            <td>   -2.6428</td> <td>    0.104</td> <td>  -25.520</td> <td> 0.000</td> <td>   -2.846</td> <td>   -2.440</td>\n",
       "</tr>\n",
       "<tr>\n",
       "  <th>MEMBERSHIP_TYPE[T.LEADERSHIP_CIRCLE_AMBASSADOR]</th> <td>   -4.0325</td> <td>    0.278</td> <td>  -14.508</td> <td> 0.000</td> <td>   -4.577</td> <td>   -3.488</td>\n",
       "</tr>\n",
       "<tr>\n",
       "  <th>MEMBERSHIP_TYPE[T.MID_LEVEL]</th>                    <td>   -6.5243</td> <td>    0.569</td> <td>  -11.456</td> <td> 0.000</td> <td>   -7.640</td> <td>   -5.408</td>\n",
       "</tr>\n",
       "<tr>\n",
       "  <th>MEMBERSHIP_TYPE[T.PRESIDENTS_CIRCLE]</th>            <td> -157.5852</td> <td>   19.016</td> <td>   -8.287</td> <td> 0.000</td> <td> -194.856</td> <td> -120.314</td>\n",
       "</tr>\n",
       "<tr>\n",
       "  <th>MEMBERSHIP_TYPE[T.SIGNAL_SOCIETY]</th>               <td>   -2.6027</td> <td>    7.316</td> <td>   -0.356</td> <td> 0.722</td> <td>  -16.941</td> <td>   11.736</td>\n",
       "</tr>\n",
       "<tr>\n",
       "  <th>MRC_AMOUNT</th>                                      <td>    0.0057</td> <td>    0.001</td> <td>   10.916</td> <td> 0.000</td> <td>    0.005</td> <td>    0.007</td>\n",
       "</tr>\n",
       "<tr>\n",
       "  <th>TOTAL_TRANSACTIONS_MADE</th>                         <td>   -0.0228</td> <td>    0.001</td> <td>  -22.143</td> <td> 0.000</td> <td>   -0.025</td> <td>   -0.021</td>\n",
       "</tr>\n",
       "<tr>\n",
       "  <th>Churn</th>                                           <td>    0.4544</td> <td>    0.107</td> <td>    4.254</td> <td> 0.000</td> <td>    0.245</td> <td>    0.664</td>\n",
       "</tr>\n",
       "<tr>\n",
       "  <th>MEMBERSHIP_DURATION</th>                             <td>    0.5065</td> <td>    0.004</td> <td>  127.913</td> <td> 0.000</td> <td>    0.499</td> <td>    0.514</td>\n",
       "</tr>\n",
       "</table>\n",
       "<table class=\"simpletable\">\n",
       "<tr>\n",
       "  <th>Omnibus:</th>       <td>375.436</td> <th>  Durbin-Watson:     </th> <td>   1.674</td>\n",
       "</tr>\n",
       "<tr>\n",
       "  <th>Prob(Omnibus):</th> <td> 0.000</td>  <th>  Jarque-Bera (JB):  </th> <td> 290.915</td>\n",
       "</tr>\n",
       "<tr>\n",
       "  <th>Skew:</th>          <td>-0.054</td>  <th>  Prob(JB):          </th> <td>6.74e-64</td>\n",
       "</tr>\n",
       "<tr>\n",
       "  <th>Kurtosis:</th>      <td> 2.734</td>  <th>  Cond. No.          </th> <td>8.01e+04</td>\n",
       "</tr>\n",
       "</table><br/><br/>Notes:<br/>[1] Standard Errors assume that the covariance matrix of the errors is correctly specified.<br/>[2] The condition number is large, 8.01e+04. This might indicate that there are<br/>strong multicollinearity or other numerical problems."
      ],
      "text/plain": [
       "<class 'statsmodels.iolib.summary.Summary'>\n",
       "\"\"\"\n",
       "                            OLS Regression Results                            \n",
       "==============================================================================\n",
       "Dep. Variable:            CURRENT_AGE   R-squared:                       0.183\n",
       "Model:                            OLS   Adj. R-squared:                  0.183\n",
       "Method:                 Least Squares   F-statistic:                     2118.\n",
       "Date:                Sun, 23 Jan 2022   Prob (F-statistic):               0.00\n",
       "Time:                        19:46:20   Log-Likelihood:            -3.3616e+05\n",
       "No. Observations:               85000   AIC:                         6.723e+05\n",
       "Df Residuals:                   84990   BIC:                         6.724e+05\n",
       "Df Model:                           9                                         \n",
       "Covariance Type:            nonrobust                                         \n",
       "===================================================================================================================\n",
       "                                                      coef    std err          t      P>|t|      [0.025      0.975]\n",
       "-------------------------------------------------------------------------------------------------------------------\n",
       "Intercept                                          59.9664      0.106    566.198      0.000      59.759      60.174\n",
       "MEMBERSHIP_TYPE[T.LEADERSHIP_CIRCLE]               -2.6428      0.104    -25.520      0.000      -2.846      -2.440\n",
       "MEMBERSHIP_TYPE[T.LEADERSHIP_CIRCLE_AMBASSADOR]    -4.0325      0.278    -14.508      0.000      -4.577      -3.488\n",
       "MEMBERSHIP_TYPE[T.MID_LEVEL]                       -6.5243      0.569    -11.456      0.000      -7.640      -5.408\n",
       "MEMBERSHIP_TYPE[T.PRESIDENTS_CIRCLE]             -157.5852     19.016     -8.287      0.000    -194.856    -120.314\n",
       "MEMBERSHIP_TYPE[T.SIGNAL_SOCIETY]                  -2.6027      7.316     -0.356      0.722     -16.941      11.736\n",
       "MRC_AMOUNT                                          0.0057      0.001     10.916      0.000       0.005       0.007\n",
       "TOTAL_TRANSACTIONS_MADE                            -0.0228      0.001    -22.143      0.000      -0.025      -0.021\n",
       "Churn                                               0.4544      0.107      4.254      0.000       0.245       0.664\n",
       "MEMBERSHIP_DURATION                                 0.5065      0.004    127.913      0.000       0.499       0.514\n",
       "==============================================================================\n",
       "Omnibus:                      375.436   Durbin-Watson:                   1.674\n",
       "Prob(Omnibus):                  0.000   Jarque-Bera (JB):              290.915\n",
       "Skew:                          -0.054   Prob(JB):                     6.74e-64\n",
       "Kurtosis:                       2.734   Cond. No.                     8.01e+04\n",
       "==============================================================================\n",
       "\n",
       "Notes:\n",
       "[1] Standard Errors assume that the covariance matrix of the errors is correctly specified.\n",
       "[2] The condition number is large, 8.01e+04. This might indicate that there are\n",
       "strong multicollinearity or other numerical problems.\n",
       "\"\"\""
      ]
     },
     "execution_count": 135,
     "metadata": {},
     "output_type": "execute_result"
    }
   ],
   "source": [
    "fit = ols('CURRENT_AGE ~ MRC_AMOUNT + TOTAL_TRANSACTIONS_MADE + Churn + MEMBERSHIP_DURATION + MEMBERSHIP_TYPE + TOTAL_TRANSACTIONS_AMOUNT', data = xx_train).fit() \n",
    "fit.summary()"
   ]
  },
  {
   "cell_type": "code",
   "execution_count": 145,
   "id": "bac35ac2",
   "metadata": {},
   "outputs": [
    {
     "data": {
      "text/plain": [
       "<AxesSubplot:ylabel='Count'>"
      ]
     },
     "execution_count": 145,
     "metadata": {},
     "output_type": "execute_result"
    },
    {
     "data": {
      "image/png": "[encoded data removed]",
      "text/plain": [
       "<Figure size 432x288 with 1 Axes>"
      ]
     },
     "metadata": {
      "needs_background": "light"
     },
     "output_type": "display_data"
    }
   ],
   "source": [
    "xx_test = xx.iloc[85000:, :]\n",
    "\n",
    "flag = ['MRC_AMOUNT', 'TOTAL_TRANSACTIONS_MADE', 'Churn', 'MEMBERSHIP_DURATION', 'MEMBERSHIP_TYPE', 'TOTAL_TRANSACTIONS_AMOUNT']\n",
    "\n",
    "xx_test1 = xx_test[flag]\n",
    "\n",
    "age_predict = list(fit.predict(xx_test1))\n",
    "\n",
    "\n",
    "yy_test = xx_test['CURRENT_AGE']\n",
    "\n",
    "age_test = list(yy_test)\n",
    "\n",
    "sns.histplot(age_test)\n"
   ]
  },
  {
   "cell_type": "code",
   "execution_count": 146,
   "id": "2caa31aa",
   "metadata": {
    "scrolled": true
   },
   "outputs": [
    {
     "name": "stdout",
     "output_type": "stream",
     "text": [
      "RMSE: 11.679704\n"
     ]
    }
   ],
   "source": [
    "### checking the RMSE value of linear regression ###\n",
    "\n",
    "rmse = np.sqrt(mean_squared_error(age_test, age_predict))\n",
    "print(\"RMSE: %f\" % (rmse))\n"
   ]
  },
  {
   "cell_type": "code",
   "execution_count": 143,
   "id": "01cbdbab",
   "metadata": {},
   "outputs": [
    {
     "data": {
      "text/plain": [
       "Series([], Name: CURRENT_AGE, dtype: float64)"
      ]
     },
     "execution_count": 143,
     "metadata": {},
     "output_type": "execute_result"
    }
   ],
   "source": [
    "yy_test"
   ]
  },
  {
   "cell_type": "code",
   "execution_count": 88,
   "id": "5100483a",
   "metadata": {},
   "outputs": [
    {
     "data": {
      "text/plain": [
       "<AxesSubplot:ylabel='Count'>"
      ]
     },
     "execution_count": 88,
     "metadata": {},
     "output_type": "execute_result"
    },
    {
     "data": {
      "image/png": "[encoded data removed]",
      "text/plain": [
       "<Figure size 432x288 with 1 Axes>"
      ]
     },
     "metadata": {
      "needs_background": "light"
     },
     "output_type": "display_data"
    }
   ],
   "source": [
    "yy_test = xx.iloc[85000:, :]\n",
    "yy_test = yy_test['CURRENT_AGE']\n",
    "\n",
    "age = list(yy_test)\n",
    "sns.histplot(age)"
   ]
  },
  {
   "cell_type": "code",
   "execution_count": 148,
   "id": "9e4f5ac9",
   "metadata": {},
   "outputs": [],
   "source": [
    "### using KNN to predict ####\n",
    "\n",
    "x_columns = ['DO_NOT_CONTACT', 'ADDRESS_CONTACT_STATUS', 'MRC_AMOUNT', 'TOTAL_TRANSACTIONS_MADE', 'Churn', 'MEMBERSHIP_DURATION', 'TOTAL_TRANSACTIONS_AMOUNT']\n",
    "\n",
    "\n",
    "### scaling the data ###\n",
    "\n",
    "xx['MRC_AMOUNT'] = (xx['MRC_AMOUNT']-xx['MRC_AMOUNT'].mean())/xx['MRC_AMOUNT'].std()\n",
    "xx['CURRENT_AGE'] = (xx['CURRENT_AGE']-xx['CURRENT_AGE'].mean())/xx['CURRENT_AGE'].std()\n",
    "xx['TOTAL_TRANSACTIONS_MADE'] = (xx['TOTAL_TRANSACTIONS_MADE']-xx['TOTAL_TRANSACTIONS_MADE'].mean())/xx['TOTAL_TRANSACTIONS_MADE'].std()\n",
    "xx['MEMBERSHIP_DURATION'] = (xx['MEMBERSHIP_DURATION']-xx['MEMBERSHIP_DURATION'].mean())/xx['MEMBERSHIP_DURATION'].std()\n",
    "\n",
    "xx['DO_NOT_CONTACT'] = list(1 if i == 'Y' else 0 for i in list(xx['DO_NOT_CONTACT']))\n",
    "xx['ADDRESS_CONTACT_STATUS'] = list(1 if i == 'Y' else 0 for i in list(xx['ADDRESS_CONTACT_STATUS']))\n",
    "\n",
    "X = xx[x_columns]\n",
    "Y = xx['CURRENT_AGE']\n",
    "\n",
    "from sklearn.model_selection import train_test_split\n",
    "X_train, X_test, y_train, y_test = train_test_split(X, Y, test_size=0.20)\n"
   ]
  },
  {
   "cell_type": "code",
   "execution_count": null,
   "id": "6411040e",
   "metadata": {
    "scrolled": true
   },
   "outputs": [],
   "source": []
  },
  {
   "cell_type": "code",
   "execution_count": null,
   "id": "05dea39c",
   "metadata": {},
   "outputs": [],
   "source": []
  },
  {
   "cell_type": "code",
   "execution_count": null,
   "id": "588d5de2",
   "metadata": {},
   "outputs": [],
   "source": []
  },
  {
   "cell_type": "code",
   "execution_count": 127,
   "id": "8de9ac47",
   "metadata": {},
   "outputs": [
    {
     "name": "stdout",
     "output_type": "stream",
     "text": [
      "[19:37:27] WARNING: /Users/runner/work/xgboost/xgboost/src/learner.cc:576: \n",
      "Parameters: { \"max_iter\", \"tol\" } might not be used.\n",
      "\n",
      "  This could be a false alarm, with some parameters getting used by language bindings but\n",
      "  then being mistakenly passed down to XGBoost core, or some parameter actually being used\n",
      "  but getting flagged wrongly here. Please open an issue if you find any such cases.\n",
      "\n",
      "\n"
     ]
    },
    {
     "data": {
      "text/plain": [
       "XGBRegressor(base_score=0.5, booster='gbtree', colsample_bylevel=1,\n",
       "             colsample_bynode=1, colsample_bytree=1, enable_categorical=False,\n",
       "             gamma=0, gpu_id=-1, importance_type=None,\n",
       "             interaction_constraints='', learning_rate=0.0300000012,\n",
       "             max_delta_step=0, max_depth=10, max_iter=10000, min_child_weight=1,\n",
       "             missing=nan, monotone_constraints='()', n_estimators=100, n_jobs=8,\n",
       "             num_parallel_tree=1, predictor='auto', random_state=0, reg_alpha=0,\n",
       "             reg_lambda=1, scale_pos_weight=1, subsample=1, tol=0.0001,\n",
       "             tree_method='exact', validate_parameters=1, verbosity=None)"
      ]
     },
     "execution_count": 127,
     "metadata": {},
     "output_type": "execute_result"
    }
   ],
   "source": [
    "### creating XG boost regression model ###\n",
    "import xgboost as xgb\n",
    "xgb_regressor = xgb.XGBRegressor(max_iter=10000, tol=0.0001, max_depth=10, learning_rate=0.0300000012)\n",
    "xgb_regressor.fit(X_train,y_train)"
   ]
  },
  {
   "cell_type": "code",
   "execution_count": 128,
   "id": "5b160f6f",
   "metadata": {},
   "outputs": [],
   "source": [
    "preds = xgb_regressor.predict(X_test)"
   ]
  },
  {
   "cell_type": "code",
   "execution_count": 129,
   "id": "3c138f5e",
   "metadata": {},
   "outputs": [
    {
     "name": "stdout",
     "output_type": "stream",
     "text": [
      "RMSE: 0.857524\n"
     ]
    }
   ],
   "source": [
    "rmse = np.sqrt(mean_squared_error(y_test, preds))\n",
    "print(\"RMSE: %f\" % (rmse))"
   ]
  },
  {
   "cell_type": "code",
   "execution_count": 130,
   "id": "d83b052c",
   "metadata": {},
   "outputs": [
    {
     "name": "stdout",
     "output_type": "stream",
     "text": [
      "RMSE: 0.794741\n"
     ]
    }
   ],
   "source": [
    "### comparing training data with predction ##\n",
    "\n",
    "  "
   ]
  },
  {
   "cell_type": "code",
   "execution_count": null,
   "id": "2f7f210c",
   "metadata": {},
   "outputs": [],
   "source": []
  },
  {
   "cell_type": "code",
   "execution_count": 121,
   "id": "58d288fe",
   "metadata": {},
   "outputs": [],
   "source": [
    "xx = driver[pd.isna(driver['CURRENT_AGE'])] \n",
    "\n",
    "columns = ['DO_NOT_CONTACT', 'ADDRESS_CONTACT_STATUS', 'MRC_AMOUNT', 'TOTAL_TRANSACTIONS_MADE', 'Churn', 'MEMBERSHIP_DURATION', 'TOTAL_TRANSACTIONS_AMOUNT']\n",
    "\n",
    "xx['MRC_AMOUNT'] = (xx['MRC_AMOUNT']-xx['MRC_AMOUNT'].mean())/xx['MRC_AMOUNT'].std()\n",
    "xx['CURRENT_AGE'] = (xx['CURRENT_AGE']-xx['CURRENT_AGE'].mean())/xx['CURRENT_AGE'].std()\n",
    "xx['TOTAL_TRANSACTIONS_MADE'] = (xx['TOTAL_TRANSACTIONS_MADE']-xx['TOTAL_TRANSACTIONS_MADE'].mean())/xx['TOTAL_TRANSACTIONS_MADE'].std()\n",
    "xx['MEMBERSHIP_DURATION'] = (xx['MEMBERSHIP_DURATION']-xx['MEMBERSHIP_DURATION'].mean())/xx['MEMBERSHIP_DURATION'].std()\n",
    "\n",
    "xx['DO_NOT_CONTACT'] = list(1 if i == 'Y' else 0 for i in list(xx['DO_NOT_CONTACT']))\n",
    "xx['ADDRESS_CONTACT_STATUS'] = list(1 if i == 'Y' else 0 for i in list(xx['ADDRESS_CONTACT_STATUS']))\n",
    "\n",
    "\n",
    "\n",
    "\n",
    "xx_age_test = xx[columns]\n"
   ]
  },
  {
   "cell_type": "code",
   "execution_count": 122,
   "id": "320b52c5",
   "metadata": {},
   "outputs": [
    {
     "data": {
      "text/plain": [
       "<AxesSubplot:ylabel='Count'>"
      ]
     },
     "execution_count": 122,
     "metadata": {},
     "output_type": "execute_result"
    },
    {
     "data": {
      "image/png": "[encoded data removed]",
      "text/plain": [
       "<Figure size 432x288 with 1 Axes>"
      ]
     },
     "metadata": {
      "needs_background": "light"
     },
     "output_type": "display_data"
    }
   ],
   "source": [
    "\n",
    "#### predicting values  for missing age ###\n",
    "\n",
    "preds = xgb_regressor.predict(xx_age_test)\n",
    "sns.histplot(list(preds))"
   ]
  },
  {
   "cell_type": "code",
   "execution_count": null,
   "id": "9e3d7d27",
   "metadata": {},
   "outputs": [],
   "source": []
  },
  {
   "cell_type": "code",
   "execution_count": 193,
   "id": "e7664f4b",
   "metadata": {},
   "outputs": [
    {
     "data": {
      "image/png": "[encoded data removed]",
      "text/plain": [
       "<Figure size 576x396 with 1 Axes>"
      ]
     },
     "metadata": {},
     "output_type": "display_data"
    },
    {
     "data": {
      "text/plain": [
       "<AxesSubplot:title={'center':'LassoCV Alpha Error'}, xlabel='alpha', ylabel='error (or score)'>"
      ]
     },
     "execution_count": 193,
     "metadata": {},
     "output_type": "execute_result"
    }
   ],
   "source": [
    "##### choosing the best alpha ####\n",
    "\n",
    "alphas = list(np.arange(0.001, 1.0, 0.0001))\n",
    "model = LassoCV(alphas=alphas)\n",
    "visualizer = AlphaSelection(model, cv = 10)\n",
    "visualizer.fit(X_train, y_train)\n",
    "visualizer.show()"
   ]
  },
  {
   "cell_type": "code",
   "execution_count": 195,
   "id": "17feb0dc",
   "metadata": {},
   "outputs": [
    {
     "name": "stdout",
     "output_type": "stream",
     "text": [
      "Mean MAE: 0.735 0.026\n"
     ]
    }
   ],
   "source": [
    "### predicting using the alpha value of 0.001 ###\n",
    "\n",
    "\n",
    "model = linear_model.Lasso(alpha=0.01)\n",
    "cv = RepeatedKFold(n_splits=10, n_repeats=3, random_state=1)\n",
    "scores = cross_val_score(model, X_train, y_train, scoring='neg_mean_absolute_error', cv=cv, n_jobs=-1)\n",
    "scores = abs(scores)\n",
    "count += 1\n",
    "print('Mean MAE: %.3f %.3f' % (mean(scores), i))"
   ]
  },
  {
   "cell_type": "code",
   "execution_count": null,
   "id": "da2571f2",
   "metadata": {},
   "outputs": [],
   "source": []
  },
  {
   "cell_type": "code",
   "execution_count": null,
   "id": "7a9bf004",
   "metadata": {},
   "outputs": [],
   "source": [
    "##### XG boost seems to be performing the best ######"
   ]
  },
  {
   "cell_type": "markdown",
   "id": "011229b6",
   "metadata": {},
   "source": [
    "#### now we want to look at predicting gender #####"
   ]
  },
  {
   "cell_type": "code",
   "execution_count": 196,
   "id": "a504a995",
   "metadata": {},
   "outputs": [],
   "source": [
    "## applying logistic regression ##"
   ]
  },
  {
   "cell_type": "code",
   "execution_count": 303,
   "id": "fe51890b",
   "metadata": {},
   "outputs": [
    {
     "name": "stderr",
     "output_type": "stream",
     "text": [
      "<ipython-input-303-05d8274eef3f>:7: SettingWithCopyWarning: \n",
      "A value is trying to be set on a copy of a slice from a DataFrame.\n",
      "Try using .loc[row_indexer,col_indexer] = value instead\n",
      "\n",
      "See the caveats in the documentation: https://pandas.pydata.org/pandas-docs/stable/user_guide/indexing.html#returning-a-view-versus-a-copy\n",
      "  xx['MRC_AMOUNT'] = (xx['MRC_AMOUNT']-xx['MRC_AMOUNT'].mean())/xx['MRC_AMOUNT'].std()\n",
      "<ipython-input-303-05d8274eef3f>:8: SettingWithCopyWarning: \n",
      "A value is trying to be set on a copy of a slice from a DataFrame.\n",
      "Try using .loc[row_indexer,col_indexer] = value instead\n",
      "\n",
      "See the caveats in the documentation: https://pandas.pydata.org/pandas-docs/stable/user_guide/indexing.html#returning-a-view-versus-a-copy\n",
      "  xx['CURRENT_AGE'] = (xx['CURRENT_AGE']-xx['CURRENT_AGE'].mean())/xx['CURRENT_AGE'].std()\n",
      "<ipython-input-303-05d8274eef3f>:9: SettingWithCopyWarning: \n",
      "A value is trying to be set on a copy of a slice from a DataFrame.\n",
      "Try using .loc[row_indexer,col_indexer] = value instead\n",
      "\n",
      "See the caveats in the documentation: https://pandas.pydata.org/pandas-docs/stable/user_guide/indexing.html#returning-a-view-versus-a-copy\n",
      "  xx['TOTAL_TRANSACTIONS_MADE'] = (xx['TOTAL_TRANSACTIONS_MADE']-xx['TOTAL_TRANSACTIONS_MADE'].mean())/xx['TOTAL_TRANSACTIONS_MADE'].std()\n",
      "<ipython-input-303-05d8274eef3f>:10: SettingWithCopyWarning: \n",
      "A value is trying to be set on a copy of a slice from a DataFrame.\n",
      "Try using .loc[row_indexer,col_indexer] = value instead\n",
      "\n",
      "See the caveats in the documentation: https://pandas.pydata.org/pandas-docs/stable/user_guide/indexing.html#returning-a-view-versus-a-copy\n",
      "  xx['MEMBERSHIP_DURATION'] = (xx['MEMBERSHIP_DURATION']-xx['MEMBERSHIP_DURATION'].mean())/xx['MEMBERSHIP_DURATION'].std()\n",
      "<ipython-input-303-05d8274eef3f>:12: SettingWithCopyWarning: \n",
      "A value is trying to be set on a copy of a slice from a DataFrame.\n",
      "Try using .loc[row_indexer,col_indexer] = value instead\n",
      "\n",
      "See the caveats in the documentation: https://pandas.pydata.org/pandas-docs/stable/user_guide/indexing.html#returning-a-view-versus-a-copy\n",
      "  xx['DO_NOT_CONTACT'] = list(1 if i == 'Y' else 0 for i in list(xx['DO_NOT_CONTACT']))\n",
      "<ipython-input-303-05d8274eef3f>:13: SettingWithCopyWarning: \n",
      "A value is trying to be set on a copy of a slice from a DataFrame.\n",
      "Try using .loc[row_indexer,col_indexer] = value instead\n",
      "\n",
      "See the caveats in the documentation: https://pandas.pydata.org/pandas-docs/stable/user_guide/indexing.html#returning-a-view-versus-a-copy\n",
      "  xx['ADDRESS_CONTACT_STATUS'] = list(1 if i == 'Y' else 0 for i in list(xx['ADDRESS_CONTACT_STATUS']))\n"
     ]
    }
   ],
   "source": [
    "z_columns = ['ZIPCODE', 'DO_NOT_CONTACT', 'ADDRESS_CONTACT_STATUS', 'MRC_AMOUNT', 'TOTAL_TRANSACTIONS_MADE', 'Churn', 'MEMBERSHIP_TYPE', 'MEMBERSHIP_DURATION', 'CURRENT_AGE', 'MEMBERSHIP_JOIN_YEAR', 'TOTAL_TRANSACTIONS_AMOUNT', 'GENDER']\n",
    "\n",
    "xx = driver[z_columns] \n",
    "\n",
    "### scaling the data ###\n",
    "\n",
    "xx['MRC_AMOUNT'] = (xx['MRC_AMOUNT']-xx['MRC_AMOUNT'].mean())/xx['MRC_AMOUNT'].std()\n",
    "xx['CURRENT_AGE'] = (xx['CURRENT_AGE']-xx['CURRENT_AGE'].mean())/xx['CURRENT_AGE'].std()\n",
    "xx['TOTAL_TRANSACTIONS_MADE'] = (xx['TOTAL_TRANSACTIONS_MADE']-xx['TOTAL_TRANSACTIONS_MADE'].mean())/xx['TOTAL_TRANSACTIONS_MADE'].std()\n",
    "xx['MEMBERSHIP_DURATION'] = (xx['MEMBERSHIP_DURATION']-xx['MEMBERSHIP_DURATION'].mean())/xx['MEMBERSHIP_DURATION'].std()\n",
    "\n",
    "xx['DO_NOT_CONTACT'] = list(1 if i == 'Y' else 0 for i in list(xx['DO_NOT_CONTACT']))\n",
    "xx['ADDRESS_CONTACT_STATUS'] = list(1 if i == 'Y' else 0 for i in list(xx['ADDRESS_CONTACT_STATUS']))\n",
    "\n",
    "\n",
    "xx = xx[~pd.isna(xx['GENDER'])]\n",
    "\n",
    "columns = ['DO_NOT_CONTACT', 'ADDRESS_CONTACT_STATUS', 'MRC_AMOUNT', 'TOTAL_TRANSACTIONS_MADE', 'Churn', 'MEMBERSHIP_DURATION', 'TOTAL_TRANSACTIONS_AMOUNT']\n",
    "\n",
    "\n",
    "X = xx[columns]\n",
    "Y = xx['GENDER']\n",
    "Y = list(1 if i == \"MALE\" else 0 for i in list(Y))\n",
    "\n",
    "from sklearn.model_selection import train_test_split\n",
    "X_train, X_test, y_train, y_test = train_test_split(X, Y, test_size=0.20)"
   ]
  },
  {
   "cell_type": "code",
   "execution_count": 280,
   "id": "c4782846",
   "metadata": {
    "scrolled": true
   },
   "outputs": [
    {
     "name": "stdout",
     "output_type": "stream",
     "text": [
      "Optimization terminated successfully.\n",
      "         Current function value: 0.664066\n",
      "         Iterations 6\n"
     ]
    }
   ],
   "source": [
    "logit_model = sm.Logit(y_test, sm.add_constant(X_test)).fit()"
   ]
  },
  {
   "cell_type": "code",
   "execution_count": 281,
   "id": "774a042a",
   "metadata": {},
   "outputs": [
    {
     "name": "stdout",
     "output_type": "stream",
     "text": [
      "*******  Prediction *******\n",
      "Prediction\n",
      "0    18256\n",
      "1      539\n",
      "Name: Prediction, dtype: int64\n",
      "*******  Actual  **********\n",
      "Outcome\n",
      "0    11432\n",
      "1     7363\n",
      "Name: Outcome, dtype: int64\n"
     ]
    }
   ],
   "source": [
    "### predicting ###\n",
    "\n",
    "df = pd.DataFrame(list(1 if i > 0.5 else 0 for i in list(logit_model.predict(sm.add_constant(X_test)))))\n",
    "df = df.rename(columns = {0:'Prediction'})\n",
    "prediction = df.groupby('Prediction')['Prediction'].count()\n",
    "prediction\n",
    "\n",
    "print(\"*******  Prediction *******\")\n",
    "print(prediction)\n",
    "print(\"*******  Actual  **********\")\n",
    "y = pd.DataFrame(y_test).reset_index()\n",
    "y.columns = ['index','Outcome']\n",
    "print(pd.DataFrame(y).groupby('Outcome')['Outcome'].count())"
   ]
  },
  {
   "cell_type": "code",
   "execution_count": 282,
   "id": "ae933b19",
   "metadata": {},
   "outputs": [
    {
     "data": {
      "text/plain": [
       "array([[11196,   236],\n",
       "       [ 7060,   303]])"
      ]
     },
     "execution_count": 282,
     "metadata": {},
     "output_type": "execute_result"
    }
   ],
   "source": [
    "confusion_matrix(y_test, df['Prediction'])"
   ]
  },
  {
   "cell_type": "code",
   "execution_count": null,
   "id": "20d72d63",
   "metadata": {},
   "outputs": [],
   "source": []
  },
  {
   "cell_type": "code",
   "execution_count": 258,
   "id": "44c85f46",
   "metadata": {},
   "outputs": [
    {
     "data": {
      "text/plain": [
       "0\n",
       "0    18787\n",
       "1        8\n",
       "Name: 0, dtype: int64"
      ]
     },
     "execution_count": 258,
     "metadata": {},
     "output_type": "execute_result"
    }
   ],
   "source": [
    "#### applying random forest ####\n",
    "\n",
    "clf = RandomForestClassifier(max_depth=4, random_state=0)\n",
    "clf.fit(X_train, y_train)\n",
    "prediction = pd.DataFrame(clf.predict(X_test))\n",
    "prediction.groupby(0)[0].count()"
   ]
  },
  {
   "cell_type": "code",
   "execution_count": 261,
   "id": "36b7eeaa",
   "metadata": {},
   "outputs": [
    {
     "data": {
      "text/plain": [
       "Outcome\n",
       "0    11498\n",
       "1     7297\n",
       "Name: Outcome, dtype: int64"
      ]
     },
     "execution_count": 261,
     "metadata": {},
     "output_type": "execute_result"
    }
   ],
   "source": [
    "y = pd.DataFrame(y_test).reset_index()\n",
    "y.columns = ['index','Outcome']\n",
    "y.groupby('Outcome')['Outcome'].count()"
   ]
  },
  {
   "cell_type": "code",
   "execution_count": null,
   "id": "245a17e3",
   "metadata": {},
   "outputs": [],
   "source": []
  },
  {
   "cell_type": "code",
   "execution_count": 283,
   "id": "425389d1",
   "metadata": {},
   "outputs": [
    {
     "name": "stdout",
     "output_type": "stream",
     "text": [
      "[21:13:59] WARNING: /Users/runner/work/xgboost/xgboost/src/learner.cc:576: \n",
      "Parameters: { \"max_iter\", \"tol\" } might not be used.\n",
      "\n",
      "  This could be a false alarm, with some parameters getting used by language bindings but\n",
      "  then being mistakenly passed down to XGBoost core, or some parameter actually being used\n",
      "  but getting flagged wrongly here. Please open an issue if you find any such cases.\n",
      "\n",
      "\n"
     ]
    },
    {
     "data": {
      "text/plain": [
       "XGBRegressor(base_score=0.5, booster='gbtree', colsample_bylevel=1,\n",
       "             colsample_bynode=1, colsample_bytree=1, enable_categorical=False,\n",
       "             gamma=0, gpu_id=-1, importance_type=None,\n",
       "             interaction_constraints='', learning_rate=0.0300000012,\n",
       "             max_delta_step=0, max_depth=10, max_iter=1000, min_child_weight=1,\n",
       "             missing=nan, monotone_constraints='()', n_estimators=100, n_jobs=8,\n",
       "             num_parallel_tree=1, predictor='auto', random_state=0, reg_alpha=0,\n",
       "             reg_lambda=1, scale_pos_weight=1, subsample=1, tol=0.0001,\n",
       "             tree_method='exact', validate_parameters=1, verbosity=None)"
      ]
     },
     "execution_count": 283,
     "metadata": {},
     "output_type": "execute_result"
    }
   ],
   "source": [
    "#### applying xgboost ####\n",
    "\n",
    "xgb_regressor = xgb.XGBRegressor(max_iter=1000, tol=0.0001, max_depth=10, learning_rate=0.0300000012)\n",
    "xgb_regressor.fit(X_train,y_train)\n"
   ]
  },
  {
   "cell_type": "code",
   "execution_count": 284,
   "id": "a7ddee65",
   "metadata": {},
   "outputs": [
    {
     "data": {
      "text/plain": [
       "0\n",
       "0    18630\n",
       "1      165\n",
       "Name: 0, dtype: int64"
      ]
     },
     "execution_count": 284,
     "metadata": {},
     "output_type": "execute_result"
    }
   ],
   "source": [
    "prediction = xgb_regressor.predict(X_test)\n",
    "prediction = pd.DataFrame(list(1 if i > 0.60 else 0 for i in list(prediction)))\n",
    "prediction.groupby(0)[0].count()"
   ]
  },
  {
   "cell_type": "code",
   "execution_count": 285,
   "id": "c06a659c",
   "metadata": {},
   "outputs": [
    {
     "data": {
      "text/plain": [
       "array([[11360,    72],\n",
       "       [ 7270,    93]])"
      ]
     },
     "execution_count": 285,
     "metadata": {},
     "output_type": "execute_result"
    }
   ],
   "source": [
    "confusion_matrix(y_test, prediction)"
   ]
  },
  {
   "cell_type": "markdown",
   "id": "fb9f789c",
   "metadata": {},
   "source": [
    "## predicting actual gender on the missing values ##"
   ]
  },
  {
   "cell_type": "code",
   "execution_count": 361,
   "id": "0993b64e",
   "metadata": {
    "scrolled": true
   },
   "outputs": [
    {
     "name": "stderr",
     "output_type": "stream",
     "text": [
      "<ipython-input-361-34b00d3cdd8a>:7: SettingWithCopyWarning: \n",
      "A value is trying to be set on a copy of a slice from a DataFrame.\n",
      "Try using .loc[row_indexer,col_indexer] = value instead\n",
      "\n",
      "See the caveats in the documentation: https://pandas.pydata.org/pandas-docs/stable/user_guide/indexing.html#returning-a-view-versus-a-copy\n",
      "  xx['MRC_AMOUNT'] = (xx['MRC_AMOUNT']-xx['MRC_AMOUNT'].mean())/xx['MRC_AMOUNT'].std()\n",
      "<ipython-input-361-34b00d3cdd8a>:8: SettingWithCopyWarning: \n",
      "A value is trying to be set on a copy of a slice from a DataFrame.\n",
      "Try using .loc[row_indexer,col_indexer] = value instead\n",
      "\n",
      "See the caveats in the documentation: https://pandas.pydata.org/pandas-docs/stable/user_guide/indexing.html#returning-a-view-versus-a-copy\n",
      "  xx['CURRENT_AGE'] = (xx['CURRENT_AGE']-xx['CURRENT_AGE'].mean())/xx['CURRENT_AGE'].std()\n",
      "<ipython-input-361-34b00d3cdd8a>:9: SettingWithCopyWarning: \n",
      "A value is trying to be set on a copy of a slice from a DataFrame.\n",
      "Try using .loc[row_indexer,col_indexer] = value instead\n",
      "\n",
      "See the caveats in the documentation: https://pandas.pydata.org/pandas-docs/stable/user_guide/indexing.html#returning-a-view-versus-a-copy\n",
      "  xx['TOTAL_TRANSACTIONS_MADE'] = (xx['TOTAL_TRANSACTIONS_MADE']-xx['TOTAL_TRANSACTIONS_MADE'].mean())/xx['TOTAL_TRANSACTIONS_MADE'].std()\n",
      "<ipython-input-361-34b00d3cdd8a>:10: SettingWithCopyWarning: \n",
      "A value is trying to be set on a copy of a slice from a DataFrame.\n",
      "Try using .loc[row_indexer,col_indexer] = value instead\n",
      "\n",
      "See the caveats in the documentation: https://pandas.pydata.org/pandas-docs/stable/user_guide/indexing.html#returning-a-view-versus-a-copy\n",
      "  xx['MEMBERSHIP_DURATION'] = (xx['MEMBERSHIP_DURATION']-xx['MEMBERSHIP_DURATION'].mean())/xx['MEMBERSHIP_DURATION'].std()\n",
      "<ipython-input-361-34b00d3cdd8a>:12: SettingWithCopyWarning: \n",
      "A value is trying to be set on a copy of a slice from a DataFrame.\n",
      "Try using .loc[row_indexer,col_indexer] = value instead\n",
      "\n",
      "See the caveats in the documentation: https://pandas.pydata.org/pandas-docs/stable/user_guide/indexing.html#returning-a-view-versus-a-copy\n",
      "  xx['DO_NOT_CONTACT'] = list(1 if i == 'Y' else 0 for i in list(xx['DO_NOT_CONTACT']))\n",
      "<ipython-input-361-34b00d3cdd8a>:13: SettingWithCopyWarning: \n",
      "A value is trying to be set on a copy of a slice from a DataFrame.\n",
      "Try using .loc[row_indexer,col_indexer] = value instead\n",
      "\n",
      "See the caveats in the documentation: https://pandas.pydata.org/pandas-docs/stable/user_guide/indexing.html#returning-a-view-versus-a-copy\n",
      "  xx['ADDRESS_CONTACT_STATUS'] = list(1 if i == 'Y' else 0 for i in list(xx['ADDRESS_CONTACT_STATUS']))\n"
     ]
    }
   ],
   "source": [
    "\n",
    "\n",
    "\n",
    "z_columns = ['ZIPCODE', 'DO_NOT_CONTACT', 'ADDRESS_CONTACT_STATUS', 'MRC_AMOUNT', 'TOTAL_TRANSACTIONS_MADE', 'Churn', 'MEMBERSHIP_TYPE', 'MEMBERSHIP_DURATION', 'CURRENT_AGE', 'MEMBERSHIP_JOIN_YEAR', 'TOTAL_TRANSACTIONS_AMOUNT', 'GENDER']\n",
    "\n",
    "xx = driver[z_columns] \n",
    "\n",
    "### scaling the data ###\n",
    "\n",
    "xx['MRC_AMOUNT'] = (xx['MRC_AMOUNT']-xx['MRC_AMOUNT'].mean())/xx['MRC_AMOUNT'].std()\n",
    "xx['CURRENT_AGE'] = (xx['CURRENT_AGE']-xx['CURRENT_AGE'].mean())/xx['CURRENT_AGE'].std()\n",
    "xx['TOTAL_TRANSACTIONS_MADE'] = (xx['TOTAL_TRANSACTIONS_MADE']-xx['TOTAL_TRANSACTIONS_MADE'].mean())/xx['TOTAL_TRANSACTIONS_MADE'].std()\n",
    "xx['MEMBERSHIP_DURATION'] = (xx['MEMBERSHIP_DURATION']-xx['MEMBERSHIP_DURATION'].mean())/xx['MEMBERSHIP_DURATION'].std()\n",
    "\n",
    "xx['DO_NOT_CONTACT'] = list(1 if i == 'Y' else 0 for i in list(xx['DO_NOT_CONTACT']))\n",
    "xx['ADDRESS_CONTACT_STATUS'] = list(1 if i == 'Y' else 0 for i in list(xx['ADDRESS_CONTACT_STATUS']))\n",
    "\n",
    "\n",
    "xx = xx[pd.isna(xx['GENDER'])]\n",
    "\n",
    "columns = ['DO_NOT_CONTACT', 'ADDRESS_CONTACT_STATUS', 'MRC_AMOUNT', 'TOTAL_TRANSACTIONS_MADE', 'Churn', 'MEMBERSHIP_DURATION', 'TOTAL_TRANSACTIONS_AMOUNT']\n",
    "\n",
    "\n",
    "X = xx[columns]\n",
    "Y = xx['GENDER']\n",
    "\n",
    "prediction = xgb_regressor.predict(X)\n",
    "prediction = list(1 if i > 0.60 else 0 for i in list(prediction))"
   ]
  },
  {
   "cell_type": "code",
   "execution_count": 370,
   "id": "e875181d",
   "metadata": {},
   "outputs": [],
   "source": [
    "prediction = list(\"MALE\" if i == 1 else \"FEMALE\" for i in prediction)\n",
    "driver.loc[pd.isna(driver['GENDER']), 'GENDER'] = prediction"
   ]
  },
  {
   "cell_type": "code",
   "execution_count": null,
   "id": "85bdadcc",
   "metadata": {},
   "outputs": [],
   "source": []
  },
  {
   "cell_type": "code",
   "execution_count": null,
   "id": "d21f7024",
   "metadata": {
    "scrolled": true
   },
   "outputs": [],
   "source": []
  },
  {
   "cell_type": "code",
   "execution_count": null,
   "id": "dce61900",
   "metadata": {},
   "outputs": [],
   "source": []
  },
  {
   "cell_type": "code",
   "execution_count": null,
   "id": "21883b9b",
   "metadata": {},
   "outputs": [],
   "source": []
  },
  {
   "cell_type": "code",
   "execution_count": 327,
   "id": "b67e1e06",
   "metadata": {},
   "outputs": [
    {
     "name": "stderr",
     "output_type": "stream",
     "text": [
      "<ipython-input-327-113c998efaf1>:9: SettingWithCopyWarning: \n",
      "A value is trying to be set on a copy of a slice from a DataFrame.\n",
      "Try using .loc[row_indexer,col_indexer] = value instead\n",
      "\n",
      "See the caveats in the documentation: https://pandas.pydata.org/pandas-docs/stable/user_guide/indexing.html#returning-a-view-versus-a-copy\n",
      "  xx['MRC_AMOUNT'] = (xx['MRC_AMOUNT']-xx['MRC_AMOUNT'].mean())/xx['MRC_AMOUNT'].std()\n",
      "<ipython-input-327-113c998efaf1>:10: SettingWithCopyWarning: \n",
      "A value is trying to be set on a copy of a slice from a DataFrame.\n",
      "Try using .loc[row_indexer,col_indexer] = value instead\n",
      "\n",
      "See the caveats in the documentation: https://pandas.pydata.org/pandas-docs/stable/user_guide/indexing.html#returning-a-view-versus-a-copy\n",
      "  xx['CURRENT_AGE'] = (xx['CURRENT_AGE']-xx['CURRENT_AGE'].mean())/xx['CURRENT_AGE'].std()\n",
      "<ipython-input-327-113c998efaf1>:11: SettingWithCopyWarning: \n",
      "A value is trying to be set on a copy of a slice from a DataFrame.\n",
      "Try using .loc[row_indexer,col_indexer] = value instead\n",
      "\n",
      "See the caveats in the documentation: https://pandas.pydata.org/pandas-docs/stable/user_guide/indexing.html#returning-a-view-versus-a-copy\n",
      "  xx['TOTAL_TRANSACTIONS_MADE'] = (xx['TOTAL_TRANSACTIONS_MADE']-xx['TOTAL_TRANSACTIONS_MADE'].mean())/xx['TOTAL_TRANSACTIONS_MADE'].std()\n",
      "<ipython-input-327-113c998efaf1>:12: SettingWithCopyWarning: \n",
      "A value is trying to be set on a copy of a slice from a DataFrame.\n",
      "Try using .loc[row_indexer,col_indexer] = value instead\n",
      "\n",
      "See the caveats in the documentation: https://pandas.pydata.org/pandas-docs/stable/user_guide/indexing.html#returning-a-view-versus-a-copy\n",
      "  xx['MEMBERSHIP_DURATION'] = (xx['MEMBERSHIP_DURATION']-xx['MEMBERSHIP_DURATION'].mean())/xx['MEMBERSHIP_DURATION'].std()\n",
      "<ipython-input-327-113c998efaf1>:14: SettingWithCopyWarning: \n",
      "A value is trying to be set on a copy of a slice from a DataFrame.\n",
      "Try using .loc[row_indexer,col_indexer] = value instead\n",
      "\n",
      "See the caveats in the documentation: https://pandas.pydata.org/pandas-docs/stable/user_guide/indexing.html#returning-a-view-versus-a-copy\n",
      "  xx['DO_NOT_CONTACT'] = list(1 if i == 'Y' else 0 for i in list(xx['DO_NOT_CONTACT']))\n",
      "<ipython-input-327-113c998efaf1>:15: SettingWithCopyWarning: \n",
      "A value is trying to be set on a copy of a slice from a DataFrame.\n",
      "Try using .loc[row_indexer,col_indexer] = value instead\n",
      "\n",
      "See the caveats in the documentation: https://pandas.pydata.org/pandas-docs/stable/user_guide/indexing.html#returning-a-view-versus-a-copy\n",
      "  xx['ADDRESS_CONTACT_STATUS'] = list(1 if i == 'Y' else 0 for i in list(xx['ADDRESS_CONTACT_STATUS']))\n"
     ]
    }
   ],
   "source": [
    "## predicting age for missing values ##\n",
    "\n",
    "z_columns = ['ZIPCODE', 'DO_NOT_CONTACT', 'ADDRESS_CONTACT_STATUS', 'MRC_AMOUNT', 'TOTAL_TRANSACTIONS_MADE', 'Churn', 'MEMBERSHIP_TYPE', 'MEMBERSHIP_DURATION', 'CURRENT_AGE', 'MEMBERSHIP_JOIN_YEAR', 'TOTAL_TRANSACTIONS_AMOUNT', 'GENDER']\n",
    "\n",
    "xx = driver[z_columns] \n",
    "\n",
    "### scaling the data ###\n",
    "\n",
    "xx['MRC_AMOUNT'] = (xx['MRC_AMOUNT']-xx['MRC_AMOUNT'].mean())/xx['MRC_AMOUNT'].std()\n",
    "xx['CURRENT_AGE'] = (xx['CURRENT_AGE']-xx['CURRENT_AGE'].mean())/xx['CURRENT_AGE'].std()\n",
    "xx['TOTAL_TRANSACTIONS_MADE'] = (xx['TOTAL_TRANSACTIONS_MADE']-xx['TOTAL_TRANSACTIONS_MADE'].mean())/xx['TOTAL_TRANSACTIONS_MADE'].std()\n",
    "xx['MEMBERSHIP_DURATION'] = (xx['MEMBERSHIP_DURATION']-xx['MEMBERSHIP_DURATION'].mean())/xx['MEMBERSHIP_DURATION'].std()\n",
    "\n",
    "xx['DO_NOT_CONTACT'] = list(1 if i == 'Y' else 0 for i in list(xx['DO_NOT_CONTACT']))\n",
    "xx['ADDRESS_CONTACT_STATUS'] = list(1 if i == 'Y' else 0 for i in list(xx['ADDRESS_CONTACT_STATUS']))\n",
    "\n",
    "\n",
    "xx = xx[~pd.isna(xx['CURRENT_AGE'])]\n",
    "\n",
    "columns = ['DO_NOT_CONTACT', 'ADDRESS_CONTACT_STATUS', 'MRC_AMOUNT', 'TOTAL_TRANSACTIONS_MADE', 'Churn', 'MEMBERSHIP_DURATION', 'TOTAL_TRANSACTIONS_AMOUNT']\n",
    "\n",
    "\n",
    "mean_age = xx['CURRENT_AGE'].mean()\n",
    "std_age = xx['CURRENT_AGE'].std()\n",
    "\n",
    "\n",
    "X = xx[columns]\n",
    "Y = xx['CURRENT_AGE']\n",
    "\n",
    "from sklearn.model_selection import train_test_split\n",
    "X_train, X_test, y_train, y_test = train_test_split(X, Y, test_size=0.20)"
   ]
  },
  {
   "cell_type": "code",
   "execution_count": 328,
   "id": "f402bf4a",
   "metadata": {},
   "outputs": [
    {
     "name": "stdout",
     "output_type": "stream",
     "text": [
      "[21:37:20] WARNING: /Users/runner/work/xgboost/xgboost/src/learner.cc:576: \n",
      "Parameters: { \"max_iter\", \"tol\" } might not be used.\n",
      "\n",
      "  This could be a false alarm, with some parameters getting used by language bindings but\n",
      "  then being mistakenly passed down to XGBoost core, or some parameter actually being used\n",
      "  but getting flagged wrongly here. Please open an issue if you find any such cases.\n",
      "\n",
      "\n",
      "RMSE: 0.860178\n"
     ]
    }
   ],
   "source": [
    "import xgboost as xgb\n",
    "xgb_regressor = xgb.XGBRegressor(max_iter=10000, tol=0.0001, max_depth=10, learning_rate=0.0300000012)\n",
    "xgb_regressor.fit(X_train,y_train)\n",
    "preds = xgb_regressor.predict(X_test)\n",
    "rmse = np.sqrt(mean_squared_error(y_test, preds))\n",
    "print(\"RMSE: %f\" % (rmse))"
   ]
  },
  {
   "cell_type": "code",
   "execution_count": 375,
   "id": "d2e12d08",
   "metadata": {
    "scrolled": true
   },
   "outputs": [
    {
     "name": "stderr",
     "output_type": "stream",
     "text": [
      "<ipython-input-375-97dd152d5400>:13: SettingWithCopyWarning: \n",
      "A value is trying to be set on a copy of a slice from a DataFrame.\n",
      "Try using .loc[row_indexer,col_indexer] = value instead\n",
      "\n",
      "See the caveats in the documentation: https://pandas.pydata.org/pandas-docs/stable/user_guide/indexing.html#returning-a-view-versus-a-copy\n",
      "  xx['MRC_AMOUNT'] = (xx['MRC_AMOUNT']-xx['MRC_AMOUNT'].mean())/xx['MRC_AMOUNT'].std()\n",
      "<ipython-input-375-97dd152d5400>:14: SettingWithCopyWarning: \n",
      "A value is trying to be set on a copy of a slice from a DataFrame.\n",
      "Try using .loc[row_indexer,col_indexer] = value instead\n",
      "\n",
      "See the caveats in the documentation: https://pandas.pydata.org/pandas-docs/stable/user_guide/indexing.html#returning-a-view-versus-a-copy\n",
      "  xx['CURRENT_AGE'] = (xx['CURRENT_AGE']-xx['CURRENT_AGE'].mean())/xx['CURRENT_AGE'].std()\n",
      "<ipython-input-375-97dd152d5400>:15: SettingWithCopyWarning: \n",
      "A value is trying to be set on a copy of a slice from a DataFrame.\n",
      "Try using .loc[row_indexer,col_indexer] = value instead\n",
      "\n",
      "See the caveats in the documentation: https://pandas.pydata.org/pandas-docs/stable/user_guide/indexing.html#returning-a-view-versus-a-copy\n",
      "  xx['TOTAL_TRANSACTIONS_MADE'] = (xx['TOTAL_TRANSACTIONS_MADE']-xx['TOTAL_TRANSACTIONS_MADE'].mean())/xx['TOTAL_TRANSACTIONS_MADE'].std()\n",
      "<ipython-input-375-97dd152d5400>:16: SettingWithCopyWarning: \n",
      "A value is trying to be set on a copy of a slice from a DataFrame.\n",
      "Try using .loc[row_indexer,col_indexer] = value instead\n",
      "\n",
      "See the caveats in the documentation: https://pandas.pydata.org/pandas-docs/stable/user_guide/indexing.html#returning-a-view-versus-a-copy\n",
      "  xx['MEMBERSHIP_DURATION'] = (xx['MEMBERSHIP_DURATION']-xx['MEMBERSHIP_DURATION'].mean())/xx['MEMBERSHIP_DURATION'].std()\n",
      "<ipython-input-375-97dd152d5400>:18: SettingWithCopyWarning: \n",
      "A value is trying to be set on a copy of a slice from a DataFrame.\n",
      "Try using .loc[row_indexer,col_indexer] = value instead\n",
      "\n",
      "See the caveats in the documentation: https://pandas.pydata.org/pandas-docs/stable/user_guide/indexing.html#returning-a-view-versus-a-copy\n",
      "  xx['DO_NOT_CONTACT'] = list(1 if i == 'Y' else 0 for i in list(xx['DO_NOT_CONTACT']))\n",
      "<ipython-input-375-97dd152d5400>:19: SettingWithCopyWarning: \n",
      "A value is trying to be set on a copy of a slice from a DataFrame.\n",
      "Try using .loc[row_indexer,col_indexer] = value instead\n",
      "\n",
      "See the caveats in the documentation: https://pandas.pydata.org/pandas-docs/stable/user_guide/indexing.html#returning-a-view-versus-a-copy\n",
      "  xx['ADDRESS_CONTACT_STATUS'] = list(1 if i == 'Y' else 0 for i in list(xx['ADDRESS_CONTACT_STATUS']))\n"
     ]
    },
    {
     "name": "stdout",
     "output_type": "stream",
     "text": [
      "[ 0.760234    0.8073455   0.7864921  ...  0.15186322 -0.00402596\n",
      " -0.28596067]\n"
     ]
    }
   ],
   "source": [
    "## predicting age for missing values ##\n",
    "\n",
    "z_columns = ['ZIPCODE', 'DO_NOT_CONTACT', 'ADDRESS_CONTACT_STATUS', 'MRC_AMOUNT', 'TOTAL_TRANSACTIONS_MADE', 'Churn', 'MEMBERSHIP_TYPE', 'MEMBERSHIP_DURATION', 'CURRENT_AGE', 'MEMBERSHIP_JOIN_YEAR', 'TOTAL_TRANSACTIONS_AMOUNT', 'GENDER']\n",
    "\n",
    "xx_z = driver[z_columns] \n",
    "mean_age = xx_z['CURRENT_AGE'].mean()\n",
    "std_age = xx_z['CURRENT_AGE'].std()\n",
    "\n",
    "xx = driver[z_columns] \n",
    "\n",
    "### scaling the data ###\n",
    "\n",
    "xx['MRC_AMOUNT'] = (xx['MRC_AMOUNT']-xx['MRC_AMOUNT'].mean())/xx['MRC_AMOUNT'].std()\n",
    "xx['CURRENT_AGE'] = (xx['CURRENT_AGE']-xx['CURRENT_AGE'].mean())/xx['CURRENT_AGE'].std()\n",
    "xx['TOTAL_TRANSACTIONS_MADE'] = (xx['TOTAL_TRANSACTIONS_MADE']-xx['TOTAL_TRANSACTIONS_MADE'].mean())/xx['TOTAL_TRANSACTIONS_MADE'].std()\n",
    "xx['MEMBERSHIP_DURATION'] = (xx['MEMBERSHIP_DURATION']-xx['MEMBERSHIP_DURATION'].mean())/xx['MEMBERSHIP_DURATION'].std()\n",
    "\n",
    "xx['DO_NOT_CONTACT'] = list(1 if i == 'Y' else 0 for i in list(xx['DO_NOT_CONTACT']))\n",
    "xx['ADDRESS_CONTACT_STATUS'] = list(1 if i == 'Y' else 0 for i in list(xx['ADDRESS_CONTACT_STATUS']))\n",
    "\n",
    "\n",
    "\n",
    "\n",
    "xx = xx[pd.isna(xx['CURRENT_AGE'])]\n",
    "\n",
    "columns = ['DO_NOT_CONTACT', 'ADDRESS_CONTACT_STATUS', 'MRC_AMOUNT', 'TOTAL_TRANSACTIONS_MADE', 'Churn', 'MEMBERSHIP_DURATION', 'TOTAL_TRANSACTIONS_AMOUNT']\n",
    "\n",
    "\n",
    "\n",
    "\n",
    "X = xx[columns]\n",
    "\n",
    "preds = xgb_regressor.predict(X)\n",
    "\n",
    "print(preds)\n",
    "\n",
    "preds = list(i*std_age+mean_age for i in preds)\n",
    "\n"
   ]
  },
  {
   "cell_type": "code",
   "execution_count": 378,
   "id": "c222f9f3",
   "metadata": {},
   "outputs": [],
   "source": [
    "### putting it inside data ###\n",
    "\n",
    "driver.loc[pd.isna(driver['CURRENT_AGE']), 'CURRENT_AGE'] = preds"
   ]
  },
  {
   "cell_type": "code",
   "execution_count": 379,
   "id": "0c1c2c97",
   "metadata": {},
   "outputs": [
    {
     "name": "stdout",
     "output_type": "stream",
     "text": [
      "AxesSubplot(0.125,0.125;0.775x0.755)\n"
     ]
    },
    {
     "data": {
      "image/png": "[encoded data removed]",
      "text/plain": [
       "<Figure size 1080x360 with 3 Axes>"
      ]
     },
     "metadata": {},
     "output_type": "display_data"
    }
   ],
   "source": [
    "#### checking if all the valuea are imputated ####\n",
    "\n",
    "print(mi.bar(driver.iloc[:,0:14], figsize = (15,5)))"
   ]
  },
  {
   "cell_type": "code",
   "execution_count": 380,
   "id": "c5c6d1ba",
   "metadata": {},
   "outputs": [],
   "source": [
    "### saving the file ####\n",
    "\n",
    "driver.to_csv('/Users/rctrj/UCD/Winter/BAX 462/imputated_driver.csv')"
   ]
  }
 ],
 "metadata": {
  "kernelspec": {
   "display_name": "Python 3",
   "language": "python",
   "name": "python3"
  },
  "language_info": {
   "codemirror_mode": {
    "name": "ipython",
    "version": 3
   },
   "file_extension": ".py",
   "mimetype": "text/x-python",
   "name": "python",
   "nbconvert_exporter": "python",
   "pygments_lexer": "ipython3",
   "version": "3.8.8"
  }
 },
 "nbformat": 4,
 "nbformat_minor": 5
}
