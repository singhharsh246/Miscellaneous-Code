{
  "nbformat": 4,
  "nbformat_minor": 0,
  "metadata": {
    "colab": {
      "name": "Downloading_Kickstarter_website_links.ipynb",
      "provenance": [],
      "authorship_tag": "ABX9TyOJsIebQcBwcHLZrCpzmbk7",
      "include_colab_link": true
    },
    "kernelspec": {
      "name": "python3",
      "display_name": "Python 3"
    },
    "language_info": {
      "name": "python"
    }
  },
  "cells": [
    {
      "cell_type": "markdown",
      "metadata": {
        "id": "view-in-github",
        "colab_type": "text"
      },
      "source": [
        "<a href=\"https://colab.research.google.com/github/singhharsh246/Miscellaneous-Code/blob/main/Downloading_Kickstarter_website_links.ipynb\" target=\"_parent\"><img src=\"https://colab.research.google.com/assets/colab-badge.svg\" alt=\"Open In Colab\"/></a>"
      ]
    },
    {
      "cell_type": "code",
      "execution_count": 1,
      "metadata": {
        "id": "5KW_9nFZzuAR"
      },
      "outputs": [],
      "source": [
        "import pandas as pd\n",
        "from datetime import date\n",
        "import os\n",
        "import re\n",
        "import requests\n",
        "import shutil\n",
        "import time"
      ]
    },
    {
      "cell_type": "code",
      "source": [
        "from google.colab import drive\n",
        "drive.mount(\"/content/drive\")"
      ],
      "metadata": {
        "colab": {
          "base_uri": "https://localhost:8080/"
        },
        "id": "YKaeJnGT0HGE",
        "outputId": "dc926b66-8b40-4bc7-fbe7-870d5a56d2ee"
      },
      "execution_count": 2,
      "outputs": [
        {
          "output_type": "stream",
          "name": "stdout",
          "text": [
            "Mounted at /content/drive\n"
          ]
        }
      ]
    },
    {
      "cell_type": "code",
      "source": [
        "header = {\n",
        "        \"user-agent\": \"Mozilla/5.0 (Windows NT 10.0; Win64; x64) AppleWebKit/537.36 (KHTML, like Gecko) Chrome/74.0.3729.169 Safari/537.36\" ,\n",
        "        \"authority\": \"www.tagesschau.de\",\n",
        "        \"method\": \"GET\",\n",
        "        \"path\":\"/\",\n",
        "        \"scheme\":\"https\",\n",
        "        \"accept\": \"text/html,application/xhtml+xml,application/xml;q=0.9,image/webp,image/apng,*/*;q=0.8,application/signed-exchange;v=b3;q=0.9\",\n",
        "        \"accept-encoding\": \"gzip, deflate, br\",\n",
        "        \"accept-language\": \"en-US,en;q=0.9,de;q=0.8\",\n",
        "        \"cache-control\": \"max-age=0\",\n",
        "        \"cookie\": \"atuserid=%7B%22name%22%3A%22atuserid%22%2C%22val%22%3A%2257ea5dd6-4c35-4982-942f-8a7f8b8c3a4b%22%2C%22options%22%3A%7B%22end%22%3A%222023-02-17T05%3A02%3A59.936Z%22%2C%22path%22%3A%22%2F%22%7D%7D; atidvisitor=%7B%22name%22%3A%22atidvisitor%22%2C%22val%22%3A%7B%22vrn%22%3A%22-595936-%22%7D%2C%22options%22%3A%7B%22path%22%3A%22%2F%22%2C%22session%22%3A15724800%2C%22end%22%3A15724800%7D%7D\",\n",
        "        \"sec-ch-ua-mobile\": \"?0\",\n",
        "        \"sec-ch-ua-platform\": \"Windows\",\n",
        "        \"sec-fetch-dest\": \"document\",\n",
        "        \"sec-fetch-mode\": \"navigate\",\n",
        "        \"sec-fetch-site\": \"none\",\n",
        "        \"sec-fetch-user\": \"?1\",\n",
        "        \"upgrade-insecure-requests\": \"1\"\n",
        "    }\n",
        "\n",
        "\n",
        "os.chdir(\"/content/drive/MyDrive/Kickstarter_html_files\")\n",
        "\n",
        "def kickstarter_comments():\n",
        "\n",
        "        \"\"\"\n",
        "        The function is written to get the links of all profiles that conatains \n",
        "        more than zero commnts. \n",
        "        comment: Total number of comments on the profile\n",
        "        p_id: project id mentioned in the data \n",
        "\n",
        "        This will create a file and append all the links in it.\n",
        "        \"\"\"\n",
        "\n",
        "        mega_data = pd.read_csv('mega.csv')\n",
        "\n",
        "        file_object = open(\"url_link.csv\", \"a\")\n",
        "        count = 0\n",
        "\n",
        "        for filename in os.listdir(os.getcwd()):\n",
        "                with open(os.path.join(os.getcwd(), filename), 'r') as f:\n",
        "                        name = filename.split(\".\")[0]\n",
        "                        df = pd.read_csv(f, sep='delimiter', header=None)\n",
        "\n",
        "                        comments = (list(int(re.search(r\"(project_comments_count)\\\"\\\":(\\d*)\", df.iloc[i, 0]).group(\n",
        "                                2)) if \"project_comments_count\" in df.iloc[i, 0] else 0 for i in\n",
        "                                         range(1, len(df.iloc[:, 0]))))\n",
        "                        comments = max(comments)\n",
        "\n",
        "                        p_id = (list(int(re.search(r\"(project_pid)\\\"\\\":\\\"\\\"(\\d*)\", df.iloc[i, 0]).group(\n",
        "                                2)) if \"project_comments_count\" in df.iloc[i, 0] else 0 for i in\n",
        "                                     range(1, len(df.iloc[:, 0]))))\n",
        "                        p_id = max(p_id)\n",
        "                        print(p_id, comment)\n",
        "                        if (comments > 0):\n",
        "                                kt = mega_data[mega_data['id'] == p_id]\n",
        "                                kt = kt['urls']\n",
        "\n",
        "                                for jj in kt:\n",
        "                                        try:\n",
        "                                                link = re.search(r\"(https.*)\\\"(.*)\", jj).group(1)\n",
        "                                                file_object.write(link + \"\\n\")\n",
        "                                                count += 1\n",
        "                                        except:\n",
        "                                                pass\n",
        "\n",
        "                if count > 1001:\n",
        "                        break\n",
        "\n",
        "        file_object.close()\n",
        "\n",
        "\n",
        "if __name__ == \"__main__\":\n",
        "        kickstarter_comments()"
      ],
      "metadata": {
        "id": "5eUawSphz2L5"
      },
      "execution_count": null,
      "outputs": []
    },
    {
      "cell_type": "code",
      "source": [
        ""
      ],
      "metadata": {
        "id": "LkqveHf2z2bG"
      },
      "execution_count": null,
      "outputs": []
    },
    {
      "cell_type": "code",
      "source": [
        ""
      ],
      "metadata": {
        "id": "oWkVhUAGz2kb"
      },
      "execution_count": null,
      "outputs": []
    },
    {
      "cell_type": "code",
      "source": [
        ""
      ],
      "metadata": {
        "id": "B1c63Zzxz2sr"
      },
      "execution_count": null,
      "outputs": []
    },
    {
      "cell_type": "code",
      "source": [
        ""
      ],
      "metadata": {
        "id": "RT9cGCNUz20Z"
      },
      "execution_count": null,
      "outputs": []
    },
    {
      "cell_type": "code",
      "source": [
        ""
      ],
      "metadata": {
        "id": "Vip4a40fz279"
      },
      "execution_count": null,
      "outputs": []
    },
    {
      "cell_type": "code",
      "source": [
        ""
      ],
      "metadata": {
        "id": "z989L21Yz3DK"
      },
      "execution_count": null,
      "outputs": []
    },
    {
      "cell_type": "code",
      "source": [
        ""
      ],
      "metadata": {
        "id": "fB00Yblsz3J3"
      },
      "execution_count": null,
      "outputs": []
    }
  ]
}