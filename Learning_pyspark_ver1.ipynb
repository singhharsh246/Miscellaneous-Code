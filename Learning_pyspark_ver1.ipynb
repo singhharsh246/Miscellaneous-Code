{
  "nbformat": 4,
  "nbformat_minor": 0,
  "metadata": {
    "colab": {
      "name": "PySpark.ipynb",
      "provenance": []
    },
    "kernelspec": {
      "name": "python3",
      "display_name": "Python 3"
    },
    "language_info": {
      "name": "python"
    }
  },
  "cells": [
    {
      "cell_type": "code",
      "execution_count": 2,
      "metadata": {
        "colab": {
          "base_uri": "https://localhost:8080/"
        },
        "id": "8HVTgAe6V4N6",
        "outputId": "630ae93d-8fc1-4f35-edb5-2964fbb3e721"
      },
      "outputs": [
        {
          "output_type": "stream",
          "name": "stdout",
          "text": [
            "Requirement already satisfied: pyspark in /usr/local/lib/python3.7/dist-packages (3.2.1)\n",
            "Requirement already satisfied: py4j==0.10.9.3 in /usr/local/lib/python3.7/dist-packages (from pyspark) (0.10.9.3)\n"
          ]
        }
      ],
      "source": [
        "!pip install pyspark"
      ]
    },
    {
      "cell_type": "code",
      "source": [
        "import pyspark\n",
        "import pandas as pd"
      ],
      "metadata": {
        "id": "a9MtHCmtIB4G"
      },
      "execution_count": 9,
      "outputs": []
    },
    {
      "cell_type": "code",
      "source": [
        "from google.colab import drive\n",
        "drive.mount('/content/drive')"
      ],
      "metadata": {
        "colab": {
          "base_uri": "https://localhost:8080/"
        },
        "id": "DsZPNhpDICLs",
        "outputId": "470d14f4-2da3-41a3-b2be-68f34454e183"
      },
      "execution_count": 8,
      "outputs": [
        {
          "output_type": "stream",
          "name": "stdout",
          "text": [
            "Mounted at /content/drive\n"
          ]
        }
      ]
    },
    {
      "cell_type": "markdown",
      "source": [
        "Everytime we code in pyspark, we have to create a spark session"
      ],
      "metadata": {
        "id": "VQsQ2DvGJELt"
      }
    },
    {
      "cell_type": "code",
      "source": [
        "from pyspark.sql import SparkSession"
      ],
      "metadata": {
        "id": "mxGuy7-_JIR1"
      },
      "execution_count": 10,
      "outputs": []
    },
    {
      "cell_type": "code",
      "source": [
        "spark = SparkSession.builder.appName('Practice').getOrCreate()"
      ],
      "metadata": {
        "id": "Fmkx5QgvICX-"
      },
      "execution_count": 11,
      "outputs": []
    },
    {
      "cell_type": "markdown",
      "source": [
        "On the cloud, we can create multiple instances of the spark and work in parallel. "
      ],
      "metadata": {
        "id": "JI3d0F28JUDU"
      }
    },
    {
      "cell_type": "code",
      "source": [
        "spark"
      ],
      "metadata": {
        "colab": {
          "base_uri": "https://localhost:8080/",
          "height": 222
        },
        "id": "KHR3Yw7RIChD",
        "outputId": "ef76c841-0947-4c05-9e1c-fa78d17b21df"
      },
      "execution_count": 12,
      "outputs": [
        {
          "output_type": "execute_result",
          "data": {
            "text/html": [
              "\n",
              "            <div>\n",
              "                <p><b>SparkSession - in-memory</b></p>\n",
              "                \n",
              "        <div>\n",
              "            <p><b>SparkContext</b></p>\n",
              "\n",
              "            <p><a href=\"http://48d63aa07df8:4040\">Spark UI</a></p>\n",
              "\n",
              "            <dl>\n",
              "              <dt>Version</dt>\n",
              "                <dd><code>v3.2.1</code></dd>\n",
              "              <dt>Master</dt>\n",
              "                <dd><code>local[*]</code></dd>\n",
              "              <dt>AppName</dt>\n",
              "                <dd><code>Practice</code></dd>\n",
              "            </dl>\n",
              "        </div>\n",
              "        \n",
              "            </div>\n",
              "        "
            ],
            "text/plain": [
              "<pyspark.sql.session.SparkSession at 0x7f4f1e147bd0>"
            ]
          },
          "metadata": {},
          "execution_count": 12
        }
      ]
    },
    {
      "cell_type": "code",
      "source": [
        "df_pyspark = spark.read.csv('/content/drive/MyDrive/PySpark/Sample data - Sheet1.csv')"
      ],
      "metadata": {
        "id": "1Llr7-0jJYtC"
      },
      "execution_count": 14,
      "outputs": []
    },
    {
      "cell_type": "code",
      "source": [
        "df_pyspark"
      ],
      "metadata": {
        "colab": {
          "base_uri": "https://localhost:8080/"
        },
        "id": "xWOaxkbKJY7M",
        "outputId": "d6668f38-1545-42a8-d18f-fc7e49934c41"
      },
      "execution_count": 16,
      "outputs": [
        {
          "output_type": "execute_result",
          "data": {
            "text/plain": [
              "DataFrame[_c0: string, _c1: string]"
            ]
          },
          "metadata": {},
          "execution_count": 16
        }
      ]
    },
    {
      "cell_type": "code",
      "source": [
        "df_pyspark.show()"
      ],
      "metadata": {
        "colab": {
          "base_uri": "https://localhost:8080/"
        },
        "id": "y-queW94J72i",
        "outputId": "ffe943e4-e022-4778-dc04-0148c1d326b7"
      },
      "execution_count": 17,
      "outputs": [
        {
          "output_type": "stream",
          "name": "stdout",
          "text": [
            "+---------+---+\n",
            "|      _c0|_c1|\n",
            "+---------+---+\n",
            "|     Name|Age|\n",
            "|Sudhanshu| 23|\n",
            "|    Sunny| 45|\n",
            "|    Mohit| 67|\n",
            "+---------+---+\n",
            "\n"
          ]
        }
      ]
    },
    {
      "cell_type": "markdown",
      "source": [
        "We want to make name and age as the column name"
      ],
      "metadata": {
        "id": "JpW1Nrd2KCRo"
      }
    },
    {
      "cell_type": "code",
      "source": [
        "df_pyspark = spark.read.option('header', 'true').csv('/content/drive/MyDrive/PySpark/Sample data - Sheet1.csv') ### first column will be considered header "
      ],
      "metadata": {
        "id": "YEvQLlDpKBvR"
      },
      "execution_count": 20,
      "outputs": []
    },
    {
      "cell_type": "code",
      "source": [
        "df_pyspark.show()"
      ],
      "metadata": {
        "colab": {
          "base_uri": "https://localhost:8080/"
        },
        "id": "qwnwcE2EJZE1",
        "outputId": "9cd4f05b-adc4-4051-f3ae-9c12170bfb88"
      },
      "execution_count": 21,
      "outputs": [
        {
          "output_type": "stream",
          "name": "stdout",
          "text": [
            "+---------+---+\n",
            "|     Name|Age|\n",
            "+---------+---+\n",
            "|Sudhanshu| 23|\n",
            "|    Sunny| 45|\n",
            "|    Mohit| 67|\n",
            "+---------+---+\n",
            "\n"
          ]
        }
      ]
    },
    {
      "cell_type": "code",
      "source": [
        "type(df_pyspark) ### the data type is not pandas but sql pandas"
      ],
      "metadata": {
        "colab": {
          "base_uri": "https://localhost:8080/"
        },
        "id": "pYKV-wiqJZ4e",
        "outputId": "13338500-2401-44f3-94e6-7df2b4ec77f8"
      },
      "execution_count": 22,
      "outputs": [
        {
          "output_type": "execute_result",
          "data": {
            "text/plain": [
              "pyspark.sql.dataframe.DataFrame"
            ]
          },
          "metadata": {},
          "execution_count": 22
        }
      ]
    },
    {
      "cell_type": "code",
      "source": [
        "df_pyspark.head()"
      ],
      "metadata": {
        "colab": {
          "base_uri": "https://localhost:8080/"
        },
        "id": "GOEYM0n2JaHh",
        "outputId": "0ab329a0-4e34-4dea-ebfb-f39e651ec42e"
      },
      "execution_count": 23,
      "outputs": [
        {
          "output_type": "execute_result",
          "data": {
            "text/plain": [
              "Row(Name='Sudhanshu', Age='23')"
            ]
          },
          "metadata": {},
          "execution_count": 23
        }
      ]
    },
    {
      "cell_type": "code",
      "source": [
        "df_pyspark.printSchema() ### it's like df.info()"
      ],
      "metadata": {
        "colab": {
          "base_uri": "https://localhost:8080/"
        },
        "id": "-Wlj3j_nJaS6",
        "outputId": "662fd31f-b863-48d6-c61a-250db143963b"
      },
      "execution_count": 24,
      "outputs": [
        {
          "output_type": "stream",
          "name": "stdout",
          "text": [
            "root\n",
            " |-- Name: string (nullable = true)\n",
            " |-- Age: string (nullable = true)\n",
            "\n"
          ]
        }
      ]
    },
    {
      "cell_type": "markdown",
      "source": [
        "**Basic functions: Part 1**"
      ],
      "metadata": {
        "id": "gjCM1xmUK4KV"
      }
    },
    {
      "cell_type": "code",
      "source": [
        "df = spark.read.option('header', 'true').csv('/content/drive/MyDrive/PySpark/Sample data - Sheet1(1).csv', inferSchema = True)"
      ],
      "metadata": {
        "id": "gZWR1uXZJacj"
      },
      "execution_count": 30,
      "outputs": []
    },
    {
      "cell_type": "code",
      "source": [
        "df.show()"
      ],
      "metadata": {
        "colab": {
          "base_uri": "https://localhost:8080/"
        },
        "id": "qSz49bjGJalf",
        "outputId": "70dac371-6410-41c9-d2f2-657b1f6d74c8"
      },
      "execution_count": 31,
      "outputs": [
        {
          "output_type": "stream",
          "name": "stdout",
          "text": [
            "+---------+---+----------+\n",
            "|     Name|Age|Experience|\n",
            "+---------+---+----------+\n",
            "|Sudhanshu| 23|        10|\n",
            "|    Sunny| 45|         8|\n",
            "|    Mohit| 67|         4|\n",
            "+---------+---+----------+\n",
            "\n"
          ]
        }
      ]
    },
    {
      "cell_type": "code",
      "source": [
        "type(df)"
      ],
      "metadata": {
        "colab": {
          "base_uri": "https://localhost:8080/"
        },
        "id": "c0yoq1qiJat5",
        "outputId": "77045080-48ad-4934-8cb6-1f349c982dd5"
      },
      "execution_count": 32,
      "outputs": [
        {
          "output_type": "execute_result",
          "data": {
            "text/plain": [
              "pyspark.sql.dataframe.DataFrame"
            ]
          },
          "metadata": {},
          "execution_count": 32
        }
      ]
    },
    {
      "cell_type": "code",
      "source": [
        "### checking the schema ###\n",
        "\n",
        "df.printSchema()"
      ],
      "metadata": {
        "colab": {
          "base_uri": "https://localhost:8080/"
        },
        "id": "VqEP7F2xLbqg",
        "outputId": "23be05ca-0393-489d-b86b-356c5b068d20"
      },
      "execution_count": 33,
      "outputs": [
        {
          "output_type": "stream",
          "name": "stdout",
          "text": [
            "root\n",
            " |-- Name: string (nullable = true)\n",
            " |-- Age: integer (nullable = true)\n",
            " |-- Experience: integer (nullable = true)\n",
            "\n"
          ]
        }
      ]
    },
    {
      "cell_type": "markdown",
      "source": [
        "By default the numbers are being read as string. We have to give another option of infer schema. "
      ],
      "metadata": {
        "id": "ZX0MBwdAMPOx"
      }
    },
    {
      "cell_type": "code",
      "source": [
        "### another way to do it ####"
      ],
      "metadata": {
        "id": "yz7w2qz4LcMi"
      },
      "execution_count": null,
      "outputs": []
    },
    {
      "cell_type": "code",
      "source": [
        "df = spark.read.csv('/content/drive/MyDrive/PySpark/Sample data - Sheet1(1).csv', header = True, inferSchema=True)"
      ],
      "metadata": {
        "id": "rf-qDw8nLcUc"
      },
      "execution_count": 54,
      "outputs": []
    },
    {
      "cell_type": "code",
      "source": [
        "df.show()"
      ],
      "metadata": {
        "colab": {
          "base_uri": "https://localhost:8080/"
        },
        "id": "u5SqNiK2LcdY",
        "outputId": "ee06fe9d-7928-4cce-ac47-418b4d5e9fdd"
      },
      "execution_count": 35,
      "outputs": [
        {
          "output_type": "stream",
          "name": "stdout",
          "text": [
            "+---------+---+----------+\n",
            "|     Name|Age|Experience|\n",
            "+---------+---+----------+\n",
            "|Sudhanshu| 23|        10|\n",
            "|    Sunny| 45|         8|\n",
            "|    Mohit| 67|         4|\n",
            "+---------+---+----------+\n",
            "\n"
          ]
        }
      ]
    },
    {
      "cell_type": "code",
      "source": [
        "df.printSchema()"
      ],
      "metadata": {
        "colab": {
          "base_uri": "https://localhost:8080/"
        },
        "id": "7VgamX8KLckj",
        "outputId": "2c67088a-fe18-42e4-91fc-98d79ae1a61b"
      },
      "execution_count": 36,
      "outputs": [
        {
          "output_type": "stream",
          "name": "stdout",
          "text": [
            "root\n",
            " |-- Name: string (nullable = true)\n",
            " |-- Age: integer (nullable = true)\n",
            " |-- Experience: integer (nullable = true)\n",
            "\n"
          ]
        }
      ]
    },
    {
      "cell_type": "code",
      "source": [
        "### column names ####\n",
        "\n",
        "df.columns"
      ],
      "metadata": {
        "colab": {
          "base_uri": "https://localhost:8080/"
        },
        "id": "Q7NqQvdlLcsM",
        "outputId": "1dd7c4b2-5d8a-4f83-c38c-411f41642cdb"
      },
      "execution_count": 37,
      "outputs": [
        {
          "output_type": "execute_result",
          "data": {
            "text/plain": [
              "['Name', 'Age', 'Experience']"
            ]
          },
          "metadata": {},
          "execution_count": 37
        }
      ]
    },
    {
      "cell_type": "code",
      "source": [
        "### pick up some head elements ###\n",
        "\n",
        "df.head(2)"
      ],
      "metadata": {
        "colab": {
          "base_uri": "https://localhost:8080/"
        },
        "id": "Jph2d3_wLczx",
        "outputId": "9e62f55b-3c73-4ae2-9560-3975a990693a"
      },
      "execution_count": 39,
      "outputs": [
        {
          "output_type": "execute_result",
          "data": {
            "text/plain": [
              "[Row(Name='Sudhanshu', Age=23, Experience=10),\n",
              " Row(Name='Sunny', Age=45, Experience=8)]"
            ]
          },
          "metadata": {},
          "execution_count": 39
        }
      ]
    },
    {
      "cell_type": "code",
      "source": [
        "### selecting a column ###\n",
        "\n",
        "df.select('Name').show()"
      ],
      "metadata": {
        "colab": {
          "base_uri": "https://localhost:8080/"
        },
        "id": "JjoiL1L5Lc64",
        "outputId": "4cc28460-94e9-4af7-ed36-8637972bca5f"
      },
      "execution_count": 41,
      "outputs": [
        {
          "output_type": "stream",
          "name": "stdout",
          "text": [
            "+---------+\n",
            "|     Name|\n",
            "+---------+\n",
            "|Sudhanshu|\n",
            "|    Sunny|\n",
            "|    Mohit|\n",
            "+---------+\n",
            "\n"
          ]
        }
      ]
    },
    {
      "cell_type": "code",
      "source": [
        "### pick up multiple columns ###\n",
        "\n",
        "df.select(['Name', 'Experience']).show()"
      ],
      "metadata": {
        "colab": {
          "base_uri": "https://localhost:8080/"
        },
        "id": "R8p1jCCTLdBS",
        "outputId": "02981704-9dfe-4406-d224-4a8d4f762eed"
      },
      "execution_count": 43,
      "outputs": [
        {
          "output_type": "stream",
          "name": "stdout",
          "text": [
            "+---------+----------+\n",
            "|     Name|Experience|\n",
            "+---------+----------+\n",
            "|Sudhanshu|        10|\n",
            "|    Sunny|         8|\n",
            "|    Mohit|         4|\n",
            "+---------+----------+\n",
            "\n"
          ]
        }
      ]
    },
    {
      "cell_type": "code",
      "source": [
        "df.dtypes"
      ],
      "metadata": {
        "colab": {
          "base_uri": "https://localhost:8080/"
        },
        "id": "bMx9KMJ9LdOy",
        "outputId": "7cbbe63a-8bbf-493e-e967-da931c32294b"
      },
      "execution_count": 47,
      "outputs": [
        {
          "output_type": "execute_result",
          "data": {
            "text/plain": [
              "[('Name', 'string'), ('Age', 'int'), ('Experience', 'int')]"
            ]
          },
          "metadata": {},
          "execution_count": 47
        }
      ]
    },
    {
      "cell_type": "code",
      "source": [
        "df.describe().show()"
      ],
      "metadata": {
        "colab": {
          "base_uri": "https://localhost:8080/"
        },
        "id": "NmM7O8sZLdWZ",
        "outputId": "bb159aae-5252-43c7-c363-a68a4fafd9f1"
      },
      "execution_count": 49,
      "outputs": [
        {
          "output_type": "stream",
          "name": "stdout",
          "text": [
            "+-------+-----+----+-----------------+\n",
            "|summary| Name| Age|       Experience|\n",
            "+-------+-----+----+-----------------+\n",
            "|  count|    3|   3|                3|\n",
            "|   mean| null|45.0|7.333333333333333|\n",
            "| stddev| null|22.0|3.055050463303893|\n",
            "|    min|Mohit|  23|                4|\n",
            "|    max|Sunny|  67|               10|\n",
            "+-------+-----+----+-----------------+\n",
            "\n"
          ]
        }
      ]
    },
    {
      "cell_type": "code",
      "source": [
        "#### adding columns in dataframe #####\n",
        "\n",
        "df = df.withColumn('Experience After 2 years', df['Experience'] + 2)"
      ],
      "metadata": {
        "id": "XI79KybRNo2S"
      },
      "execution_count": 55,
      "outputs": []
    },
    {
      "cell_type": "code",
      "source": [
        "df.show()"
      ],
      "metadata": {
        "colab": {
          "base_uri": "https://localhost:8080/"
        },
        "id": "5dnj-y10No-i",
        "outputId": "1292db16-08c3-4386-e852-3ac252213228"
      },
      "execution_count": 56,
      "outputs": [
        {
          "output_type": "stream",
          "name": "stdout",
          "text": [
            "+---------+---+----------+------------------------+\n",
            "|     Name|Age|Experience|Experience After 2 years|\n",
            "+---------+---+----------+------------------------+\n",
            "|Sudhanshu| 23|        10|                      12|\n",
            "|    Sunny| 45|         8|                      10|\n",
            "|    Mohit| 67|         4|                       6|\n",
            "+---------+---+----------+------------------------+\n",
            "\n"
          ]
        }
      ]
    },
    {
      "cell_type": "code",
      "source": [
        "### drop the columns ###\n",
        "\n",
        "df = df.drop('Experience After 2 years')"
      ],
      "metadata": {
        "id": "bKtfjfdKNpGW"
      },
      "execution_count": 59,
      "outputs": []
    },
    {
      "cell_type": "code",
      "source": [
        "df.show()"
      ],
      "metadata": {
        "colab": {
          "base_uri": "https://localhost:8080/"
        },
        "id": "hPLSH0c4NpNv",
        "outputId": "adf5eb83-7f83-4896-9453-a074178d38a5"
      },
      "execution_count": 60,
      "outputs": [
        {
          "output_type": "stream",
          "name": "stdout",
          "text": [
            "+---------+---+----------+\n",
            "|     Name|Age|Experience|\n",
            "+---------+---+----------+\n",
            "|Sudhanshu| 23|        10|\n",
            "|    Sunny| 45|         8|\n",
            "|    Mohit| 67|         4|\n",
            "+---------+---+----------+\n",
            "\n"
          ]
        }
      ]
    },
    {
      "cell_type": "code",
      "source": [
        "### rename the columns ###\n",
        "\n",
        "df.withColumnRenamed('Name', 'New Name').show()"
      ],
      "metadata": {
        "colab": {
          "base_uri": "https://localhost:8080/"
        },
        "id": "I8kVjXU6NpVR",
        "outputId": "4c0d653d-a4b7-4e8d-85df-6eb80ecea110"
      },
      "execution_count": 61,
      "outputs": [
        {
          "output_type": "stream",
          "name": "stdout",
          "text": [
            "+---------+---+----------+\n",
            "| New Name|Age|Experience|\n",
            "+---------+---+----------+\n",
            "|Sudhanshu| 23|        10|\n",
            "|    Sunny| 45|         8|\n",
            "|    Mohit| 67|         4|\n",
            "+---------+---+----------+\n",
            "\n"
          ]
        }
      ]
    },
    {
      "cell_type": "code",
      "source": [
        "df.show()"
      ],
      "metadata": {
        "colab": {
          "base_uri": "https://localhost:8080/"
        },
        "id": "-Q01zahANpdB",
        "outputId": "5d46309e-5bf8-4bee-acc0-98ef627deba8"
      },
      "execution_count": 62,
      "outputs": [
        {
          "output_type": "stream",
          "name": "stdout",
          "text": [
            "+---------+---+----------+\n",
            "|     Name|Age|Experience|\n",
            "+---------+---+----------+\n",
            "|Sudhanshu| 23|        10|\n",
            "|    Sunny| 45|         8|\n",
            "|    Mohit| 67|         4|\n",
            "+---------+---+----------+\n",
            "\n"
          ]
        }
      ]
    },
    {
      "cell_type": "code",
      "source": [
        "#### reading the file again ####\n",
        "\n",
        "df = spark.read.csv('/content/drive/MyDrive/PySpark/Sample data - Sheet1.csv', header = True, inferSchema=True)"
      ],
      "metadata": {
        "id": "FGgVzmWqNplG"
      },
      "execution_count": 65,
      "outputs": []
    },
    {
      "cell_type": "code",
      "source": [
        "df.show()"
      ],
      "metadata": {
        "colab": {
          "base_uri": "https://localhost:8080/"
        },
        "id": "wJzlMPzxNptJ",
        "outputId": "f773c685-f01b-4059-a505-eaeacdf05d65"
      },
      "execution_count": 66,
      "outputs": [
        {
          "output_type": "stream",
          "name": "stdout",
          "text": [
            "+---------+---+----------+------+\n",
            "|     Name|Age|Experience|Salary|\n",
            "+---------+---+----------+------+\n",
            "|Sudhanshu| 23|        10|  2000|\n",
            "|    Sunny| 45|         8|  3445|\n",
            "|    Mohit| 67|         4|  3400|\n",
            "|   Harsha| 34|         1|  1200|\n",
            "|  Shubham| 54|        13|  3211|\n",
            "|   Mahesh| 23|         4|  2355|\n",
            "|     Paul| 68|         6|  3230|\n",
            "|     null| 34|        10|  3500|\n",
            "|     null| 23|      null|  null|\n",
            "+---------+---+----------+------+\n",
            "\n"
          ]
        }
      ]
    },
    {
      "cell_type": "code",
      "source": [
        "### drop a column ###\n",
        "\n",
        "df.drop('Name').show()"
      ],
      "metadata": {
        "colab": {
          "base_uri": "https://localhost:8080/"
        },
        "id": "h3gIDWMgNp0O",
        "outputId": "818bdff4-1d9e-4e9b-c230-c66a6ee5fc73"
      },
      "execution_count": 67,
      "outputs": [
        {
          "output_type": "stream",
          "name": "stdout",
          "text": [
            "+---+----------+------+\n",
            "|Age|Experience|Salary|\n",
            "+---+----------+------+\n",
            "| 23|        10|  2000|\n",
            "| 45|         8|  3445|\n",
            "| 67|         4|  3400|\n",
            "| 34|         1|  1200|\n",
            "| 54|        13|  3211|\n",
            "| 23|         4|  2355|\n",
            "| 68|         6|  3230|\n",
            "| 34|        10|  3500|\n",
            "| 23|      null|  null|\n",
            "+---+----------+------+\n",
            "\n"
          ]
        }
      ]
    },
    {
      "cell_type": "code",
      "source": [
        "### drop all the rows with null values ###\n",
        "\n",
        "df.na.drop().show()"
      ],
      "metadata": {
        "colab": {
          "base_uri": "https://localhost:8080/"
        },
        "id": "ybBhy9u3Np8C",
        "outputId": "9e47126a-470c-490b-954a-5380ff6fe66e"
      },
      "execution_count": 68,
      "outputs": [
        {
          "output_type": "stream",
          "name": "stdout",
          "text": [
            "+---------+---+----------+------+\n",
            "|     Name|Age|Experience|Salary|\n",
            "+---------+---+----------+------+\n",
            "|Sudhanshu| 23|        10|  2000|\n",
            "|    Sunny| 45|         8|  3445|\n",
            "|    Mohit| 67|         4|  3400|\n",
            "|   Harsha| 34|         1|  1200|\n",
            "|  Shubham| 54|        13|  3211|\n",
            "|   Mahesh| 23|         4|  2355|\n",
            "|     Paul| 68|         6|  3230|\n",
            "+---------+---+----------+------+\n",
            "\n"
          ]
        }
      ]
    },
    {
      "cell_type": "code",
      "source": [
        "#### any == how\n",
        "\n",
        "df.na.drop(how = 'any').show()"
      ],
      "metadata": {
        "colab": {
          "base_uri": "https://localhost:8080/"
        },
        "id": "2U4SPkjuNqDm",
        "outputId": "904ffc98-eb2e-4cef-ad23-ca12792dc8be"
      },
      "execution_count": 69,
      "outputs": [
        {
          "output_type": "stream",
          "name": "stdout",
          "text": [
            "+---------+---+----------+------+\n",
            "|     Name|Age|Experience|Salary|\n",
            "+---------+---+----------+------+\n",
            "|Sudhanshu| 23|        10|  2000|\n",
            "|    Sunny| 45|         8|  3445|\n",
            "|    Mohit| 67|         4|  3400|\n",
            "|   Harsha| 34|         1|  1200|\n",
            "|  Shubham| 54|        13|  3211|\n",
            "|   Mahesh| 23|         4|  2355|\n",
            "|     Paul| 68|         6|  3230|\n",
            "+---------+---+----------+------+\n",
            "\n"
          ]
        }
      ]
    },
    {
      "cell_type": "code",
      "source": [
        "df.na.drop(how = 'all').show()"
      ],
      "metadata": {
        "colab": {
          "base_uri": "https://localhost:8080/"
        },
        "id": "2KHGvZp6NqKX",
        "outputId": "b3047e6c-6bda-453b-96b3-aaf3e36e5b3f"
      },
      "execution_count": 70,
      "outputs": [
        {
          "output_type": "stream",
          "name": "stdout",
          "text": [
            "+---------+---+----------+------+\n",
            "|     Name|Age|Experience|Salary|\n",
            "+---------+---+----------+------+\n",
            "|Sudhanshu| 23|        10|  2000|\n",
            "|    Sunny| 45|         8|  3445|\n",
            "|    Mohit| 67|         4|  3400|\n",
            "|   Harsha| 34|         1|  1200|\n",
            "|  Shubham| 54|        13|  3211|\n",
            "|   Mahesh| 23|         4|  2355|\n",
            "|     Paul| 68|         6|  3230|\n",
            "|     null| 34|        10|  3500|\n",
            "|     null| 23|      null|  null|\n",
            "+---------+---+----------+------+\n",
            "\n"
          ]
        }
      ]
    },
    {
      "cell_type": "code",
      "source": [
        ""
      ],
      "metadata": {
        "id": "_pVrYrbHLdc-"
      },
      "execution_count": null,
      "outputs": []
    }
  ]
}